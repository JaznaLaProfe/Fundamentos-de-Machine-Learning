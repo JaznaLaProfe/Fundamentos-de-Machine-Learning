{
  "nbformat": 4,
  "nbformat_minor": 0,
  "metadata": {
    "colab": {
      "provenance": []
    },
    "kernelspec": {
      "name": "python3",
      "display_name": "Python 3"
    },
    "language_info": {
      "name": "python"
    }
  },
  "cells": [
    {
      "cell_type": "markdown",
      "source": [
        "# Ejercicio de aplicación\n",
        "\n",
        "**Autor:** Jazna Meza Hidalgo\n",
        "\n",
        "**Correo Electrónico:** ja.meza@profesor.duoc.cl\n",
        "\n",
        "**Fecha de Creación:** Septiembre de 2025  \n",
        "**Versión:** 1.0  \n",
        "\n",
        "---\n",
        "\n",
        "## Descripción\n",
        "\n",
        "Ejercicio para poner en práctica las actividades asociadas a las fases 2 y 3 de la metodología `CRISP-DM`\n",
        "\n",
        "En la fase 2 de entendimiento de los datos se centra la atención en revisar la calidad de los datos buscando:\n",
        "\n",
        "+ Datos faltantes,\n",
        "+ Datos duplicados,\n",
        "+ Inconsistencia en los datos.\n",
        "\n",
        "El objetivo es *obtener un conjunto de datos: consistente, libre de valores faltantes y sin duplicados.*\n",
        "\n",
        "---\n",
        "\n",
        "## Requisitos de Software\n",
        "\n",
        "Este notebook fue desarrollado con Python 3.9. A continuación se listan las bibliotecas necesarias:\n",
        "\n",
        "- pandas (>=1.1.0)\n",
        "- numpy (1.26.4)\n",
        "- matplotlib (3.7.1)\n",
        "- seaborn (0.13.1)\n",
        "- sklearn (1.6.0)\n",
        "\n",
        "Para verificar la versión instalada ejecutar usando el siguiente comando, usando la librería de la cual quieres saber la versión:\n",
        "\n",
        "```bash\n",
        "import pandas as pd\n",
        "print(pd.__version__)\n",
        "````"
      ],
      "metadata": {
        "id": "4HVTLvvL50RC"
      }
    },
    {
      "cell_type": "code",
      "execution_count": null,
      "metadata": {
        "colab": {
          "base_uri": "https://localhost:8080/"
        },
        "id": "DGPCiuH242S1",
        "outputId": "b4c46133-6181-4245-b7ba-4a181d0abb3a"
      },
      "outputs": [
        {
          "output_type": "stream",
          "name": "stdout",
          "text": [
            "--2025-09-13 21:06:49--  https://raw.githubusercontent.com/JaznaLaProfe/Fundamentos-de-Machine-Learning/master/data/ventas_techstore.csv\n",
            "Resolving raw.githubusercontent.com (raw.githubusercontent.com)... 185.199.110.133, 185.199.111.133, 185.199.109.133, ...\n",
            "Connecting to raw.githubusercontent.com (raw.githubusercontent.com)|185.199.110.133|:443... connected.\n",
            "HTTP request sent, awaiting response... 200 OK\n",
            "Length: 438746 (428K) [text/plain]\n",
            "Saving to: ‘ventas_techstore.csv’\n",
            "\n",
            "\rventas_techstore.cs   0%[                    ]       0  --.-KB/s               \rventas_techstore.cs 100%[===================>] 428.46K  --.-KB/s    in 0.005s  \n",
            "\n",
            "2025-09-13 21:06:49 (79.9 MB/s) - ‘ventas_techstore.csv’ saved [438746/438746]\n",
            "\n"
          ]
        }
      ],
      "source": [
        "!wget https://raw.githubusercontent.com/JaznaLaProfe/Fundamentos-de-Machine-Learning/master/data/ventas_techstore.csv"
      ]
    },
    {
      "cell_type": "code",
      "source": [
        "import numpy as np\n",
        "import pandas as pd\n",
        "import seaborn as sns\n",
        "import matplotlib.pyplot as plt\n",
        "\n",
        "from sklearn.impute import KNNImputer\n",
        "from sklearn.preprocessing import LabelEncoder, OneHotEncoder, OrdinalEncoder, StandardScaler"
      ],
      "metadata": {
        "id": "D3cQMLJJ6Re8"
      },
      "execution_count": null,
      "outputs": []
    },
    {
      "cell_type": "code",
      "source": [
        "# Carga de los datos\n",
        "data = pd.read_csv(\"ventas_techstore.csv\")\n",
        "data.head()"
      ],
      "metadata": {
        "colab": {
          "base_uri": "https://localhost:8080/",
          "height": 260
        },
        "id": "Zv_-Jom86VNC",
        "outputId": "ce423434-8647-4919-a4e6-316f684b40a5"
      },
      "execution_count": null,
      "outputs": [
        {
          "output_type": "execute_result",
          "data": {
            "text/plain": [
              "   OrderID CustomerID     CustomerName   Age Country ProductCategory  \\\n",
              "0     1001       C611   Aaron Campbell  -9.0   Chile      Smartphone   \n",
              "1     1002       C201    Ryan Martinez  63.0   chile      Smartphone   \n",
              "2     1003       C129     Richard Ball  54.0   Chile          Laptop   \n",
              "3     1004      C1483  Stephen Carlson  48.0   chile      Smartphone   \n",
              "4     1005       C243  Jason Hernandez  31.0   Chile      Smartphone   \n",
              "\n",
              "  ProductName  Quantity  UnitPrice  TotalAmount PurchaseDate  \n",
              "0  Galaxy A52         5    1556.44      7782.20   2025-07-27  \n",
              "1  Galaxy A52         2        NaN          NaN   2025-07-18  \n",
              "2     HP Envy         2     526.04      1052.08   2025-07-24  \n",
              "3  Galaxy S21         1     232.22       232.22   2025-08-31  \n",
              "4   Moto G100         1    1820.33      1820.33   2025-06-24  "
            ],
            "text/html": [
              "\n",
              "  <div id=\"df-4f4e658f-04e6-42bd-a4f2-f7aa67acadbb\" class=\"colab-df-container\">\n",
              "    <div>\n",
              "<style scoped>\n",
              "    .dataframe tbody tr th:only-of-type {\n",
              "        vertical-align: middle;\n",
              "    }\n",
              "\n",
              "    .dataframe tbody tr th {\n",
              "        vertical-align: top;\n",
              "    }\n",
              "\n",
              "    .dataframe thead th {\n",
              "        text-align: right;\n",
              "    }\n",
              "</style>\n",
              "<table border=\"1\" class=\"dataframe\">\n",
              "  <thead>\n",
              "    <tr style=\"text-align: right;\">\n",
              "      <th></th>\n",
              "      <th>OrderID</th>\n",
              "      <th>CustomerID</th>\n",
              "      <th>CustomerName</th>\n",
              "      <th>Age</th>\n",
              "      <th>Country</th>\n",
              "      <th>ProductCategory</th>\n",
              "      <th>ProductName</th>\n",
              "      <th>Quantity</th>\n",
              "      <th>UnitPrice</th>\n",
              "      <th>TotalAmount</th>\n",
              "      <th>PurchaseDate</th>\n",
              "    </tr>\n",
              "  </thead>\n",
              "  <tbody>\n",
              "    <tr>\n",
              "      <th>0</th>\n",
              "      <td>1001</td>\n",
              "      <td>C611</td>\n",
              "      <td>Aaron Campbell</td>\n",
              "      <td>-9.0</td>\n",
              "      <td>Chile</td>\n",
              "      <td>Smartphone</td>\n",
              "      <td>Galaxy A52</td>\n",
              "      <td>5</td>\n",
              "      <td>1556.44</td>\n",
              "      <td>7782.20</td>\n",
              "      <td>2025-07-27</td>\n",
              "    </tr>\n",
              "    <tr>\n",
              "      <th>1</th>\n",
              "      <td>1002</td>\n",
              "      <td>C201</td>\n",
              "      <td>Ryan Martinez</td>\n",
              "      <td>63.0</td>\n",
              "      <td>chile</td>\n",
              "      <td>Smartphone</td>\n",
              "      <td>Galaxy A52</td>\n",
              "      <td>2</td>\n",
              "      <td>NaN</td>\n",
              "      <td>NaN</td>\n",
              "      <td>2025-07-18</td>\n",
              "    </tr>\n",
              "    <tr>\n",
              "      <th>2</th>\n",
              "      <td>1003</td>\n",
              "      <td>C129</td>\n",
              "      <td>Richard Ball</td>\n",
              "      <td>54.0</td>\n",
              "      <td>Chile</td>\n",
              "      <td>Laptop</td>\n",
              "      <td>HP Envy</td>\n",
              "      <td>2</td>\n",
              "      <td>526.04</td>\n",
              "      <td>1052.08</td>\n",
              "      <td>2025-07-24</td>\n",
              "    </tr>\n",
              "    <tr>\n",
              "      <th>3</th>\n",
              "      <td>1004</td>\n",
              "      <td>C1483</td>\n",
              "      <td>Stephen Carlson</td>\n",
              "      <td>48.0</td>\n",
              "      <td>chile</td>\n",
              "      <td>Smartphone</td>\n",
              "      <td>Galaxy S21</td>\n",
              "      <td>1</td>\n",
              "      <td>232.22</td>\n",
              "      <td>232.22</td>\n",
              "      <td>2025-08-31</td>\n",
              "    </tr>\n",
              "    <tr>\n",
              "      <th>4</th>\n",
              "      <td>1005</td>\n",
              "      <td>C243</td>\n",
              "      <td>Jason Hernandez</td>\n",
              "      <td>31.0</td>\n",
              "      <td>Chile</td>\n",
              "      <td>Smartphone</td>\n",
              "      <td>Moto G100</td>\n",
              "      <td>1</td>\n",
              "      <td>1820.33</td>\n",
              "      <td>1820.33</td>\n",
              "      <td>2025-06-24</td>\n",
              "    </tr>\n",
              "  </tbody>\n",
              "</table>\n",
              "</div>\n",
              "    <div class=\"colab-df-buttons\">\n",
              "\n",
              "  <div class=\"colab-df-container\">\n",
              "    <button class=\"colab-df-convert\" onclick=\"convertToInteractive('df-4f4e658f-04e6-42bd-a4f2-f7aa67acadbb')\"\n",
              "            title=\"Convert this dataframe to an interactive table.\"\n",
              "            style=\"display:none;\">\n",
              "\n",
              "  <svg xmlns=\"http://www.w3.org/2000/svg\" height=\"24px\" viewBox=\"0 -960 960 960\">\n",
              "    <path d=\"M120-120v-720h720v720H120Zm60-500h600v-160H180v160Zm220 220h160v-160H400v160Zm0 220h160v-160H400v160ZM180-400h160v-160H180v160Zm440 0h160v-160H620v160ZM180-180h160v-160H180v160Zm440 0h160v-160H620v160Z\"/>\n",
              "  </svg>\n",
              "    </button>\n",
              "\n",
              "  <style>\n",
              "    .colab-df-container {\n",
              "      display:flex;\n",
              "      gap: 12px;\n",
              "    }\n",
              "\n",
              "    .colab-df-convert {\n",
              "      background-color: #E8F0FE;\n",
              "      border: none;\n",
              "      border-radius: 50%;\n",
              "      cursor: pointer;\n",
              "      display: none;\n",
              "      fill: #1967D2;\n",
              "      height: 32px;\n",
              "      padding: 0 0 0 0;\n",
              "      width: 32px;\n",
              "    }\n",
              "\n",
              "    .colab-df-convert:hover {\n",
              "      background-color: #E2EBFA;\n",
              "      box-shadow: 0px 1px 2px rgba(60, 64, 67, 0.3), 0px 1px 3px 1px rgba(60, 64, 67, 0.15);\n",
              "      fill: #174EA6;\n",
              "    }\n",
              "\n",
              "    .colab-df-buttons div {\n",
              "      margin-bottom: 4px;\n",
              "    }\n",
              "\n",
              "    [theme=dark] .colab-df-convert {\n",
              "      background-color: #3B4455;\n",
              "      fill: #D2E3FC;\n",
              "    }\n",
              "\n",
              "    [theme=dark] .colab-df-convert:hover {\n",
              "      background-color: #434B5C;\n",
              "      box-shadow: 0px 1px 3px 1px rgba(0, 0, 0, 0.15);\n",
              "      filter: drop-shadow(0px 1px 2px rgba(0, 0, 0, 0.3));\n",
              "      fill: #FFFFFF;\n",
              "    }\n",
              "  </style>\n",
              "\n",
              "    <script>\n",
              "      const buttonEl =\n",
              "        document.querySelector('#df-4f4e658f-04e6-42bd-a4f2-f7aa67acadbb button.colab-df-convert');\n",
              "      buttonEl.style.display =\n",
              "        google.colab.kernel.accessAllowed ? 'block' : 'none';\n",
              "\n",
              "      async function convertToInteractive(key) {\n",
              "        const element = document.querySelector('#df-4f4e658f-04e6-42bd-a4f2-f7aa67acadbb');\n",
              "        const dataTable =\n",
              "          await google.colab.kernel.invokeFunction('convertToInteractive',\n",
              "                                                    [key], {});\n",
              "        if (!dataTable) return;\n",
              "\n",
              "        const docLinkHtml = 'Like what you see? Visit the ' +\n",
              "          '<a target=\"_blank\" href=https://colab.research.google.com/notebooks/data_table.ipynb>data table notebook</a>'\n",
              "          + ' to learn more about interactive tables.';\n",
              "        element.innerHTML = '';\n",
              "        dataTable['output_type'] = 'display_data';\n",
              "        await google.colab.output.renderOutput(dataTable, element);\n",
              "        const docLink = document.createElement('div');\n",
              "        docLink.innerHTML = docLinkHtml;\n",
              "        element.appendChild(docLink);\n",
              "      }\n",
              "    </script>\n",
              "  </div>\n",
              "\n",
              "\n",
              "    <div id=\"df-1d0ac8ce-98cd-4427-9b41-2fb15416625b\">\n",
              "      <button class=\"colab-df-quickchart\" onclick=\"quickchart('df-1d0ac8ce-98cd-4427-9b41-2fb15416625b')\"\n",
              "                title=\"Suggest charts\"\n",
              "                style=\"display:none;\">\n",
              "\n",
              "<svg xmlns=\"http://www.w3.org/2000/svg\" height=\"24px\"viewBox=\"0 0 24 24\"\n",
              "     width=\"24px\">\n",
              "    <g>\n",
              "        <path d=\"M19 3H5c-1.1 0-2 .9-2 2v14c0 1.1.9 2 2 2h14c1.1 0 2-.9 2-2V5c0-1.1-.9-2-2-2zM9 17H7v-7h2v7zm4 0h-2V7h2v10zm4 0h-2v-4h2v4z\"/>\n",
              "    </g>\n",
              "</svg>\n",
              "      </button>\n",
              "\n",
              "<style>\n",
              "  .colab-df-quickchart {\n",
              "      --bg-color: #E8F0FE;\n",
              "      --fill-color: #1967D2;\n",
              "      --hover-bg-color: #E2EBFA;\n",
              "      --hover-fill-color: #174EA6;\n",
              "      --disabled-fill-color: #AAA;\n",
              "      --disabled-bg-color: #DDD;\n",
              "  }\n",
              "\n",
              "  [theme=dark] .colab-df-quickchart {\n",
              "      --bg-color: #3B4455;\n",
              "      --fill-color: #D2E3FC;\n",
              "      --hover-bg-color: #434B5C;\n",
              "      --hover-fill-color: #FFFFFF;\n",
              "      --disabled-bg-color: #3B4455;\n",
              "      --disabled-fill-color: #666;\n",
              "  }\n",
              "\n",
              "  .colab-df-quickchart {\n",
              "    background-color: var(--bg-color);\n",
              "    border: none;\n",
              "    border-radius: 50%;\n",
              "    cursor: pointer;\n",
              "    display: none;\n",
              "    fill: var(--fill-color);\n",
              "    height: 32px;\n",
              "    padding: 0;\n",
              "    width: 32px;\n",
              "  }\n",
              "\n",
              "  .colab-df-quickchart:hover {\n",
              "    background-color: var(--hover-bg-color);\n",
              "    box-shadow: 0 1px 2px rgba(60, 64, 67, 0.3), 0 1px 3px 1px rgba(60, 64, 67, 0.15);\n",
              "    fill: var(--button-hover-fill-color);\n",
              "  }\n",
              "\n",
              "  .colab-df-quickchart-complete:disabled,\n",
              "  .colab-df-quickchart-complete:disabled:hover {\n",
              "    background-color: var(--disabled-bg-color);\n",
              "    fill: var(--disabled-fill-color);\n",
              "    box-shadow: none;\n",
              "  }\n",
              "\n",
              "  .colab-df-spinner {\n",
              "    border: 2px solid var(--fill-color);\n",
              "    border-color: transparent;\n",
              "    border-bottom-color: var(--fill-color);\n",
              "    animation:\n",
              "      spin 1s steps(1) infinite;\n",
              "  }\n",
              "\n",
              "  @keyframes spin {\n",
              "    0% {\n",
              "      border-color: transparent;\n",
              "      border-bottom-color: var(--fill-color);\n",
              "      border-left-color: var(--fill-color);\n",
              "    }\n",
              "    20% {\n",
              "      border-color: transparent;\n",
              "      border-left-color: var(--fill-color);\n",
              "      border-top-color: var(--fill-color);\n",
              "    }\n",
              "    30% {\n",
              "      border-color: transparent;\n",
              "      border-left-color: var(--fill-color);\n",
              "      border-top-color: var(--fill-color);\n",
              "      border-right-color: var(--fill-color);\n",
              "    }\n",
              "    40% {\n",
              "      border-color: transparent;\n",
              "      border-right-color: var(--fill-color);\n",
              "      border-top-color: var(--fill-color);\n",
              "    }\n",
              "    60% {\n",
              "      border-color: transparent;\n",
              "      border-right-color: var(--fill-color);\n",
              "    }\n",
              "    80% {\n",
              "      border-color: transparent;\n",
              "      border-right-color: var(--fill-color);\n",
              "      border-bottom-color: var(--fill-color);\n",
              "    }\n",
              "    90% {\n",
              "      border-color: transparent;\n",
              "      border-bottom-color: var(--fill-color);\n",
              "    }\n",
              "  }\n",
              "</style>\n",
              "\n",
              "      <script>\n",
              "        async function quickchart(key) {\n",
              "          const quickchartButtonEl =\n",
              "            document.querySelector('#' + key + ' button');\n",
              "          quickchartButtonEl.disabled = true;  // To prevent multiple clicks.\n",
              "          quickchartButtonEl.classList.add('colab-df-spinner');\n",
              "          try {\n",
              "            const charts = await google.colab.kernel.invokeFunction(\n",
              "                'suggestCharts', [key], {});\n",
              "          } catch (error) {\n",
              "            console.error('Error during call to suggestCharts:', error);\n",
              "          }\n",
              "          quickchartButtonEl.classList.remove('colab-df-spinner');\n",
              "          quickchartButtonEl.classList.add('colab-df-quickchart-complete');\n",
              "        }\n",
              "        (() => {\n",
              "          let quickchartButtonEl =\n",
              "            document.querySelector('#df-1d0ac8ce-98cd-4427-9b41-2fb15416625b button');\n",
              "          quickchartButtonEl.style.display =\n",
              "            google.colab.kernel.accessAllowed ? 'block' : 'none';\n",
              "        })();\n",
              "      </script>\n",
              "    </div>\n",
              "\n",
              "    </div>\n",
              "  </div>\n"
            ],
            "application/vnd.google.colaboratory.intrinsic+json": {
              "type": "dataframe",
              "variable_name": "data",
              "summary": "{\n  \"name\": \"data\",\n  \"rows\": 5050,\n  \"fields\": [\n    {\n      \"column\": \"OrderID\",\n      \"properties\": {\n        \"dtype\": \"number\",\n        \"std\": 1444,\n        \"min\": 1001,\n        \"max\": 6000,\n        \"num_unique_values\": 5000,\n        \"samples\": [\n          2502,\n          3587,\n          3654\n        ],\n        \"semantic_type\": \"\",\n        \"description\": \"\"\n      }\n    },\n    {\n      \"column\": \"CustomerID\",\n      \"properties\": {\n        \"dtype\": \"category\",\n        \"num_unique_values\": 1454,\n        \"samples\": [\n          \"C1167\",\n          \"C1441\",\n          \"C761\"\n        ],\n        \"semantic_type\": \"\",\n        \"description\": \"\"\n      }\n    },\n    {\n      \"column\": \"CustomerName\",\n      \"properties\": {\n        \"dtype\": \"string\",\n        \"num_unique_values\": 4852,\n        \"samples\": [\n          \"Rodney Fowler\",\n          \"Catherine Hernandez\",\n          \"Theresa Jackson\"\n        ],\n        \"semantic_type\": \"\",\n        \"description\": \"\"\n      }\n    },\n    {\n      \"column\": \"Age\",\n      \"properties\": {\n        \"dtype\": \"number\",\n        \"std\": 15.994442110932317,\n        \"min\": -10.0,\n        \"max\": 70.0,\n        \"num_unique_values\": 64,\n        \"samples\": [\n          -5.0,\n          -2.0,\n          -9.0\n        ],\n        \"semantic_type\": \"\",\n        \"description\": \"\"\n      }\n    },\n    {\n      \"column\": \"Country\",\n      \"properties\": {\n        \"dtype\": \"category\",\n        \"num_unique_values\": 4,\n        \"samples\": [\n          \"chile\",\n          \"Argentina\",\n          \"Chile\"\n        ],\n        \"semantic_type\": \"\",\n        \"description\": \"\"\n      }\n    },\n    {\n      \"column\": \"ProductCategory\",\n      \"properties\": {\n        \"dtype\": \"category\",\n        \"num_unique_values\": 4,\n        \"samples\": [\n          \"Laptop\",\n          \"Accesorio\",\n          \"Smartphone\"\n        ],\n        \"semantic_type\": \"\",\n        \"description\": \"\"\n      }\n    },\n    {\n      \"column\": \"ProductName\",\n      \"properties\": {\n        \"dtype\": \"category\",\n        \"num_unique_values\": 16,\n        \"samples\": [\n          \"Galaxy A52\",\n          \"HP Envy\",\n          \"Galaxy Tab S7\"\n        ],\n        \"semantic_type\": \"\",\n        \"description\": \"\"\n      }\n    },\n    {\n      \"column\": \"Quantity\",\n      \"properties\": {\n        \"dtype\": \"number\",\n        \"std\": 1,\n        \"min\": 1,\n        \"max\": 5,\n        \"num_unique_values\": 5,\n        \"samples\": [\n          2,\n          4,\n          1\n        ],\n        \"semantic_type\": \"\",\n        \"description\": \"\"\n      }\n    },\n    {\n      \"column\": \"UnitPrice\",\n      \"properties\": {\n        \"dtype\": \"number\",\n        \"std\": 564.6455027896275,\n        \"min\": 40.12,\n        \"max\": 1999.93,\n        \"num_unique_values\": 4830,\n        \"samples\": [\n          1986.17,\n          645.42,\n          79.83\n        ],\n        \"semantic_type\": \"\",\n        \"description\": \"\"\n      }\n    },\n    {\n      \"column\": \"TotalAmount\",\n      \"properties\": {\n        \"dtype\": \"number\",\n        \"std\": 2370.769789831673,\n        \"min\": 40.45,\n        \"max\": 9993.35,\n        \"num_unique_values\": 4862,\n        \"samples\": [\n          2102.08,\n          3644.04,\n          6191.65\n        ],\n        \"semantic_type\": \"\",\n        \"description\": \"\"\n      }\n    },\n    {\n      \"column\": \"PurchaseDate\",\n      \"properties\": {\n        \"dtype\": \"object\",\n        \"num_unique_values\": 90,\n        \"samples\": [\n          \"2025-08-24\",\n          \"2025-08-04\",\n          \"2025-07-08\"\n        ],\n        \"semantic_type\": \"\",\n        \"description\": \"\"\n      }\n    }\n  ]\n}"
            }
          },
          "metadata": {},
          "execution_count": 227
        }
      ]
    },
    {
      "cell_type": "code",
      "source": [
        "data.shape"
      ],
      "metadata": {
        "colab": {
          "base_uri": "https://localhost:8080/"
        },
        "id": "1B516Fk88D4Z",
        "outputId": "cb3ceab9-8d5c-40ce-945a-b5fec4375537"
      },
      "execution_count": null,
      "outputs": [
        {
          "output_type": "execute_result",
          "data": {
            "text/plain": [
              "(5050, 11)"
            ]
          },
          "metadata": {},
          "execution_count": 228
        }
      ]
    },
    {
      "cell_type": "markdown",
      "source": [
        "# `Fase 2 - Entender los datos`"
      ],
      "metadata": {
        "id": "zIQOZmko6ezx"
      }
    },
    {
      "cell_type": "markdown",
      "source": [
        "## Análisis de la calidad"
      ],
      "metadata": {
        "id": "do10gUIg6tMP"
      }
    },
    {
      "cell_type": "markdown",
      "source": [
        "### Existencia de nulos"
      ],
      "metadata": {
        "id": "0Fu0iJzZ64N-"
      }
    },
    {
      "cell_type": "markdown",
      "source": [
        "### Existencia de atípicos"
      ],
      "metadata": {
        "id": "YrslPW_E670V"
      }
    },
    {
      "cell_type": "markdown",
      "source": [
        "### Existencia de duplicados"
      ],
      "metadata": {
        "id": "ltD5A78d6-WZ"
      }
    },
    {
      "cell_type": "markdown",
      "source": [
        "### Análisis de consistencia"
      ],
      "metadata": {
        "id": "ZTerllt_7BnM"
      }
    },
    {
      "cell_type": "markdown",
      "source": [
        "# `Fase 3 - Preparación de los datos`"
      ],
      "metadata": {
        "id": "HX4O53Mh6l_D"
      }
    },
    {
      "cell_type": "markdown",
      "source": [
        "## Tratamiento de duplicados"
      ],
      "metadata": {
        "id": "j_8o512C60zE"
      }
    },
    {
      "cell_type": "markdown",
      "source": [
        "## Tratamiento de nulos"
      ],
      "metadata": {
        "id": "2CcIhHK76ylG"
      }
    },
    {
      "cell_type": "markdown",
      "source": [
        "## Transformación de variables categóricas"
      ],
      "metadata": {
        "id": "X1DKd3Jc8uUt"
      }
    }
  ]
}