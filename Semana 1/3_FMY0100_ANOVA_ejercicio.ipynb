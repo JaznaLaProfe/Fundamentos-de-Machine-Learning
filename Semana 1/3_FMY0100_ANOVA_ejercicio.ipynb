{
  "cells": [
    {
      "cell_type": "markdown",
      "id": "1c9a67c5",
      "metadata": {
        "id": "1c9a67c5"
      },
      "source": [
        "# Ejercicio: ANOVA y medidas de dispersión\n",
        "\n",
        "**Autor:** Jazna Meza Hidalgo\n",
        "\n",
        "**Correo Electrónico:** ja.meza@profesor.duoc.cl\n",
        "\n",
        "**Fecha de Creación:** Mayo de 2025\n",
        "\n",
        "**Versión:** 1.0  \n",
        "\n",
        "---\n",
        "\n",
        "## Descripción\n",
        "\n",
        "Este notebook contiene un ejercicio donde calculan medidas de dispersión y se aplica análisis de varianza (ANOVA).\n",
        "\n",
        "---\n",
        "\n",
        "## Requisitos de Software\n",
        "\n",
        "Este notebook fue desarrollado con Python 3.9. A continuación se listan las bibliotecas necesarias:\n",
        "\n",
        "- pandas (2.2.2\n",
        "- numpy (2.02)\n",
        "\n",
        "Para verificar la versión instalada ejecutar usando el siguiente comando, usando la librería de la cual quieres saber la versión:\n",
        "\n",
        "```bash\n",
        "import pandas as pd\n",
        "print(pd.__version__)\n",
        "````"
      ]
    },
    {
      "cell_type": "markdown",
      "source": [
        "# Contexto"
      ],
      "metadata": {
        "id": "8SIVwZH89bqq"
      },
      "id": "8SIVwZH89bqq"
    },
    {
      "cell_type": "markdown",
      "source": [
        "Una asignatura probó tres métodos de enseñanza — *Tradicional*, *Flipped* y *Online*. Se midieron las horas de estudio y el **puntaje final** (0–100). Se desea comparar si el **promedio de puntaje** difiere entre métodos.\n",
        "\n",
        "**Archivo de datos:** `datos_anova_estudiantes.csv` (columnas: `id`, `metodo`, `horas_estudio`, `sede`, `puntaje`).\n",
        "\n",
        "---\n",
        "\n",
        "## Objetivos\n",
        "1. Explorar el dataset y calcular **medidas de dispersión** por método (rango, varianza, desviación estándar y CV).\n",
        "2. Visualizar la distribución de `puntaje` por `metodo` (boxplots).\n",
        "3. Verificar supuestos del ANOVA (normalidad por grupo y homogeneidad de varianzas).\n",
        "4. Aplicar **ANOVA de un factor** para comparar las medias de `puntaje` entre métodos.\n",
        "5. Si el ANOVA es significativo, realizar **comparaciones post-hoc** (Tukey HSD)."
      ],
      "metadata": {
        "id": "IWQ8LSxB2jnw"
      },
      "id": "IWQ8LSxB2jnw"
    },
    {
      "cell_type": "code",
      "source": [
        "import pandas as pd\n",
        "import numpy as np\n",
        "import matplotlib.pyplot as plt\n",
        "import statsmodels.api as sm\n",
        "\n",
        "from scipy import stats\n",
        "\n",
        "from statsmodels.stats.multicomp import pairwise_tukeyhsd"
      ],
      "metadata": {
        "id": "rULWQwvgsSz2"
      },
      "id": "rULWQwvgsSz2",
      "execution_count": 1,
      "outputs": []
    },
    {
      "cell_type": "code",
      "source": [
        "# Descargar el archivo y guardarlo en el entorno\n",
        "!wget https://raw.githubusercontent.com/JaznaLaProfe/Fundamentos-de-Machine-Learning/master/data/datos_anova_estudiantes.csv"
      ],
      "metadata": {
        "colab": {
          "base_uri": "https://localhost:8080/"
        },
        "id": "D6BcJO3bspbh",
        "outputId": "1cc4cbda-61b7-4207-aaae-4d0aa0f54a16"
      },
      "id": "D6BcJO3bspbh",
      "execution_count": 2,
      "outputs": [
        {
          "output_type": "stream",
          "name": "stdout",
          "text": [
            "--2025-08-16 21:08:00--  https://raw.githubusercontent.com/JaznaLaProfe/Fundamentos-de-Machine-Learning/master/data/datos_anova_estudiantes.csv\n",
            "Resolving raw.githubusercontent.com (raw.githubusercontent.com)... 185.199.108.133, 185.199.109.133, 185.199.110.133, ...\n",
            "Connecting to raw.githubusercontent.com (raw.githubusercontent.com)|185.199.108.133|:443... connected.\n",
            "HTTP request sent, awaiting response... 200 OK\n",
            "Length: 13534 (13K) [text/plain]\n",
            "Saving to: ‘datos_anova_estudiantes.csv’\n",
            "\n",
            "\r          datos_ano   0%[                    ]       0  --.-KB/s               \rdatos_anova_estudia 100%[===================>]  13.22K  --.-KB/s    in 0s      \n",
            "\n",
            "2025-08-16 21:08:00 (34.8 MB/s) - ‘datos_anova_estudiantes.csv’ saved [13534/13534]\n",
            "\n"
          ]
        }
      ]
    },
    {
      "cell_type": "code",
      "execution_count": 3,
      "id": "e8ad390b",
      "metadata": {
        "colab": {
          "base_uri": "https://localhost:8080/",
          "height": 206
        },
        "id": "e8ad390b",
        "outputId": "b24b3eb6-84e2-41ec-b9a7-dedcbbe076c9"
      },
      "outputs": [
        {
          "output_type": "execute_result",
          "data": {
            "text/plain": [
              "     id       metodo  horas_estudio    sede    puntaje\n",
              "0  T001  Tradicional       2.631496  Centro  82.147095\n",
              "1  T002  Tradicional       4.297876   Norte  67.927349\n",
              "2  T003  Tradicional       3.726383     Sur  86.268726\n",
              "3  T004  Tradicional       2.294964   Norte  78.294437\n",
              "4  T005  Tradicional       3.037120  Centro  69.911631"
            ],
            "text/html": [
              "\n",
              "  <div id=\"df-ed7d787c-c6d3-4947-a1ae-dd3a10bd10da\" class=\"colab-df-container\">\n",
              "    <div>\n",
              "<style scoped>\n",
              "    .dataframe tbody tr th:only-of-type {\n",
              "        vertical-align: middle;\n",
              "    }\n",
              "\n",
              "    .dataframe tbody tr th {\n",
              "        vertical-align: top;\n",
              "    }\n",
              "\n",
              "    .dataframe thead th {\n",
              "        text-align: right;\n",
              "    }\n",
              "</style>\n",
              "<table border=\"1\" class=\"dataframe\">\n",
              "  <thead>\n",
              "    <tr style=\"text-align: right;\">\n",
              "      <th></th>\n",
              "      <th>id</th>\n",
              "      <th>metodo</th>\n",
              "      <th>horas_estudio</th>\n",
              "      <th>sede</th>\n",
              "      <th>puntaje</th>\n",
              "    </tr>\n",
              "  </thead>\n",
              "  <tbody>\n",
              "    <tr>\n",
              "      <th>0</th>\n",
              "      <td>T001</td>\n",
              "      <td>Tradicional</td>\n",
              "      <td>2.631496</td>\n",
              "      <td>Centro</td>\n",
              "      <td>82.147095</td>\n",
              "    </tr>\n",
              "    <tr>\n",
              "      <th>1</th>\n",
              "      <td>T002</td>\n",
              "      <td>Tradicional</td>\n",
              "      <td>4.297876</td>\n",
              "      <td>Norte</td>\n",
              "      <td>67.927349</td>\n",
              "    </tr>\n",
              "    <tr>\n",
              "      <th>2</th>\n",
              "      <td>T003</td>\n",
              "      <td>Tradicional</td>\n",
              "      <td>3.726383</td>\n",
              "      <td>Sur</td>\n",
              "      <td>86.268726</td>\n",
              "    </tr>\n",
              "    <tr>\n",
              "      <th>3</th>\n",
              "      <td>T004</td>\n",
              "      <td>Tradicional</td>\n",
              "      <td>2.294964</td>\n",
              "      <td>Norte</td>\n",
              "      <td>78.294437</td>\n",
              "    </tr>\n",
              "    <tr>\n",
              "      <th>4</th>\n",
              "      <td>T005</td>\n",
              "      <td>Tradicional</td>\n",
              "      <td>3.037120</td>\n",
              "      <td>Centro</td>\n",
              "      <td>69.911631</td>\n",
              "    </tr>\n",
              "  </tbody>\n",
              "</table>\n",
              "</div>\n",
              "    <div class=\"colab-df-buttons\">\n",
              "\n",
              "  <div class=\"colab-df-container\">\n",
              "    <button class=\"colab-df-convert\" onclick=\"convertToInteractive('df-ed7d787c-c6d3-4947-a1ae-dd3a10bd10da')\"\n",
              "            title=\"Convert this dataframe to an interactive table.\"\n",
              "            style=\"display:none;\">\n",
              "\n",
              "  <svg xmlns=\"http://www.w3.org/2000/svg\" height=\"24px\" viewBox=\"0 -960 960 960\">\n",
              "    <path d=\"M120-120v-720h720v720H120Zm60-500h600v-160H180v160Zm220 220h160v-160H400v160Zm0 220h160v-160H400v160ZM180-400h160v-160H180v160Zm440 0h160v-160H620v160ZM180-180h160v-160H180v160Zm440 0h160v-160H620v160Z\"/>\n",
              "  </svg>\n",
              "    </button>\n",
              "\n",
              "  <style>\n",
              "    .colab-df-container {\n",
              "      display:flex;\n",
              "      gap: 12px;\n",
              "    }\n",
              "\n",
              "    .colab-df-convert {\n",
              "      background-color: #E8F0FE;\n",
              "      border: none;\n",
              "      border-radius: 50%;\n",
              "      cursor: pointer;\n",
              "      display: none;\n",
              "      fill: #1967D2;\n",
              "      height: 32px;\n",
              "      padding: 0 0 0 0;\n",
              "      width: 32px;\n",
              "    }\n",
              "\n",
              "    .colab-df-convert:hover {\n",
              "      background-color: #E2EBFA;\n",
              "      box-shadow: 0px 1px 2px rgba(60, 64, 67, 0.3), 0px 1px 3px 1px rgba(60, 64, 67, 0.15);\n",
              "      fill: #174EA6;\n",
              "    }\n",
              "\n",
              "    .colab-df-buttons div {\n",
              "      margin-bottom: 4px;\n",
              "    }\n",
              "\n",
              "    [theme=dark] .colab-df-convert {\n",
              "      background-color: #3B4455;\n",
              "      fill: #D2E3FC;\n",
              "    }\n",
              "\n",
              "    [theme=dark] .colab-df-convert:hover {\n",
              "      background-color: #434B5C;\n",
              "      box-shadow: 0px 1px 3px 1px rgba(0, 0, 0, 0.15);\n",
              "      filter: drop-shadow(0px 1px 2px rgba(0, 0, 0, 0.3));\n",
              "      fill: #FFFFFF;\n",
              "    }\n",
              "  </style>\n",
              "\n",
              "    <script>\n",
              "      const buttonEl =\n",
              "        document.querySelector('#df-ed7d787c-c6d3-4947-a1ae-dd3a10bd10da button.colab-df-convert');\n",
              "      buttonEl.style.display =\n",
              "        google.colab.kernel.accessAllowed ? 'block' : 'none';\n",
              "\n",
              "      async function convertToInteractive(key) {\n",
              "        const element = document.querySelector('#df-ed7d787c-c6d3-4947-a1ae-dd3a10bd10da');\n",
              "        const dataTable =\n",
              "          await google.colab.kernel.invokeFunction('convertToInteractive',\n",
              "                                                    [key], {});\n",
              "        if (!dataTable) return;\n",
              "\n",
              "        const docLinkHtml = 'Like what you see? Visit the ' +\n",
              "          '<a target=\"_blank\" href=https://colab.research.google.com/notebooks/data_table.ipynb>data table notebook</a>'\n",
              "          + ' to learn more about interactive tables.';\n",
              "        element.innerHTML = '';\n",
              "        dataTable['output_type'] = 'display_data';\n",
              "        await google.colab.output.renderOutput(dataTable, element);\n",
              "        const docLink = document.createElement('div');\n",
              "        docLink.innerHTML = docLinkHtml;\n",
              "        element.appendChild(docLink);\n",
              "      }\n",
              "    </script>\n",
              "  </div>\n",
              "\n",
              "\n",
              "    <div id=\"df-6d63f717-94f6-4cbb-82ee-a1a4b26b47e2\">\n",
              "      <button class=\"colab-df-quickchart\" onclick=\"quickchart('df-6d63f717-94f6-4cbb-82ee-a1a4b26b47e2')\"\n",
              "                title=\"Suggest charts\"\n",
              "                style=\"display:none;\">\n",
              "\n",
              "<svg xmlns=\"http://www.w3.org/2000/svg\" height=\"24px\"viewBox=\"0 0 24 24\"\n",
              "     width=\"24px\">\n",
              "    <g>\n",
              "        <path d=\"M19 3H5c-1.1 0-2 .9-2 2v14c0 1.1.9 2 2 2h14c1.1 0 2-.9 2-2V5c0-1.1-.9-2-2-2zM9 17H7v-7h2v7zm4 0h-2V7h2v10zm4 0h-2v-4h2v4z\"/>\n",
              "    </g>\n",
              "</svg>\n",
              "      </button>\n",
              "\n",
              "<style>\n",
              "  .colab-df-quickchart {\n",
              "      --bg-color: #E8F0FE;\n",
              "      --fill-color: #1967D2;\n",
              "      --hover-bg-color: #E2EBFA;\n",
              "      --hover-fill-color: #174EA6;\n",
              "      --disabled-fill-color: #AAA;\n",
              "      --disabled-bg-color: #DDD;\n",
              "  }\n",
              "\n",
              "  [theme=dark] .colab-df-quickchart {\n",
              "      --bg-color: #3B4455;\n",
              "      --fill-color: #D2E3FC;\n",
              "      --hover-bg-color: #434B5C;\n",
              "      --hover-fill-color: #FFFFFF;\n",
              "      --disabled-bg-color: #3B4455;\n",
              "      --disabled-fill-color: #666;\n",
              "  }\n",
              "\n",
              "  .colab-df-quickchart {\n",
              "    background-color: var(--bg-color);\n",
              "    border: none;\n",
              "    border-radius: 50%;\n",
              "    cursor: pointer;\n",
              "    display: none;\n",
              "    fill: var(--fill-color);\n",
              "    height: 32px;\n",
              "    padding: 0;\n",
              "    width: 32px;\n",
              "  }\n",
              "\n",
              "  .colab-df-quickchart:hover {\n",
              "    background-color: var(--hover-bg-color);\n",
              "    box-shadow: 0 1px 2px rgba(60, 64, 67, 0.3), 0 1px 3px 1px rgba(60, 64, 67, 0.15);\n",
              "    fill: var(--button-hover-fill-color);\n",
              "  }\n",
              "\n",
              "  .colab-df-quickchart-complete:disabled,\n",
              "  .colab-df-quickchart-complete:disabled:hover {\n",
              "    background-color: var(--disabled-bg-color);\n",
              "    fill: var(--disabled-fill-color);\n",
              "    box-shadow: none;\n",
              "  }\n",
              "\n",
              "  .colab-df-spinner {\n",
              "    border: 2px solid var(--fill-color);\n",
              "    border-color: transparent;\n",
              "    border-bottom-color: var(--fill-color);\n",
              "    animation:\n",
              "      spin 1s steps(1) infinite;\n",
              "  }\n",
              "\n",
              "  @keyframes spin {\n",
              "    0% {\n",
              "      border-color: transparent;\n",
              "      border-bottom-color: var(--fill-color);\n",
              "      border-left-color: var(--fill-color);\n",
              "    }\n",
              "    20% {\n",
              "      border-color: transparent;\n",
              "      border-left-color: var(--fill-color);\n",
              "      border-top-color: var(--fill-color);\n",
              "    }\n",
              "    30% {\n",
              "      border-color: transparent;\n",
              "      border-left-color: var(--fill-color);\n",
              "      border-top-color: var(--fill-color);\n",
              "      border-right-color: var(--fill-color);\n",
              "    }\n",
              "    40% {\n",
              "      border-color: transparent;\n",
              "      border-right-color: var(--fill-color);\n",
              "      border-top-color: var(--fill-color);\n",
              "    }\n",
              "    60% {\n",
              "      border-color: transparent;\n",
              "      border-right-color: var(--fill-color);\n",
              "    }\n",
              "    80% {\n",
              "      border-color: transparent;\n",
              "      border-right-color: var(--fill-color);\n",
              "      border-bottom-color: var(--fill-color);\n",
              "    }\n",
              "    90% {\n",
              "      border-color: transparent;\n",
              "      border-bottom-color: var(--fill-color);\n",
              "    }\n",
              "  }\n",
              "</style>\n",
              "\n",
              "      <script>\n",
              "        async function quickchart(key) {\n",
              "          const quickchartButtonEl =\n",
              "            document.querySelector('#' + key + ' button');\n",
              "          quickchartButtonEl.disabled = true;  // To prevent multiple clicks.\n",
              "          quickchartButtonEl.classList.add('colab-df-spinner');\n",
              "          try {\n",
              "            const charts = await google.colab.kernel.invokeFunction(\n",
              "                'suggestCharts', [key], {});\n",
              "          } catch (error) {\n",
              "            console.error('Error during call to suggestCharts:', error);\n",
              "          }\n",
              "          quickchartButtonEl.classList.remove('colab-df-spinner');\n",
              "          quickchartButtonEl.classList.add('colab-df-quickchart-complete');\n",
              "        }\n",
              "        (() => {\n",
              "          let quickchartButtonEl =\n",
              "            document.querySelector('#df-6d63f717-94f6-4cbb-82ee-a1a4b26b47e2 button');\n",
              "          quickchartButtonEl.style.display =\n",
              "            google.colab.kernel.accessAllowed ? 'block' : 'none';\n",
              "        })();\n",
              "      </script>\n",
              "    </div>\n",
              "\n",
              "    </div>\n",
              "  </div>\n"
            ],
            "application/vnd.google.colaboratory.intrinsic+json": {
              "type": "dataframe",
              "variable_name": "data",
              "summary": "{\n  \"name\": \"data\",\n  \"rows\": 240,\n  \"fields\": [\n    {\n      \"column\": \"id\",\n      \"properties\": {\n        \"dtype\": \"string\",\n        \"num_unique_values\": 240,\n        \"samples\": [\n          \"T025\",\n          \"T007\",\n          \"F014\"\n        ],\n        \"semantic_type\": \"\",\n        \"description\": \"\"\n      }\n    },\n    {\n      \"column\": \"metodo\",\n      \"properties\": {\n        \"dtype\": \"category\",\n        \"num_unique_values\": 3,\n        \"samples\": [\n          \"Tradicional\",\n          \"Flipped\",\n          \"Online\"\n        ],\n        \"semantic_type\": \"\",\n        \"description\": \"\"\n      }\n    },\n    {\n      \"column\": \"horas_estudio\",\n      \"properties\": {\n        \"dtype\": \"number\",\n        \"std\": 0.909431680168025,\n        \"min\": 0.8948495705533328,\n        \"max\": 6.0,\n        \"num_unique_values\": 240,\n        \"samples\": [\n          2.4968954658007902,\n          1.5586566052855406,\n          3.6526667837987272\n        ],\n        \"semantic_type\": \"\",\n        \"description\": \"\"\n      }\n    },\n    {\n      \"column\": \"sede\",\n      \"properties\": {\n        \"dtype\": \"category\",\n        \"num_unique_values\": 3,\n        \"samples\": [\n          \"Centro\",\n          \"Norte\",\n          \"Sur\"\n        ],\n        \"semantic_type\": \"\",\n        \"description\": \"\"\n      }\n    },\n    {\n      \"column\": \"puntaje\",\n      \"properties\": {\n        \"dtype\": \"number\",\n        \"std\": 8.76126361078304,\n        \"min\": 55.90316300480328,\n        \"max\": 103.70497131695792,\n        \"num_unique_values\": 240,\n        \"samples\": [\n          71.80050852118879,\n          65.38722939046478,\n          77.00902060414661\n        ],\n        \"semantic_type\": \"\",\n        \"description\": \"\"\n      }\n    }\n  ]\n}"
            }
          },
          "metadata": {},
          "execution_count": 3
        }
      ],
      "source": [
        "data = pd.read_csv(\"datos_anova_estudiantes.csv\")\n",
        "data.head()"
      ]
    },
    {
      "cell_type": "code",
      "execution_count": 4,
      "id": "2b4efe10",
      "metadata": {
        "id": "2b4efe10"
      },
      "outputs": [],
      "source": [
        "def medidas_dispersion(datos : np.array):\n",
        "  data = np.asarray(datos, dtype=float)\n",
        "  rango = np.max(data) - np.min(data)\n",
        "  var_muestral = np.var(data, ddof=1)\n",
        "  desvest = np.std(data, ddof=1)\n",
        "  cv = (desvest / np.mean(data)) * 100\n",
        "  return pd.Series({\n",
        "        \"n\": len(data),\n",
        "        \"Media\": np.mean(data),\n",
        "        \"Rango\": rango,\n",
        "        \"Varianza\": var_muestral,\n",
        "        \"Desviación Estándar\": desvest,\n",
        "        \"Coeficiente de Variación (%)\": cv\n",
        "    })"
      ]
    },
    {
      "cell_type": "code",
      "source": [
        "tabla_disp = data.groupby(\"metodo\")[\"puntaje\"].apply(medidas_dispersion)\n",
        "tabla_disp"
      ],
      "metadata": {
        "colab": {
          "base_uri": "https://localhost:8080/",
          "height": 679
        },
        "id": "cavuaR9Ptvp3",
        "outputId": "7503caa6-2932-4ded-8dfc-068c60dce818"
      },
      "id": "cavuaR9Ptvp3",
      "execution_count": 5,
      "outputs": [
        {
          "output_type": "execute_result",
          "data": {
            "text/plain": [
              "metodo                                   \n",
              "Flipped      n                               80.000000\n",
              "             Media                           77.237565\n",
              "             Rango                           30.064118\n",
              "             Varianza                        40.913453\n",
              "             Desviación Estándar              6.396362\n",
              "             Coeficiente de Variación (%)     8.281414\n",
              "Online       n                               80.000000\n",
              "             Media                           82.073774\n",
              "             Rango                           47.801808\n",
              "             Varianza                        84.298157\n",
              "             Desviación Estándar              9.181403\n",
              "             Coeficiente de Variación (%)    11.186768\n",
              "Tradicional  n                               80.000000\n",
              "             Media                           73.314553\n",
              "             Rango                           37.557807\n",
              "             Varianza                        68.022574\n",
              "             Desviación Estándar              8.247580\n",
              "             Coeficiente de Variación (%)    11.249581\n",
              "Name: puntaje, dtype: float64"
            ],
            "text/html": [
              "<div>\n",
              "<style scoped>\n",
              "    .dataframe tbody tr th:only-of-type {\n",
              "        vertical-align: middle;\n",
              "    }\n",
              "\n",
              "    .dataframe tbody tr th {\n",
              "        vertical-align: top;\n",
              "    }\n",
              "\n",
              "    .dataframe thead th {\n",
              "        text-align: right;\n",
              "    }\n",
              "</style>\n",
              "<table border=\"1\" class=\"dataframe\">\n",
              "  <thead>\n",
              "    <tr style=\"text-align: right;\">\n",
              "      <th></th>\n",
              "      <th></th>\n",
              "      <th>puntaje</th>\n",
              "    </tr>\n",
              "    <tr>\n",
              "      <th>metodo</th>\n",
              "      <th></th>\n",
              "      <th></th>\n",
              "    </tr>\n",
              "  </thead>\n",
              "  <tbody>\n",
              "    <tr>\n",
              "      <th rowspan=\"6\" valign=\"top\">Flipped</th>\n",
              "      <th>n</th>\n",
              "      <td>80.000000</td>\n",
              "    </tr>\n",
              "    <tr>\n",
              "      <th>Media</th>\n",
              "      <td>77.237565</td>\n",
              "    </tr>\n",
              "    <tr>\n",
              "      <th>Rango</th>\n",
              "      <td>30.064118</td>\n",
              "    </tr>\n",
              "    <tr>\n",
              "      <th>Varianza</th>\n",
              "      <td>40.913453</td>\n",
              "    </tr>\n",
              "    <tr>\n",
              "      <th>Desviación Estándar</th>\n",
              "      <td>6.396362</td>\n",
              "    </tr>\n",
              "    <tr>\n",
              "      <th>Coeficiente de Variación (%)</th>\n",
              "      <td>8.281414</td>\n",
              "    </tr>\n",
              "    <tr>\n",
              "      <th rowspan=\"6\" valign=\"top\">Online</th>\n",
              "      <th>n</th>\n",
              "      <td>80.000000</td>\n",
              "    </tr>\n",
              "    <tr>\n",
              "      <th>Media</th>\n",
              "      <td>82.073774</td>\n",
              "    </tr>\n",
              "    <tr>\n",
              "      <th>Rango</th>\n",
              "      <td>47.801808</td>\n",
              "    </tr>\n",
              "    <tr>\n",
              "      <th>Varianza</th>\n",
              "      <td>84.298157</td>\n",
              "    </tr>\n",
              "    <tr>\n",
              "      <th>Desviación Estándar</th>\n",
              "      <td>9.181403</td>\n",
              "    </tr>\n",
              "    <tr>\n",
              "      <th>Coeficiente de Variación (%)</th>\n",
              "      <td>11.186768</td>\n",
              "    </tr>\n",
              "    <tr>\n",
              "      <th rowspan=\"6\" valign=\"top\">Tradicional</th>\n",
              "      <th>n</th>\n",
              "      <td>80.000000</td>\n",
              "    </tr>\n",
              "    <tr>\n",
              "      <th>Media</th>\n",
              "      <td>73.314553</td>\n",
              "    </tr>\n",
              "    <tr>\n",
              "      <th>Rango</th>\n",
              "      <td>37.557807</td>\n",
              "    </tr>\n",
              "    <tr>\n",
              "      <th>Varianza</th>\n",
              "      <td>68.022574</td>\n",
              "    </tr>\n",
              "    <tr>\n",
              "      <th>Desviación Estándar</th>\n",
              "      <td>8.247580</td>\n",
              "    </tr>\n",
              "    <tr>\n",
              "      <th>Coeficiente de Variación (%)</th>\n",
              "      <td>11.249581</td>\n",
              "    </tr>\n",
              "  </tbody>\n",
              "</table>\n",
              "</div><br><label><b>dtype:</b> float64</label>"
            ]
          },
          "metadata": {},
          "execution_count": 5
        }
      ]
    },
    {
      "cell_type": "code",
      "execution_count": 8,
      "id": "254f226f",
      "metadata": {
        "colab": {
          "base_uri": "https://localhost:8080/",
          "height": 493
        },
        "id": "254f226f",
        "outputId": "478deb44-b789-46f4-e0e1-8af2b82a7d9a"
      },
      "outputs": [
        {
          "output_type": "display_data",
          "data": {
            "text/plain": [
              "<Figure size 700x500 with 1 Axes>"
            ],
            "image/png": "[encoded data removed]"
          },
          "metadata": {}
        }
      ],
      "source": [
        "orden = data[\"metodo\"].unique().tolist()\n",
        "datos = [data.loc[data[\"metodo\"]==m, \"puntaje\"].values for m in orden]\n",
        "\n",
        "plt.figure(figsize=(7,5))\n",
        "plt.boxplot(datos, showmeans=True)\n",
        "plt.title(\"Puntaje por método de enseñanza\", fontsize=14, fontweight=\"bold\")\n",
        "plt.xlabel(\"Método\", fontsize=12, fontweight=\"bold\")\n",
        "plt.ylabel(\"Puntaje\", fontsize=12, fontweight=\"bold\")\n",
        "plt.show()"
      ]
    },
    {
      "cell_type": "markdown",
      "source": [
        "# Shapiro-Wilk"
      ],
      "metadata": {
        "id": "dW6XZm2_vZSB"
      },
      "id": "dW6XZm2_vZSB"
    },
    {
      "cell_type": "markdown",
      "source": [
        "+ Se trata de una prueba estadística utilizada para verificar si una muestra de datos proviene de una distriución normal.\n",
        "\n",
        "+ Calcula un estadístico llamada ***W*** que compara la muestra con una distribución normal teórica. Un valor cercano a 1 indica una mayor similitud con la normalidad y valores más bajos indican una desviación de la distribución normal.\n",
        "\n",
        "+ Es bastante útil porque varios métodos estadísticos (como la prueba *t* y ANOVA) asumen que los datos siguen una distribución normal y si esta suposición no se cumple entonces los resultados de estas pruebas podrían ser inválidos.\n",
        "\n",
        "**¿Cómo se interpreta?**\n",
        "\n",
        "+ Hipótesis nula ($H_0$): la muestra proviene de una población con distribución normal.\n",
        "\n",
        "+ Hipótesis alternativa ($H_1$): la muestra no proviene de una población con distribución normal.\n",
        "\n",
        "El resultado de la prueba se expresa como un valor *p*. Si el valor de *p* es menor a un nivel de significancia (normalmente 0.05) se rechaza la hipótesis nula indicando que los datos no son normales.\n",
        "\n",
        "**Consideraciones**\n",
        "\n",
        "+ Especialmente recomendada para muestras pequeñas (n < 50).\n",
        "+ Es una prueba útil, su precisión puede disminuir con muestras muy grandes.\n",
        "+ Es recomendable combinar con gráficos QQ plot para evaluación visual de la normalidad."
      ],
      "metadata": {
        "id": "hlkecxIAvd1C"
      },
      "id": "hlkecxIAvd1C"
    },
    {
      "cell_type": "code",
      "execution_count": 16,
      "id": "f52d8931",
      "metadata": {
        "colab": {
          "base_uri": "https://localhost:8080/"
        },
        "id": "f52d8931",
        "outputId": "9fe20d00-3b2a-4649-9fc1-5d865036a194"
      },
      "outputs": [
        {
          "output_type": "stream",
          "name": "stdout",
          "text": [
            "Shapiro Tradicional: W=0.990, p=0.8077\n",
            "Shapiro Flipped: W=0.992, p=0.9268\n",
            "Shapiro Online: W=0.986, p=0.5600\n"
          ]
        }
      ],
      "source": [
        "# Normalidad por grupo (Shapiro-Wilk)\n",
        "for m in data[\"metodo\"].unique():\n",
        "  valores = data.loc[data[\"metodo\"]==m, \"puntaje\"].values\n",
        "  stat, p = stats.shapiro(valores)\n",
        "  print(f\"Shapiro {m}: W={stat:.3f}, p={p:.4f}\")"
      ]
    },
    {
      "cell_type": "code",
      "source": [
        "def view_QQ_plot(data : pd.DataFrame, target : str):\n",
        "  fig = sm.qqplot(data.loc[data[\"metodo\"]==target, \"puntaje\"].values, line='s')\n",
        "  plt.title(f\"Q-Q Plot de método '{target}'\", fontsize=14, fontweight=\"bold\")\n",
        "  plt.show()"
      ],
      "metadata": {
        "id": "3e5JC1uez7-5"
      },
      "id": "3e5JC1uez7-5",
      "execution_count": 21,
      "outputs": []
    },
    {
      "cell_type": "code",
      "source": [
        "view_QQ_plot(data, \"Tradicional\")"
      ],
      "metadata": {
        "colab": {
          "base_uri": "https://localhost:8080/",
          "height": 473
        },
        "id": "DK1ttPK-0tgL",
        "outputId": "026f3d0a-f793-4da8-f808-ef9314d7f756"
      },
      "id": "DK1ttPK-0tgL",
      "execution_count": 22,
      "outputs": [
        {
          "output_type": "display_data",
          "data": {
            "text/plain": [
              "<Figure size 640x480 with 1 Axes>"
            ],
            "image/png": "[encoded data removed]"
          },
          "metadata": {}
        }
      ]
    },
    {
      "cell_type": "code",
      "source": [
        "view_QQ_plot(data, \"Flipped\")"
      ],
      "metadata": {
        "colab": {
          "base_uri": "https://localhost:8080/",
          "height": 474
        },
        "id": "czSYhCE5022J",
        "outputId": "916c0370-7749-4b9a-e6ba-26de04121c8d"
      },
      "id": "czSYhCE5022J",
      "execution_count": 23,
      "outputs": [
        {
          "output_type": "display_data",
          "data": {
            "text/plain": [
              "<Figure size 640x480 with 1 Axes>"
            ],
            "image/png": "[encoded data removed]"
          },
          "metadata": {}
        }
      ]
    },
    {
      "cell_type": "code",
      "source": [
        "view_QQ_plot(data, \"Online\")"
      ],
      "metadata": {
        "colab": {
          "base_uri": "https://localhost:8080/",
          "height": 473
        },
        "id": "uXO-CeCr08nD",
        "outputId": "f9987b8c-f536-4660-aa9d-e5dd125bc1dd"
      },
      "id": "uXO-CeCr08nD",
      "execution_count": 24,
      "outputs": [
        {
          "output_type": "display_data",
          "data": {
            "text/plain": [
              "<Figure size 640x480 with 1 Axes>"
            ],
            "image/png": "[encoded data removed]"
          },
          "metadata": {}
        }
      ]
    },
    {
      "cell_type": "code",
      "execution_count": 27,
      "id": "eb306227",
      "metadata": {
        "colab": {
          "base_uri": "https://localhost:8080/"
        },
        "id": "eb306227",
        "outputId": "1e011e05-1bc3-4a71-d219-edcff61416d9"
      },
      "outputs": [
        {
          "output_type": "stream",
          "name": "stdout",
          "text": [
            "ANOVA: F=23.909, p=0.000000\n"
          ]
        }
      ],
      "source": [
        "grupos = [data.loc[data[\"metodo\"]==m, \"puntaje\"].values for m in data[\"metodo\"].unique()]\n",
        "f_stat, p_val = stats.f_oneway(*grupos)\n",
        "print(f\"ANOVA: F={f_stat:.3f}, p={p_val:.6f}\")"
      ]
    },
    {
      "cell_type": "markdown",
      "source": [
        "# Prueba Tukey HSD"
      ],
      "metadata": {
        "id": "oXe7Wo2wyUzH"
      },
      "id": "oXe7Wo2wyUzH"
    },
    {
      "cell_type": "markdown",
      "source": [
        "+ **Tukey HSD (Honest Significant Difference)** es un conocido método estadístico utilizado para realizar comparaciones múltiples entre medias de grupos, especialmente después de realizar un análisis de varianza (ANOVA).\n",
        "\n",
        "+ Su objetivo es determinar qué grupos difieren significativamente entre si."
      ],
      "metadata": {
        "id": "xkcjgfmdyYvq"
      },
      "id": "xkcjgfmdyYvq"
    },
    {
      "cell_type": "code",
      "execution_count": 28,
      "id": "9ed70b3e",
      "metadata": {
        "colab": {
          "base_uri": "https://localhost:8080/"
        },
        "id": "9ed70b3e",
        "outputId": "62f3d7bd-4e75-4364-c919-1ac3d1a572f2"
      },
      "outputs": [
        {
          "output_type": "stream",
          "name": "stdout",
          "text": [
            "    Multiple Comparison of Means - Tukey HSD, FWER=0.05    \n",
            "===========================================================\n",
            " group1    group2   meandiff p-adj   lower    upper  reject\n",
            "-----------------------------------------------------------\n",
            "Flipped      Online   4.8362 0.0005   1.8433  7.8291   True\n",
            "Flipped Tradicional   -3.923 0.0063  -6.9159 -0.9301   True\n",
            " Online Tradicional  -8.7592    0.0 -11.7521 -5.7663   True\n",
            "-----------------------------------------------------------\n"
          ]
        }
      ],
      "source": [
        "tukey = pairwise_tukeyhsd(endog=data[\"puntaje\"], groups=data[\"metodo\"], alpha=0.05)\n",
        "print(tukey)"
      ]
    },
    {
      "cell_type": "markdown",
      "id": "f23fe783",
      "metadata": {
        "id": "f23fe783"
      },
      "source": [
        "# Conclusión (para completar)\n",
        "- ¿Se rechazó H₀? (p < 0.05)\n",
        "- ¿Qué pares difieren según Tukey?\n",
        "- ¿Cuál es el método con mayor media y cómo se ve su variabilidad (CV)?"
      ]
    }
  ],
  "metadata": {
    "colab": {
      "provenance": []
    },
    "language_info": {
      "name": "python"
    },
    "kernelspec": {
      "name": "python3",
      "display_name": "Python 3"
    }
  },
  "nbformat": 4,
  "nbformat_minor": 5
}