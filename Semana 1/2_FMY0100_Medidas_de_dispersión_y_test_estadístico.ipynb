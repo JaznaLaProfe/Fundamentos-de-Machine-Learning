{
  "nbformat": 4,
  "nbformat_minor": 0,
  "metadata": {
    "colab": {
      "provenance": []
    },
    "kernelspec": {
      "name": "python3",
      "display_name": "Python 3"
    },
    "language_info": {
      "name": "python"
    }
  },
  "cells": [
    {
      "cell_type": "markdown",
      "source": [
        "# Medidas de dispersión y test de ANOVA\n",
        "\n",
        "**Autor:** Jazna Meza Hidalgo\n",
        "\n",
        "**Correo Electrónico:** ja.meza@profesor.duoc.cl\n",
        "\n",
        "**Fecha de Creación:** Agosto de 2025\n",
        "\n",
        "**Versión:** 1.0  \n",
        "\n",
        "---\n",
        "\n",
        "## Descripción\n",
        "\n",
        "Este notebook contiene la explicación inicial de la forma de calcular las medidas estadísticas de dispersión y un test estadíctico (ANOVA).\n",
        "\n",
        "---\n",
        "\n",
        "## Requisitos de Software\n",
        "\n",
        "Este notebook fue desarrollado con Python 3.9. A continuación se listan las bibliotecas necesarias:\n",
        "\n",
        "- pandas (2.2.2)\n",
        "- numpy (2.02)\n",
        "\n",
        "Para verificar la versión instalada ejecutar usando el siguiente comando, usando la librería de la cual quieres saber la versión:\n",
        "\n",
        "```bash\n",
        "import pandas as pd\n",
        "print(pd.__version__)\n",
        "````\n"
      ],
      "metadata": {
        "id": "_f4ztzXV8Q-N"
      }
    },
    {
      "cell_type": "code",
      "source": [
        "import numpy as np\n",
        "import pandas as pd\n",
        "import matplotlib.pyplot as plt\n",
        "import seaborn as sns\n",
        "from scipy import stats"
      ],
      "metadata": {
        "id": "PxShhsuugUw6"
      },
      "execution_count": null,
      "outputs": []
    },
    {
      "cell_type": "code",
      "source": [
        "np.random.seed(29)\n",
        "grupo_A = np.random.normal(loc=50, scale=5, size=30)  # media = 50\n",
        "grupo_B = np.random.normal(loc=55, scale=5, size=30)  # media = 55\n",
        "grupo_C = np.random.normal(loc=60, scale=5, size=30)  # media = 60"
      ],
      "metadata": {
        "id": "zWDLhMZFjx6s"
      },
      "execution_count": null,
      "outputs": []
    },
    {
      "cell_type": "code",
      "source": [
        "# Armar DataFrame\n",
        "data = pd.DataFrame({\n",
        "    \"valor\": np.concatenate([grupo_A, grupo_B, grupo_C]),\n",
        "    \"grupo\": [\"A\"]*30 + [\"B\"]*30 + [\"C\"]*30\n",
        "})"
      ],
      "metadata": {
        "id": "qXpJOmqsj6kF"
      },
      "execution_count": null,
      "outputs": []
    },
    {
      "cell_type": "markdown",
      "source": [
        "# Medidas de dispersión"
      ],
      "metadata": {
        "id": "37geTulDkCoP"
      }
    },
    {
      "cell_type": "markdown",
      "source": [
        "Ayudan a entender cómo se distribuyen los datos"
      ],
      "metadata": {
        "id": "ebiScloVkso7"
      }
    },
    {
      "cell_type": "code",
      "source": [
        "# Función para calcular medidas de dispersión de un grupo\n",
        "def medidas_dispersion(datos):\n",
        "    rango = np.max(datos) - np.min(datos)\n",
        "    varianza = np.var(datos, ddof=1)  # ddof=1 para varianza muestral\n",
        "    desviacion = np.std(datos, ddof=1)\n",
        "    cv = (desviacion / np.mean(datos)) * 100\n",
        "    return {\n",
        "        \"Rango\": rango,\n",
        "        \"Varianza\": varianza,\n",
        "        \"Desviación Estándar\": desviacion,\n",
        "        \"Coeficiente de Variación (%)\": cv\n",
        "    }\n",
        "\n",
        "# Calcular para cada grupo\n",
        "disp_A = medidas_dispersion(grupo_A)\n",
        "disp_B = medidas_dispersion(grupo_B)\n",
        "disp_C = medidas_dispersion(grupo_C)\n",
        "\n",
        "# Mostrar en un DataFrame comparativo\n",
        "disp_df = pd.DataFrame([disp_A, disp_B, disp_C], index=[\"Grupo A\", \"Grupo B\", \"Grupo C\"]).round(2)\n",
        "print(\"Medidas de dispersión por grupo:\")\n",
        "display(disp_df)\n"
      ],
      "metadata": {
        "colab": {
          "base_uri": "https://localhost:8080/",
          "height": 160
        },
        "id": "ZDPfE8_sjtuv",
        "outputId": "1ba954cf-6f95-45ad-9d9e-e196098492e3"
      },
      "execution_count": null,
      "outputs": [
        {
          "output_type": "stream",
          "name": "stdout",
          "text": [
            "Medidas de dispersión por grupo:\n"
          ]
        },
        {
          "output_type": "display_data",
          "data": {
            "text/plain": [
              "         Rango  Varianza  Desviación Estándar  Coeficiente de Variación (%)\n",
              "Grupo A  21.30     27.30                 5.22                         10.20\n",
              "Grupo B  25.70     42.64                 6.53                         12.12\n",
              "Grupo C  25.43     26.29                 5.13                          8.57"
            ],
            "text/html": [
              "\n",
              "  <div id=\"df-7f9dcd82-71d4-480e-8e16-424c20403332\" class=\"colab-df-container\">\n",
              "    <div>\n",
              "<style scoped>\n",
              "    .dataframe tbody tr th:only-of-type {\n",
              "        vertical-align: middle;\n",
              "    }\n",
              "\n",
              "    .dataframe tbody tr th {\n",
              "        vertical-align: top;\n",
              "    }\n",
              "\n",
              "    .dataframe thead th {\n",
              "        text-align: right;\n",
              "    }\n",
              "</style>\n",
              "<table border=\"1\" class=\"dataframe\">\n",
              "  <thead>\n",
              "    <tr style=\"text-align: right;\">\n",
              "      <th></th>\n",
              "      <th>Rango</th>\n",
              "      <th>Varianza</th>\n",
              "      <th>Desviación Estándar</th>\n",
              "      <th>Coeficiente de Variación (%)</th>\n",
              "    </tr>\n",
              "  </thead>\n",
              "  <tbody>\n",
              "    <tr>\n",
              "      <th>Grupo A</th>\n",
              "      <td>21.30</td>\n",
              "      <td>27.30</td>\n",
              "      <td>5.22</td>\n",
              "      <td>10.20</td>\n",
              "    </tr>\n",
              "    <tr>\n",
              "      <th>Grupo B</th>\n",
              "      <td>25.70</td>\n",
              "      <td>42.64</td>\n",
              "      <td>6.53</td>\n",
              "      <td>12.12</td>\n",
              "    </tr>\n",
              "    <tr>\n",
              "      <th>Grupo C</th>\n",
              "      <td>25.43</td>\n",
              "      <td>26.29</td>\n",
              "      <td>5.13</td>\n",
              "      <td>8.57</td>\n",
              "    </tr>\n",
              "  </tbody>\n",
              "</table>\n",
              "</div>\n",
              "    <div class=\"colab-df-buttons\">\n",
              "\n",
              "  <div class=\"colab-df-container\">\n",
              "    <button class=\"colab-df-convert\" onclick=\"convertToInteractive('df-7f9dcd82-71d4-480e-8e16-424c20403332')\"\n",
              "            title=\"Convert this dataframe to an interactive table.\"\n",
              "            style=\"display:none;\">\n",
              "\n",
              "  <svg xmlns=\"http://www.w3.org/2000/svg\" height=\"24px\" viewBox=\"0 -960 960 960\">\n",
              "    <path d=\"M120-120v-720h720v720H120Zm60-500h600v-160H180v160Zm220 220h160v-160H400v160Zm0 220h160v-160H400v160ZM180-400h160v-160H180v160Zm440 0h160v-160H620v160ZM180-180h160v-160H180v160Zm440 0h160v-160H620v160Z\"/>\n",
              "  </svg>\n",
              "    </button>\n",
              "\n",
              "  <style>\n",
              "    .colab-df-container {\n",
              "      display:flex;\n",
              "      gap: 12px;\n",
              "    }\n",
              "\n",
              "    .colab-df-convert {\n",
              "      background-color: #E8F0FE;\n",
              "      border: none;\n",
              "      border-radius: 50%;\n",
              "      cursor: pointer;\n",
              "      display: none;\n",
              "      fill: #1967D2;\n",
              "      height: 32px;\n",
              "      padding: 0 0 0 0;\n",
              "      width: 32px;\n",
              "    }\n",
              "\n",
              "    .colab-df-convert:hover {\n",
              "      background-color: #E2EBFA;\n",
              "      box-shadow: 0px 1px 2px rgba(60, 64, 67, 0.3), 0px 1px 3px 1px rgba(60, 64, 67, 0.15);\n",
              "      fill: #174EA6;\n",
              "    }\n",
              "\n",
              "    .colab-df-buttons div {\n",
              "      margin-bottom: 4px;\n",
              "    }\n",
              "\n",
              "    [theme=dark] .colab-df-convert {\n",
              "      background-color: #3B4455;\n",
              "      fill: #D2E3FC;\n",
              "    }\n",
              "\n",
              "    [theme=dark] .colab-df-convert:hover {\n",
              "      background-color: #434B5C;\n",
              "      box-shadow: 0px 1px 3px 1px rgba(0, 0, 0, 0.15);\n",
              "      filter: drop-shadow(0px 1px 2px rgba(0, 0, 0, 0.3));\n",
              "      fill: #FFFFFF;\n",
              "    }\n",
              "  </style>\n",
              "\n",
              "    <script>\n",
              "      const buttonEl =\n",
              "        document.querySelector('#df-7f9dcd82-71d4-480e-8e16-424c20403332 button.colab-df-convert');\n",
              "      buttonEl.style.display =\n",
              "        google.colab.kernel.accessAllowed ? 'block' : 'none';\n",
              "\n",
              "      async function convertToInteractive(key) {\n",
              "        const element = document.querySelector('#df-7f9dcd82-71d4-480e-8e16-424c20403332');\n",
              "        const dataTable =\n",
              "          await google.colab.kernel.invokeFunction('convertToInteractive',\n",
              "                                                    [key], {});\n",
              "        if (!dataTable) return;\n",
              "\n",
              "        const docLinkHtml = 'Like what you see? Visit the ' +\n",
              "          '<a target=\"_blank\" href=https://colab.research.google.com/notebooks/data_table.ipynb>data table notebook</a>'\n",
              "          + ' to learn more about interactive tables.';\n",
              "        element.innerHTML = '';\n",
              "        dataTable['output_type'] = 'display_data';\n",
              "        await google.colab.output.renderOutput(dataTable, element);\n",
              "        const docLink = document.createElement('div');\n",
              "        docLink.innerHTML = docLinkHtml;\n",
              "        element.appendChild(docLink);\n",
              "      }\n",
              "    </script>\n",
              "  </div>\n",
              "\n",
              "\n",
              "    <div id=\"df-8a8d373a-4a21-4240-b0f1-1eaec37e9cdb\">\n",
              "      <button class=\"colab-df-quickchart\" onclick=\"quickchart('df-8a8d373a-4a21-4240-b0f1-1eaec37e9cdb')\"\n",
              "                title=\"Suggest charts\"\n",
              "                style=\"display:none;\">\n",
              "\n",
              "<svg xmlns=\"http://www.w3.org/2000/svg\" height=\"24px\"viewBox=\"0 0 24 24\"\n",
              "     width=\"24px\">\n",
              "    <g>\n",
              "        <path d=\"M19 3H5c-1.1 0-2 .9-2 2v14c0 1.1.9 2 2 2h14c1.1 0 2-.9 2-2V5c0-1.1-.9-2-2-2zM9 17H7v-7h2v7zm4 0h-2V7h2v10zm4 0h-2v-4h2v4z\"/>\n",
              "    </g>\n",
              "</svg>\n",
              "      </button>\n",
              "\n",
              "<style>\n",
              "  .colab-df-quickchart {\n",
              "      --bg-color: #E8F0FE;\n",
              "      --fill-color: #1967D2;\n",
              "      --hover-bg-color: #E2EBFA;\n",
              "      --hover-fill-color: #174EA6;\n",
              "      --disabled-fill-color: #AAA;\n",
              "      --disabled-bg-color: #DDD;\n",
              "  }\n",
              "\n",
              "  [theme=dark] .colab-df-quickchart {\n",
              "      --bg-color: #3B4455;\n",
              "      --fill-color: #D2E3FC;\n",
              "      --hover-bg-color: #434B5C;\n",
              "      --hover-fill-color: #FFFFFF;\n",
              "      --disabled-bg-color: #3B4455;\n",
              "      --disabled-fill-color: #666;\n",
              "  }\n",
              "\n",
              "  .colab-df-quickchart {\n",
              "    background-color: var(--bg-color);\n",
              "    border: none;\n",
              "    border-radius: 50%;\n",
              "    cursor: pointer;\n",
              "    display: none;\n",
              "    fill: var(--fill-color);\n",
              "    height: 32px;\n",
              "    padding: 0;\n",
              "    width: 32px;\n",
              "  }\n",
              "\n",
              "  .colab-df-quickchart:hover {\n",
              "    background-color: var(--hover-bg-color);\n",
              "    box-shadow: 0 1px 2px rgba(60, 64, 67, 0.3), 0 1px 3px 1px rgba(60, 64, 67, 0.15);\n",
              "    fill: var(--button-hover-fill-color);\n",
              "  }\n",
              "\n",
              "  .colab-df-quickchart-complete:disabled,\n",
              "  .colab-df-quickchart-complete:disabled:hover {\n",
              "    background-color: var(--disabled-bg-color);\n",
              "    fill: var(--disabled-fill-color);\n",
              "    box-shadow: none;\n",
              "  }\n",
              "\n",
              "  .colab-df-spinner {\n",
              "    border: 2px solid var(--fill-color);\n",
              "    border-color: transparent;\n",
              "    border-bottom-color: var(--fill-color);\n",
              "    animation:\n",
              "      spin 1s steps(1) infinite;\n",
              "  }\n",
              "\n",
              "  @keyframes spin {\n",
              "    0% {\n",
              "      border-color: transparent;\n",
              "      border-bottom-color: var(--fill-color);\n",
              "      border-left-color: var(--fill-color);\n",
              "    }\n",
              "    20% {\n",
              "      border-color: transparent;\n",
              "      border-left-color: var(--fill-color);\n",
              "      border-top-color: var(--fill-color);\n",
              "    }\n",
              "    30% {\n",
              "      border-color: transparent;\n",
              "      border-left-color: var(--fill-color);\n",
              "      border-top-color: var(--fill-color);\n",
              "      border-right-color: var(--fill-color);\n",
              "    }\n",
              "    40% {\n",
              "      border-color: transparent;\n",
              "      border-right-color: var(--fill-color);\n",
              "      border-top-color: var(--fill-color);\n",
              "    }\n",
              "    60% {\n",
              "      border-color: transparent;\n",
              "      border-right-color: var(--fill-color);\n",
              "    }\n",
              "    80% {\n",
              "      border-color: transparent;\n",
              "      border-right-color: var(--fill-color);\n",
              "      border-bottom-color: var(--fill-color);\n",
              "    }\n",
              "    90% {\n",
              "      border-color: transparent;\n",
              "      border-bottom-color: var(--fill-color);\n",
              "    }\n",
              "  }\n",
              "</style>\n",
              "\n",
              "      <script>\n",
              "        async function quickchart(key) {\n",
              "          const quickchartButtonEl =\n",
              "            document.querySelector('#' + key + ' button');\n",
              "          quickchartButtonEl.disabled = true;  // To prevent multiple clicks.\n",
              "          quickchartButtonEl.classList.add('colab-df-spinner');\n",
              "          try {\n",
              "            const charts = await google.colab.kernel.invokeFunction(\n",
              "                'suggestCharts', [key], {});\n",
              "          } catch (error) {\n",
              "            console.error('Error during call to suggestCharts:', error);\n",
              "          }\n",
              "          quickchartButtonEl.classList.remove('colab-df-spinner');\n",
              "          quickchartButtonEl.classList.add('colab-df-quickchart-complete');\n",
              "        }\n",
              "        (() => {\n",
              "          let quickchartButtonEl =\n",
              "            document.querySelector('#df-8a8d373a-4a21-4240-b0f1-1eaec37e9cdb button');\n",
              "          quickchartButtonEl.style.display =\n",
              "            google.colab.kernel.accessAllowed ? 'block' : 'none';\n",
              "        })();\n",
              "      </script>\n",
              "    </div>\n",
              "\n",
              "  <div id=\"id_978228bd-bd0f-477b-bfd0-b289d8c1ec10\">\n",
              "    <style>\n",
              "      .colab-df-generate {\n",
              "        background-color: #E8F0FE;\n",
              "        border: none;\n",
              "        border-radius: 50%;\n",
              "        cursor: pointer;\n",
              "        display: none;\n",
              "        fill: #1967D2;\n",
              "        height: 32px;\n",
              "        padding: 0 0 0 0;\n",
              "        width: 32px;\n",
              "      }\n",
              "\n",
              "      .colab-df-generate:hover {\n",
              "        background-color: #E2EBFA;\n",
              "        box-shadow: 0px 1px 2px rgba(60, 64, 67, 0.3), 0px 1px 3px 1px rgba(60, 64, 67, 0.15);\n",
              "        fill: #174EA6;\n",
              "      }\n",
              "\n",
              "      [theme=dark] .colab-df-generate {\n",
              "        background-color: #3B4455;\n",
              "        fill: #D2E3FC;\n",
              "      }\n",
              "\n",
              "      [theme=dark] .colab-df-generate:hover {\n",
              "        background-color: #434B5C;\n",
              "        box-shadow: 0px 1px 3px 1px rgba(0, 0, 0, 0.15);\n",
              "        filter: drop-shadow(0px 1px 2px rgba(0, 0, 0, 0.3));\n",
              "        fill: #FFFFFF;\n",
              "      }\n",
              "    </style>\n",
              "    <button class=\"colab-df-generate\" onclick=\"generateWithVariable('disp_df')\"\n",
              "            title=\"Generate code using this dataframe.\"\n",
              "            style=\"display:none;\">\n",
              "\n",
              "  <svg xmlns=\"http://www.w3.org/2000/svg\" height=\"24px\"viewBox=\"0 0 24 24\"\n",
              "       width=\"24px\">\n",
              "    <path d=\"M7,19H8.4L18.45,9,17,7.55,7,17.6ZM5,21V16.75L18.45,3.32a2,2,0,0,1,2.83,0l1.4,1.43a1.91,1.91,0,0,1,.58,1.4,1.91,1.91,0,0,1-.58,1.4L9.25,21ZM18.45,9,17,7.55Zm-12,3A5.31,5.31,0,0,0,4.9,8.1,5.31,5.31,0,0,0,1,6.5,5.31,5.31,0,0,0,4.9,4.9,5.31,5.31,0,0,0,6.5,1,5.31,5.31,0,0,0,8.1,4.9,5.31,5.31,0,0,0,12,6.5,5.46,5.46,0,0,0,6.5,12Z\"/>\n",
              "  </svg>\n",
              "    </button>\n",
              "    <script>\n",
              "      (() => {\n",
              "      const buttonEl =\n",
              "        document.querySelector('#id_978228bd-bd0f-477b-bfd0-b289d8c1ec10 button.colab-df-generate');\n",
              "      buttonEl.style.display =\n",
              "        google.colab.kernel.accessAllowed ? 'block' : 'none';\n",
              "\n",
              "      buttonEl.onclick = () => {\n",
              "        google.colab.notebook.generateWithVariable('disp_df');\n",
              "      }\n",
              "      })();\n",
              "    </script>\n",
              "  </div>\n",
              "\n",
              "    </div>\n",
              "  </div>\n"
            ],
            "application/vnd.google.colaboratory.intrinsic+json": {
              "type": "dataframe",
              "variable_name": "disp_df",
              "summary": "{\n  \"name\": \"disp_df\",\n  \"rows\": 3,\n  \"fields\": [\n    {\n      \"column\": \"Rango\",\n      \"properties\": {\n        \"dtype\": \"number\",\n        \"std\": 2.466096781015159,\n        \"min\": 21.3,\n        \"max\": 25.7,\n        \"num_unique_values\": 3,\n        \"samples\": [\n          21.3,\n          25.7,\n          25.43\n        ],\n        \"semantic_type\": \"\",\n        \"description\": \"\"\n      }\n    },\n    {\n      \"column\": \"Varianza\",\n      \"properties\": {\n        \"dtype\": \"number\",\n        \"std\": 9.162043076374033,\n        \"min\": 26.29,\n        \"max\": 42.64,\n        \"num_unique_values\": 3,\n        \"samples\": [\n          27.3,\n          42.64,\n          26.29\n        ],\n        \"semantic_type\": \"\",\n        \"description\": \"\"\n      }\n    },\n    {\n      \"column\": \"Desviaci\\u00f3n Est\\u00e1ndar\",\n      \"properties\": {\n        \"dtype\": \"number\",\n        \"std\": 0.7836027905344224,\n        \"min\": 5.13,\n        \"max\": 6.53,\n        \"num_unique_values\": 3,\n        \"samples\": [\n          5.22,\n          6.53,\n          5.13\n        ],\n        \"semantic_type\": \"\",\n        \"description\": \"\"\n      }\n    },\n    {\n      \"column\": \"Coeficiente de Variaci\\u00f3n (%)\",\n      \"properties\": {\n        \"dtype\": \"number\",\n        \"std\": 1.7769730817694822,\n        \"min\": 8.57,\n        \"max\": 12.12,\n        \"num_unique_values\": 3,\n        \"samples\": [\n          10.2,\n          12.12,\n          8.57\n        ],\n        \"semantic_type\": \"\",\n        \"description\": \"\"\n      }\n    }\n  ]\n}"
            }
          },
          "metadata": {}
        }
      ]
    },
    {
      "cell_type": "markdown",
      "source": [
        "Las medidas de dispersión indican cuánto se alejan los datos de la media o del centro. Sirven para evaluar la variabilidad de los datos.\n",
        "\n",
        "**Rango**\n",
        "\n",
        "Diferencia entre el valor máximo y mínimo.\n",
        "\n",
        "Ejemplo: si las notas van de 40 a 65, el rango es 25.\n",
        "\n",
        "**Varianza ($\\sigma^2$ o $s^2$)**\n",
        "\n",
        "+ Promedio de las desviaciones cuadráticas respecto de la media.\n",
        "\n",
        "+ Mientras mayor sea, más dispersos están los datos.\n",
        "\n",
        "**Desviación estándar ($\\sigma$ o s)**\n",
        "\n",
        "+ Raíz cuadrada de la varianza.\n",
        "\n",
        "+ Se mide en las mismas unidades que los datos, por lo que es más interpretable.\n",
        "\n",
        "**Coeficiente de variación (CV)**\n",
        "\n",
        "+ Relación entre la desviación estándar y la media, expresada en %.\n",
        "\n",
        "+ Sirve para comparar la variabilidad relativa entre grupos con escalas distintas."
      ],
      "metadata": {
        "id": "WdTeZmtFk0Dk"
      }
    },
    {
      "cell_type": "markdown",
      "source": [
        "# Test de ANOVA"
      ],
      "metadata": {
        "id": "oy9QjO6LkAI5"
      }
    },
    {
      "cell_type": "markdown",
      "source": [
        "**ANOVA (Analysis of Variance)** es una prueba estadística que permite comparar las medias de 3 o más grupos para ver si existen diferencias significativas entre ellas.\n",
        "\n",
        "**Hipótesis:**\n",
        "+ $H_0$: Todas las medias son iguales.\n",
        "+ $H_1$: Al menos una media es diferente."
      ],
      "metadata": {
        "id": "8ZkbJygqmBRE"
      }
    },
    {
      "cell_type": "code",
      "source": [
        "# Visualización de los grupos\n",
        "plt.figure(figsize=(8,5))\n",
        "sns.boxplot(x=\"grupo\", y=\"valor\", data=data, legend=False)\n",
        "plt.title(\"Distribución de valores por grupo\", fontsize=12, fontweight=\"bold\")\n",
        "plt.show()\n",
        "\n",
        "# ANOVA con scipy\n",
        "anova_result = stats.f_oneway(grupo_A, grupo_B, grupo_C)\n",
        "print(f\"Estadístico F: {anova_result.statistic:.2f}\")\n",
        "print(f\"p-valor: {anova_result.pvalue}\")\n",
        "\n",
        "# 5. Interpretación\n",
        "if anova_result.pvalue < 0.05:\n",
        "    print(\"Rechazamos H0: Hay diferencias significativas entre las medias.\")\n",
        "else:\n",
        "    print(\"No se rechaza H0: No hay evidencia de diferencias entre las medias.\")"
      ],
      "metadata": {
        "colab": {
          "base_uri": "https://localhost:8080/",
          "height": 540
        },
        "id": "hmFTRifYj_Rj",
        "outputId": "c7f9df18-b7a4-4954-c1da-facd282d065b"
      },
      "execution_count": null,
      "outputs": [
        {
          "output_type": "display_data",
          "data": {
            "text/plain": [
              "<Figure size 800x500 with 1 Axes>"
            ],
            "image/png": "[encoded data removed]"
          },
          "metadata": {}
        },
        {
          "output_type": "stream",
          "name": "stdout",
          "text": [
            "Estadístico F: 18.39\n",
            "p-valor: 2.1877566118200992e-07\n",
            "Rechazamos H0: Hay diferencias significativas entre las medias.\n"
          ]
        }
      ]
    },
    {
      "cell_type": "markdown",
      "source": [
        "¿Por qué sirve para comparar tres o más medias de grupos independientes?\n",
        "\n",
        "+ Si se tienen sólo dos grupos, el test de ANOVA se reduce matemáticamente a una prueba *t de Student* para muestras independientes.\n",
        "\n",
        "+ En ambos casos (ANOVA con 2 grupos o t-test), el estadístico F del ANOVA es igual al cuadrado del estadístico t: $F=t^2$\n",
        "\n",
        "Esto significa que no aporta información extra aplicar ANOVA a 2 grupos, porque es equivalente al test t."
      ],
      "metadata": {
        "id": "ATITZ_txmnDV"
      }
    },
    {
      "cell_type": "code",
      "source": [
        "np.random.seed(29)\n",
        "grupo1 = np.random.normal(50, 5, 30)\n",
        "grupo2 = np.random.normal(55, 5, 30)\n",
        "\n",
        "# t-test\n",
        "t_stat, p_t = stats.ttest_ind(grupo1, grupo2)\n",
        "\n",
        "# ANOVA con dos grupos\n",
        "f_stat, p_f = stats.f_oneway(grupo1, grupo2)\n",
        "\n",
        "print(f\"t-test: t = {t_stat} p = {p_t}\")\n",
        "print(f\"ANOVA : F = {f_stat} p = {p_f}\")\n",
        "print(f\"Verificación: F = t^2 → {round(t_stat**2,4)} ≈ {round(f_stat,4)}\")\n"
      ],
      "metadata": {
        "colab": {
          "base_uri": "https://localhost:8080/"
        },
        "id": "VUWcJWexnEg8",
        "outputId": "5d83ad3a-4285-427c-dfac-ccbe6b13aa93"
      },
      "execution_count": null,
      "outputs": [
        {
          "output_type": "stream",
          "name": "stdout",
          "text": [
            "t-test: t = -1.7390116494936625 p = 0.08733820380498684\n",
            "ANOVA:  F = 3.024161517074692 p = 0.08733820380498601\n",
            "Verificación: F = t^2 → 3.0242 ≈ 3.0242\n"
          ]
        }
      ]
    }
  ]
}