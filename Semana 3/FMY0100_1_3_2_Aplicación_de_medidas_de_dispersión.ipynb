{
  "nbformat": 4,
  "nbformat_minor": 0,
  "metadata": {
    "colab": {
      "provenance": []
    },
    "kernelspec": {
      "name": "python3",
      "display_name": "Python 3"
    },
    "language_info": {
      "name": "python"
    }
  },
  "cells": [
    {
      "cell_type": "markdown",
      "source": [
        "# Introducción\n",
        "Las actividades que desarrollaremos en este laboratorio son las siguientes:\n",
        "\n",
        "Cargar un archivo con datos en tu entorno de trabajo\n",
        "Generar medidas de tendencia central\n",
        "Generar medidas de Dispersión\n",
        "Crear gráficos con matplotlib y seaborn\n",
        "¡Empezamos!\n",
        "\n",
        "Importar las librerías\n",
        "Antes de empezar vamos a importar las siguientes librerías:\n",
        "\n",
        "numpy: El popular paquete matemático de Python, se utiliza tanto que mucha gente ya lo considera parte integral del lenguaje. Nos proporciona algunas funciones estadísticas que podemos aplicar fácilmente sobre los arrays de Numpy.\n",
        "\n",
        "matplotlib: Es la librería más popular en Python para visualizaciones y gráficos. Ella nos va a permitir realizar los gráficos de las distintas distribuciones de datos.\n",
        "\n",
        "seaborn: Esta librería es un complemento ideal de matplotlib para realizar gráficos estadísticos.\n",
        "\n",
        "pandas: Esta es la librería más popular para análisis de datos y financieros. Posee algunas funciones muy útiles para realizar estadística descriptiva sobre nuestros datos y nos facilita sobremanera el trabajar con series de tiempo."
      ],
      "metadata": {
        "id": "MgHZd4sgyTCr"
      }
    },
    {
      "cell_type": "code",
      "execution_count": 2,
      "metadata": {
        "id": "X_wjOnLKpwkB"
      },
      "outputs": [],
      "source": [
        "import numpy as np # linear algebra\n",
        "import pandas as pd # data processing, CSV file I/O (e.g. pd.read_csv)\n",
        "\n",
        "import matplotlib.pyplot as plt\n",
        "import seaborn as sns"
      ]
    },
    {
      "cell_type": "code",
      "source": [
        "!wget https://raw.githubusercontent.com/JaznaLaProfe/Fundamentos-de-Machine-Learning/main/data/MentalHealthSurvey.csv"
      ],
      "metadata": {
        "colab": {
          "base_uri": "https://localhost:8080/"
        },
        "id": "kxYRwvnPfMLd",
        "outputId": "e82f00bd-d6b6-455e-b362-98a133884378"
      },
      "execution_count": 1,
      "outputs": [
        {
          "output_type": "stream",
          "name": "stdout",
          "text": [
            "--2024-08-24 13:04:47--  https://raw.githubusercontent.com/JaznaLaProfe/Fundamentos-de-Machine-Learning/main/data/Titanic.csv\n",
            "Resolving raw.githubusercontent.com (raw.githubusercontent.com)... 185.199.108.133, 185.199.109.133, 185.199.110.133, ...\n",
            "Connecting to raw.githubusercontent.com (raw.githubusercontent.com)|185.199.108.133|:443... connected.\n",
            "HTTP request sent, awaiting response... 200 OK\n",
            "Length: 29474 (29K) [text/plain]\n",
            "Saving to: ‘Titanic.csv’\n",
            "\n",
            "Titanic.csv         100%[===================>]  28.78K  --.-KB/s    in 0.003s  \n",
            "\n",
            "2024-08-24 13:04:47 (10.5 MB/s) - ‘Titanic.csv’ saved [29474/29474]\n",
            "\n"
          ]
        }
      ]
    },
    {
      "cell_type": "code",
      "source": [
        "data = pd.read_csv(\"MentalHealthSurvey.csv\", sep=\",\")\n",
        "data.head(10)"
      ],
      "metadata": {
        "id": "Y3xXzBFSqE5r",
        "colab": {
          "base_uri": "https://localhost:8080/",
          "height": 586
        },
        "outputId": "57c5126d-f0ad-4011-a15e-9011e951115c"
      },
      "execution_count": 9,
      "outputs": [
        {
          "output_type": "execute_result",
          "data": {
            "text/plain": [
              "   gender  age university   degree_level      degree_major academic_year  \\\n",
              "0    Male   20         PU  Undergraduate      Data Science      2nd year   \n",
              "1    Male   20        UET   Postgraduate  Computer Science      3rd year   \n",
              "2    Male   20       FAST  Undergraduate  Computer Science      3rd year   \n",
              "3    Male   20        UET  Undergraduate  Computer Science      3rd year   \n",
              "4  Female   20        UET  Undergraduate  Computer Science      3rd year   \n",
              "5  Female   20        UET  Undergraduate  Computer Science      3rd year   \n",
              "6    Male   26         PU   Postgraduate      Data Science      1st year   \n",
              "7    Male   22         PU  Undergraduate      Data Science      2nd year   \n",
              "8    Male   20    COMSATS  Undergraduate  Computer Science      3rd year   \n",
              "9    Male   23    COMSATS  Undergraduate  Computer Science      3rd year   \n",
              "\n",
              "      cgpa residential_status campus_discrimination sports_engagement  ...  \\\n",
              "0  3.0-3.5         Off-Campus                    No         No Sports  ...   \n",
              "1  3.0-3.5         Off-Campus                    No         1-3 times  ...   \n",
              "2  2.5-3.0         Off-Campus                    No         1-3 times  ...   \n",
              "3  2.5-3.0          On-Campus                    No         No Sports  ...   \n",
              "4  3.0-3.5         Off-Campus                   Yes         No Sports  ...   \n",
              "5  3.0-3.5         Off-Campus                    No         No Sports  ...   \n",
              "6  2.5-3.0          On-Campus                   Yes         1-3 times  ...   \n",
              "7  3.0-3.5         Off-Campus                   Yes         No Sports  ...   \n",
              "8  2.5-3.0         Off-Campus                   Yes         1-3 times  ...   \n",
              "9  2.5-3.0         Off-Campus                    No         No Sports  ...   \n",
              "\n",
              "  study_satisfaction  academic_workload   academic_pressure  \\\n",
              "0                  5                   4                  5   \n",
              "1                  5                   4                  4   \n",
              "2                  5                   5                  5   \n",
              "3                  3                   5                  4   \n",
              "4                  3                   5                  5   \n",
              "5                  4                   5                  5   \n",
              "6                  4                   4                  4   \n",
              "7                  3                   4                  4   \n",
              "8                  3                   4                  3   \n",
              "9                  3                   5                  3   \n",
              "\n",
              "   financial_concerns  social_relationships  depression  anxiety  isolation  \\\n",
              "0                   4                     3           2        1          1   \n",
              "1                   1                     3           3        3          3   \n",
              "2                   3                     4           2        3          3   \n",
              "3                   4                     1           5        5          5   \n",
              "4                   2                     3           5        5          4   \n",
              "5                   3                     3           5        5          5   \n",
              "6                   5                     2           5        4          4   \n",
              "7                   5                     4           3        2          2   \n",
              "8                   4                     2           3        4          3   \n",
              "9                   5                     1           5        5          5   \n",
              "\n",
              "   future_insecurity                           stress_relief_activities  \n",
              "0                  2  Religious Activities, Social Connections, Onli...  \n",
              "1                  4                               Online Entertainment  \n",
              "2                  1  Religious Activities, Sports and Fitness, Onli...  \n",
              "3                  3                               Online Entertainment  \n",
              "4                  4                               Online Entertainment  \n",
              "5                  5  Religious Activities, Social Connections, Onli...  \n",
              "6                  5           Social Connections, Online Entertainment  \n",
              "7                  4  Religious Activities, Social Connections, Onli...  \n",
              "8                  5  Religious Activities, Social Connections, Onli...  \n",
              "9                  5                                 Sports and Fitness  \n",
              "\n",
              "[10 rows x 21 columns]"
            ],
            "text/html": [
              "\n",
              "  <div id=\"df-6eed089e-1a1a-4a98-985f-a2bb066574f9\" class=\"colab-df-container\">\n",
              "    <div>\n",
              "<style scoped>\n",
              "    .dataframe tbody tr th:only-of-type {\n",
              "        vertical-align: middle;\n",
              "    }\n",
              "\n",
              "    .dataframe tbody tr th {\n",
              "        vertical-align: top;\n",
              "    }\n",
              "\n",
              "    .dataframe thead th {\n",
              "        text-align: right;\n",
              "    }\n",
              "</style>\n",
              "<table border=\"1\" class=\"dataframe\">\n",
              "  <thead>\n",
              "    <tr style=\"text-align: right;\">\n",
              "      <th></th>\n",
              "      <th>gender</th>\n",
              "      <th>age</th>\n",
              "      <th>university</th>\n",
              "      <th>degree_level</th>\n",
              "      <th>degree_major</th>\n",
              "      <th>academic_year</th>\n",
              "      <th>cgpa</th>\n",
              "      <th>residential_status</th>\n",
              "      <th>campus_discrimination</th>\n",
              "      <th>sports_engagement</th>\n",
              "      <th>...</th>\n",
              "      <th>study_satisfaction</th>\n",
              "      <th>academic_workload</th>\n",
              "      <th>academic_pressure</th>\n",
              "      <th>financial_concerns</th>\n",
              "      <th>social_relationships</th>\n",
              "      <th>depression</th>\n",
              "      <th>anxiety</th>\n",
              "      <th>isolation</th>\n",
              "      <th>future_insecurity</th>\n",
              "      <th>stress_relief_activities</th>\n",
              "    </tr>\n",
              "  </thead>\n",
              "  <tbody>\n",
              "    <tr>\n",
              "      <th>0</th>\n",
              "      <td>Male</td>\n",
              "      <td>20</td>\n",
              "      <td>PU</td>\n",
              "      <td>Undergraduate</td>\n",
              "      <td>Data Science</td>\n",
              "      <td>2nd year</td>\n",
              "      <td>3.0-3.5</td>\n",
              "      <td>Off-Campus</td>\n",
              "      <td>No</td>\n",
              "      <td>No Sports</td>\n",
              "      <td>...</td>\n",
              "      <td>5</td>\n",
              "      <td>4</td>\n",
              "      <td>5</td>\n",
              "      <td>4</td>\n",
              "      <td>3</td>\n",
              "      <td>2</td>\n",
              "      <td>1</td>\n",
              "      <td>1</td>\n",
              "      <td>2</td>\n",
              "      <td>Religious Activities, Social Connections, Onli...</td>\n",
              "    </tr>\n",
              "    <tr>\n",
              "      <th>1</th>\n",
              "      <td>Male</td>\n",
              "      <td>20</td>\n",
              "      <td>UET</td>\n",
              "      <td>Postgraduate</td>\n",
              "      <td>Computer Science</td>\n",
              "      <td>3rd year</td>\n",
              "      <td>3.0-3.5</td>\n",
              "      <td>Off-Campus</td>\n",
              "      <td>No</td>\n",
              "      <td>1-3 times</td>\n",
              "      <td>...</td>\n",
              "      <td>5</td>\n",
              "      <td>4</td>\n",
              "      <td>4</td>\n",
              "      <td>1</td>\n",
              "      <td>3</td>\n",
              "      <td>3</td>\n",
              "      <td>3</td>\n",
              "      <td>3</td>\n",
              "      <td>4</td>\n",
              "      <td>Online Entertainment</td>\n",
              "    </tr>\n",
              "    <tr>\n",
              "      <th>2</th>\n",
              "      <td>Male</td>\n",
              "      <td>20</td>\n",
              "      <td>FAST</td>\n",
              "      <td>Undergraduate</td>\n",
              "      <td>Computer Science</td>\n",
              "      <td>3rd year</td>\n",
              "      <td>2.5-3.0</td>\n",
              "      <td>Off-Campus</td>\n",
              "      <td>No</td>\n",
              "      <td>1-3 times</td>\n",
              "      <td>...</td>\n",
              "      <td>5</td>\n",
              "      <td>5</td>\n",
              "      <td>5</td>\n",
              "      <td>3</td>\n",
              "      <td>4</td>\n",
              "      <td>2</td>\n",
              "      <td>3</td>\n",
              "      <td>3</td>\n",
              "      <td>1</td>\n",
              "      <td>Religious Activities, Sports and Fitness, Onli...</td>\n",
              "    </tr>\n",
              "    <tr>\n",
              "      <th>3</th>\n",
              "      <td>Male</td>\n",
              "      <td>20</td>\n",
              "      <td>UET</td>\n",
              "      <td>Undergraduate</td>\n",
              "      <td>Computer Science</td>\n",
              "      <td>3rd year</td>\n",
              "      <td>2.5-3.0</td>\n",
              "      <td>On-Campus</td>\n",
              "      <td>No</td>\n",
              "      <td>No Sports</td>\n",
              "      <td>...</td>\n",
              "      <td>3</td>\n",
              "      <td>5</td>\n",
              "      <td>4</td>\n",
              "      <td>4</td>\n",
              "      <td>1</td>\n",
              "      <td>5</td>\n",
              "      <td>5</td>\n",
              "      <td>5</td>\n",
              "      <td>3</td>\n",
              "      <td>Online Entertainment</td>\n",
              "    </tr>\n",
              "    <tr>\n",
              "      <th>4</th>\n",
              "      <td>Female</td>\n",
              "      <td>20</td>\n",
              "      <td>UET</td>\n",
              "      <td>Undergraduate</td>\n",
              "      <td>Computer Science</td>\n",
              "      <td>3rd year</td>\n",
              "      <td>3.0-3.5</td>\n",
              "      <td>Off-Campus</td>\n",
              "      <td>Yes</td>\n",
              "      <td>No Sports</td>\n",
              "      <td>...</td>\n",
              "      <td>3</td>\n",
              "      <td>5</td>\n",
              "      <td>5</td>\n",
              "      <td>2</td>\n",
              "      <td>3</td>\n",
              "      <td>5</td>\n",
              "      <td>5</td>\n",
              "      <td>4</td>\n",
              "      <td>4</td>\n",
              "      <td>Online Entertainment</td>\n",
              "    </tr>\n",
              "    <tr>\n",
              "      <th>5</th>\n",
              "      <td>Female</td>\n",
              "      <td>20</td>\n",
              "      <td>UET</td>\n",
              "      <td>Undergraduate</td>\n",
              "      <td>Computer Science</td>\n",
              "      <td>3rd year</td>\n",
              "      <td>3.0-3.5</td>\n",
              "      <td>Off-Campus</td>\n",
              "      <td>No</td>\n",
              "      <td>No Sports</td>\n",
              "      <td>...</td>\n",
              "      <td>4</td>\n",
              "      <td>5</td>\n",
              "      <td>5</td>\n",
              "      <td>3</td>\n",
              "      <td>3</td>\n",
              "      <td>5</td>\n",
              "      <td>5</td>\n",
              "      <td>5</td>\n",
              "      <td>5</td>\n",
              "      <td>Religious Activities, Social Connections, Onli...</td>\n",
              "    </tr>\n",
              "    <tr>\n",
              "      <th>6</th>\n",
              "      <td>Male</td>\n",
              "      <td>26</td>\n",
              "      <td>PU</td>\n",
              "      <td>Postgraduate</td>\n",
              "      <td>Data Science</td>\n",
              "      <td>1st year</td>\n",
              "      <td>2.5-3.0</td>\n",
              "      <td>On-Campus</td>\n",
              "      <td>Yes</td>\n",
              "      <td>1-3 times</td>\n",
              "      <td>...</td>\n",
              "      <td>4</td>\n",
              "      <td>4</td>\n",
              "      <td>4</td>\n",
              "      <td>5</td>\n",
              "      <td>2</td>\n",
              "      <td>5</td>\n",
              "      <td>4</td>\n",
              "      <td>4</td>\n",
              "      <td>5</td>\n",
              "      <td>Social Connections, Online Entertainment</td>\n",
              "    </tr>\n",
              "    <tr>\n",
              "      <th>7</th>\n",
              "      <td>Male</td>\n",
              "      <td>22</td>\n",
              "      <td>PU</td>\n",
              "      <td>Undergraduate</td>\n",
              "      <td>Data Science</td>\n",
              "      <td>2nd year</td>\n",
              "      <td>3.0-3.5</td>\n",
              "      <td>Off-Campus</td>\n",
              "      <td>Yes</td>\n",
              "      <td>No Sports</td>\n",
              "      <td>...</td>\n",
              "      <td>3</td>\n",
              "      <td>4</td>\n",
              "      <td>4</td>\n",
              "      <td>5</td>\n",
              "      <td>4</td>\n",
              "      <td>3</td>\n",
              "      <td>2</td>\n",
              "      <td>2</td>\n",
              "      <td>4</td>\n",
              "      <td>Religious Activities, Social Connections, Onli...</td>\n",
              "    </tr>\n",
              "    <tr>\n",
              "      <th>8</th>\n",
              "      <td>Male</td>\n",
              "      <td>20</td>\n",
              "      <td>COMSATS</td>\n",
              "      <td>Undergraduate</td>\n",
              "      <td>Computer Science</td>\n",
              "      <td>3rd year</td>\n",
              "      <td>2.5-3.0</td>\n",
              "      <td>Off-Campus</td>\n",
              "      <td>Yes</td>\n",
              "      <td>1-3 times</td>\n",
              "      <td>...</td>\n",
              "      <td>3</td>\n",
              "      <td>4</td>\n",
              "      <td>3</td>\n",
              "      <td>4</td>\n",
              "      <td>2</td>\n",
              "      <td>3</td>\n",
              "      <td>4</td>\n",
              "      <td>3</td>\n",
              "      <td>5</td>\n",
              "      <td>Religious Activities, Social Connections, Onli...</td>\n",
              "    </tr>\n",
              "    <tr>\n",
              "      <th>9</th>\n",
              "      <td>Male</td>\n",
              "      <td>23</td>\n",
              "      <td>COMSATS</td>\n",
              "      <td>Undergraduate</td>\n",
              "      <td>Computer Science</td>\n",
              "      <td>3rd year</td>\n",
              "      <td>2.5-3.0</td>\n",
              "      <td>Off-Campus</td>\n",
              "      <td>No</td>\n",
              "      <td>No Sports</td>\n",
              "      <td>...</td>\n",
              "      <td>3</td>\n",
              "      <td>5</td>\n",
              "      <td>3</td>\n",
              "      <td>5</td>\n",
              "      <td>1</td>\n",
              "      <td>5</td>\n",
              "      <td>5</td>\n",
              "      <td>5</td>\n",
              "      <td>5</td>\n",
              "      <td>Sports and Fitness</td>\n",
              "    </tr>\n",
              "  </tbody>\n",
              "</table>\n",
              "<p>10 rows × 21 columns</p>\n",
              "</div>\n",
              "    <div class=\"colab-df-buttons\">\n",
              "\n",
              "  <div class=\"colab-df-container\">\n",
              "    <button class=\"colab-df-convert\" onclick=\"convertToInteractive('df-6eed089e-1a1a-4a98-985f-a2bb066574f9')\"\n",
              "            title=\"Convert this dataframe to an interactive table.\"\n",
              "            style=\"display:none;\">\n",
              "\n",
              "  <svg xmlns=\"http://www.w3.org/2000/svg\" height=\"24px\" viewBox=\"0 -960 960 960\">\n",
              "    <path d=\"M120-120v-720h720v720H120Zm60-500h600v-160H180v160Zm220 220h160v-160H400v160Zm0 220h160v-160H400v160ZM180-400h160v-160H180v160Zm440 0h160v-160H620v160ZM180-180h160v-160H180v160Zm440 0h160v-160H620v160Z\"/>\n",
              "  </svg>\n",
              "    </button>\n",
              "\n",
              "  <style>\n",
              "    .colab-df-container {\n",
              "      display:flex;\n",
              "      gap: 12px;\n",
              "    }\n",
              "\n",
              "    .colab-df-convert {\n",
              "      background-color: #E8F0FE;\n",
              "      border: none;\n",
              "      border-radius: 50%;\n",
              "      cursor: pointer;\n",
              "      display: none;\n",
              "      fill: #1967D2;\n",
              "      height: 32px;\n",
              "      padding: 0 0 0 0;\n",
              "      width: 32px;\n",
              "    }\n",
              "\n",
              "    .colab-df-convert:hover {\n",
              "      background-color: #E2EBFA;\n",
              "      box-shadow: 0px 1px 2px rgba(60, 64, 67, 0.3), 0px 1px 3px 1px rgba(60, 64, 67, 0.15);\n",
              "      fill: #174EA6;\n",
              "    }\n",
              "\n",
              "    .colab-df-buttons div {\n",
              "      margin-bottom: 4px;\n",
              "    }\n",
              "\n",
              "    [theme=dark] .colab-df-convert {\n",
              "      background-color: #3B4455;\n",
              "      fill: #D2E3FC;\n",
              "    }\n",
              "\n",
              "    [theme=dark] .colab-df-convert:hover {\n",
              "      background-color: #434B5C;\n",
              "      box-shadow: 0px 1px 3px 1px rgba(0, 0, 0, 0.15);\n",
              "      filter: drop-shadow(0px 1px 2px rgba(0, 0, 0, 0.3));\n",
              "      fill: #FFFFFF;\n",
              "    }\n",
              "  </style>\n",
              "\n",
              "    <script>\n",
              "      const buttonEl =\n",
              "        document.querySelector('#df-6eed089e-1a1a-4a98-985f-a2bb066574f9 button.colab-df-convert');\n",
              "      buttonEl.style.display =\n",
              "        google.colab.kernel.accessAllowed ? 'block' : 'none';\n",
              "\n",
              "      async function convertToInteractive(key) {\n",
              "        const element = document.querySelector('#df-6eed089e-1a1a-4a98-985f-a2bb066574f9');\n",
              "        const dataTable =\n",
              "          await google.colab.kernel.invokeFunction('convertToInteractive',\n",
              "                                                    [key], {});\n",
              "        if (!dataTable) return;\n",
              "\n",
              "        const docLinkHtml = 'Like what you see? Visit the ' +\n",
              "          '<a target=\"_blank\" href=https://colab.research.google.com/notebooks/data_table.ipynb>data table notebook</a>'\n",
              "          + ' to learn more about interactive tables.';\n",
              "        element.innerHTML = '';\n",
              "        dataTable['output_type'] = 'display_data';\n",
              "        await google.colab.output.renderOutput(dataTable, element);\n",
              "        const docLink = document.createElement('div');\n",
              "        docLink.innerHTML = docLinkHtml;\n",
              "        element.appendChild(docLink);\n",
              "      }\n",
              "    </script>\n",
              "  </div>\n",
              "\n",
              "\n",
              "<div id=\"df-3b7c6cf6-902d-436d-aa66-7692e841f8d0\">\n",
              "  <button class=\"colab-df-quickchart\" onclick=\"quickchart('df-3b7c6cf6-902d-436d-aa66-7692e841f8d0')\"\n",
              "            title=\"Suggest charts\"\n",
              "            style=\"display:none;\">\n",
              "\n",
              "<svg xmlns=\"http://www.w3.org/2000/svg\" height=\"24px\"viewBox=\"0 0 24 24\"\n",
              "     width=\"24px\">\n",
              "    <g>\n",
              "        <path d=\"M19 3H5c-1.1 0-2 .9-2 2v14c0 1.1.9 2 2 2h14c1.1 0 2-.9 2-2V5c0-1.1-.9-2-2-2zM9 17H7v-7h2v7zm4 0h-2V7h2v10zm4 0h-2v-4h2v4z\"/>\n",
              "    </g>\n",
              "</svg>\n",
              "  </button>\n",
              "\n",
              "<style>\n",
              "  .colab-df-quickchart {\n",
              "      --bg-color: #E8F0FE;\n",
              "      --fill-color: #1967D2;\n",
              "      --hover-bg-color: #E2EBFA;\n",
              "      --hover-fill-color: #174EA6;\n",
              "      --disabled-fill-color: #AAA;\n",
              "      --disabled-bg-color: #DDD;\n",
              "  }\n",
              "\n",
              "  [theme=dark] .colab-df-quickchart {\n",
              "      --bg-color: #3B4455;\n",
              "      --fill-color: #D2E3FC;\n",
              "      --hover-bg-color: #434B5C;\n",
              "      --hover-fill-color: #FFFFFF;\n",
              "      --disabled-bg-color: #3B4455;\n",
              "      --disabled-fill-color: #666;\n",
              "  }\n",
              "\n",
              "  .colab-df-quickchart {\n",
              "    background-color: var(--bg-color);\n",
              "    border: none;\n",
              "    border-radius: 50%;\n",
              "    cursor: pointer;\n",
              "    display: none;\n",
              "    fill: var(--fill-color);\n",
              "    height: 32px;\n",
              "    padding: 0;\n",
              "    width: 32px;\n",
              "  }\n",
              "\n",
              "  .colab-df-quickchart:hover {\n",
              "    background-color: var(--hover-bg-color);\n",
              "    box-shadow: 0 1px 2px rgba(60, 64, 67, 0.3), 0 1px 3px 1px rgba(60, 64, 67, 0.15);\n",
              "    fill: var(--button-hover-fill-color);\n",
              "  }\n",
              "\n",
              "  .colab-df-quickchart-complete:disabled,\n",
              "  .colab-df-quickchart-complete:disabled:hover {\n",
              "    background-color: var(--disabled-bg-color);\n",
              "    fill: var(--disabled-fill-color);\n",
              "    box-shadow: none;\n",
              "  }\n",
              "\n",
              "  .colab-df-spinner {\n",
              "    border: 2px solid var(--fill-color);\n",
              "    border-color: transparent;\n",
              "    border-bottom-color: var(--fill-color);\n",
              "    animation:\n",
              "      spin 1s steps(1) infinite;\n",
              "  }\n",
              "\n",
              "  @keyframes spin {\n",
              "    0% {\n",
              "      border-color: transparent;\n",
              "      border-bottom-color: var(--fill-color);\n",
              "      border-left-color: var(--fill-color);\n",
              "    }\n",
              "    20% {\n",
              "      border-color: transparent;\n",
              "      border-left-color: var(--fill-color);\n",
              "      border-top-color: var(--fill-color);\n",
              "    }\n",
              "    30% {\n",
              "      border-color: transparent;\n",
              "      border-left-color: var(--fill-color);\n",
              "      border-top-color: var(--fill-color);\n",
              "      border-right-color: var(--fill-color);\n",
              "    }\n",
              "    40% {\n",
              "      border-color: transparent;\n",
              "      border-right-color: var(--fill-color);\n",
              "      border-top-color: var(--fill-color);\n",
              "    }\n",
              "    60% {\n",
              "      border-color: transparent;\n",
              "      border-right-color: var(--fill-color);\n",
              "    }\n",
              "    80% {\n",
              "      border-color: transparent;\n",
              "      border-right-color: var(--fill-color);\n",
              "      border-bottom-color: var(--fill-color);\n",
              "    }\n",
              "    90% {\n",
              "      border-color: transparent;\n",
              "      border-bottom-color: var(--fill-color);\n",
              "    }\n",
              "  }\n",
              "</style>\n",
              "\n",
              "  <script>\n",
              "    async function quickchart(key) {\n",
              "      const quickchartButtonEl =\n",
              "        document.querySelector('#' + key + ' button');\n",
              "      quickchartButtonEl.disabled = true;  // To prevent multiple clicks.\n",
              "      quickchartButtonEl.classList.add('colab-df-spinner');\n",
              "      try {\n",
              "        const charts = await google.colab.kernel.invokeFunction(\n",
              "            'suggestCharts', [key], {});\n",
              "      } catch (error) {\n",
              "        console.error('Error during call to suggestCharts:', error);\n",
              "      }\n",
              "      quickchartButtonEl.classList.remove('colab-df-spinner');\n",
              "      quickchartButtonEl.classList.add('colab-df-quickchart-complete');\n",
              "    }\n",
              "    (() => {\n",
              "      let quickchartButtonEl =\n",
              "        document.querySelector('#df-3b7c6cf6-902d-436d-aa66-7692e841f8d0 button');\n",
              "      quickchartButtonEl.style.display =\n",
              "        google.colab.kernel.accessAllowed ? 'block' : 'none';\n",
              "    })();\n",
              "  </script>\n",
              "</div>\n",
              "\n",
              "    </div>\n",
              "  </div>\n"
            ],
            "application/vnd.google.colaboratory.intrinsic+json": {
              "type": "dataframe",
              "variable_name": "data"
            }
          },
          "metadata": {},
          "execution_count": 9
        }
      ]
    },
    {
      "cell_type": "code",
      "source": [
        "data.info()"
      ],
      "metadata": {
        "id": "FEwOdhnaq4Kp",
        "colab": {
          "base_uri": "https://localhost:8080/"
        },
        "outputId": "f9f2dc54-df26-4bb2-c0d9-b254026472d9"
      },
      "execution_count": 10,
      "outputs": [
        {
          "output_type": "stream",
          "name": "stdout",
          "text": [
            "<class 'pandas.core.frame.DataFrame'>\n",
            "RangeIndex: 87 entries, 0 to 86\n",
            "Data columns (total 21 columns):\n",
            " #   Column                    Non-Null Count  Dtype \n",
            "---  ------                    --------------  ----- \n",
            " 0   gender                    87 non-null     object\n",
            " 1   age                       87 non-null     int64 \n",
            " 2   university                87 non-null     object\n",
            " 3   degree_level              87 non-null     object\n",
            " 4   degree_major              87 non-null     object\n",
            " 5   academic_year             87 non-null     object\n",
            " 6   cgpa                      87 non-null     object\n",
            " 7   residential_status        87 non-null     object\n",
            " 8   campus_discrimination     87 non-null     object\n",
            " 9   sports_engagement         87 non-null     object\n",
            " 10  average_sleep             87 non-null     object\n",
            " 11  study_satisfaction        87 non-null     int64 \n",
            " 12  academic_workload         87 non-null     int64 \n",
            " 13  academic_pressure         87 non-null     int64 \n",
            " 14  financial_concerns        87 non-null     int64 \n",
            " 15  social_relationships      87 non-null     int64 \n",
            " 16  depression                87 non-null     int64 \n",
            " 17  anxiety                   87 non-null     int64 \n",
            " 18  isolation                 87 non-null     int64 \n",
            " 19  future_insecurity         87 non-null     int64 \n",
            " 20  stress_relief_activities  87 non-null     object\n",
            "dtypes: int64(10), object(11)\n",
            "memory usage: 14.4+ KB\n"
          ]
        }
      ]
    },
    {
      "cell_type": "code",
      "source": [
        "data.columns"
      ],
      "metadata": {
        "colab": {
          "base_uri": "https://localhost:8080/"
        },
        "id": "D4_vmYuyfmxD",
        "outputId": "a6925cd8-a1c8-4f61-a000-4fedd17a469e"
      },
      "execution_count": 11,
      "outputs": [
        {
          "output_type": "execute_result",
          "data": {
            "text/plain": [
              "Index(['gender', 'age', 'university', 'degree_level', 'degree_major',\n",
              "       'academic_year', 'cgpa', 'residential_status', 'campus_discrimination',\n",
              "       'sports_engagement', 'average_sleep', 'study_satisfaction',\n",
              "       'academic_workload ', 'academic_pressure', 'financial_concerns',\n",
              "       'social_relationships', 'depression', 'anxiety', 'isolation',\n",
              "       'future_insecurity', 'stress_relief_activities'],\n",
              "      dtype='object')"
            ]
          },
          "metadata": {},
          "execution_count": 11
        }
      ]
    },
    {
      "cell_type": "code",
      "source": [
        "# Cálculo de la media\n",
        "data.age.mean().round(0)"
      ],
      "metadata": {
        "id": "uhG3J6a-sbZ8",
        "colab": {
          "base_uri": "https://localhost:8080/"
        },
        "outputId": "bbacdd0e-6b94-4342-8ddb-6d01cb1614e1"
      },
      "execution_count": 14,
      "outputs": [
        {
          "output_type": "execute_result",
          "data": {
            "text/plain": [
              "20.0"
            ]
          },
          "metadata": {},
          "execution_count": 14
        }
      ]
    },
    {
      "cell_type": "code",
      "source": [
        "# Cálculo de la mediana\n",
        "data.age.median().round(0)"
      ],
      "metadata": {
        "id": "apM9DOT4sn0H",
        "colab": {
          "base_uri": "https://localhost:8080/"
        },
        "outputId": "cd972419-16fc-49aa-c04b-93ebcb27e870"
      },
      "execution_count": 15,
      "outputs": [
        {
          "output_type": "execute_result",
          "data": {
            "text/plain": [
              "20.0"
            ]
          },
          "metadata": {},
          "execution_count": 15
        }
      ]
    },
    {
      "cell_type": "code",
      "source": [
        "# CALCULO DE LA MODA\n",
        "data.age.mode().round(0)"
      ],
      "metadata": {
        "id": "Eb5v-_-Xss61",
        "colab": {
          "base_uri": "https://localhost:8080/",
          "height": 115
        },
        "outputId": "a33c403d-94c7-48bd-951a-78b3eee1ef9c"
      },
      "execution_count": 16,
      "outputs": [
        {
          "output_type": "execute_result",
          "data": {
            "text/plain": [
              "0    20\n",
              "Name: age, dtype: int64"
            ],
            "text/html": [
              "<div>\n",
              "<style scoped>\n",
              "    .dataframe tbody tr th:only-of-type {\n",
              "        vertical-align: middle;\n",
              "    }\n",
              "\n",
              "    .dataframe tbody tr th {\n",
              "        vertical-align: top;\n",
              "    }\n",
              "\n",
              "    .dataframe thead th {\n",
              "        text-align: right;\n",
              "    }\n",
              "</style>\n",
              "<table border=\"1\" class=\"dataframe\">\n",
              "  <thead>\n",
              "    <tr style=\"text-align: right;\">\n",
              "      <th></th>\n",
              "      <th>age</th>\n",
              "    </tr>\n",
              "  </thead>\n",
              "  <tbody>\n",
              "    <tr>\n",
              "      <th>0</th>\n",
              "      <td>20</td>\n",
              "    </tr>\n",
              "  </tbody>\n",
              "</table>\n",
              "</div><br><label><b>dtype:</b> int64</label>"
            ]
          },
          "metadata": {},
          "execution_count": 16
        }
      ]
    },
    {
      "cell_type": "code",
      "source": [
        "# Cálculo de la desviación estándar\n",
        "data.age.std().round(0)"
      ],
      "metadata": {
        "id": "yBhXgPWCtc0M",
        "colab": {
          "base_uri": "https://localhost:8080/"
        },
        "outputId": "121ec485-6fe7-4819-a483-cf22b2510d3d"
      },
      "execution_count": 17,
      "outputs": [
        {
          "output_type": "execute_result",
          "data": {
            "text/plain": [
              "2.0"
            ]
          },
          "metadata": {},
          "execution_count": 17
        }
      ]
    },
    {
      "cell_type": "code",
      "source": [
        "# Cálculo de la varianza\n",
        "data.age.var().round(0)"
      ],
      "metadata": {
        "id": "FUJ0q2Xftfqx",
        "colab": {
          "base_uri": "https://localhost:8080/"
        },
        "outputId": "df6a9839-c22b-4e9b-86f7-197ce4da320e"
      },
      "execution_count": 18,
      "outputs": [
        {
          "output_type": "execute_result",
          "data": {
            "text/plain": [
              "3.0"
            ]
          },
          "metadata": {},
          "execution_count": 18
        }
      ]
    },
    {
      "cell_type": "markdown",
      "source": [
        "# EJERCICIO:\n",
        "Calcule el coeficiente de variación de las variables"
      ],
      "metadata": {
        "id": "80uCO1WQtwd3"
      }
    },
    {
      "cell_type": "code",
      "source": [
        "cv = (data.age.std() / data.age.mean()) * 100\n",
        "cv.round(0)"
      ],
      "metadata": {
        "colab": {
          "base_uri": "https://localhost:8080/"
        },
        "id": "p-wXC3kFkO91",
        "outputId": "913011a1-772d-4d1f-9c2a-61e3e321a8ae"
      },
      "execution_count": 20,
      "outputs": [
        {
          "output_type": "execute_result",
          "data": {
            "text/plain": [
              "8.0"
            ]
          },
          "metadata": {},
          "execution_count": 20
        }
      ]
    },
    {
      "cell_type": "markdown",
      "source": [
        "# Variables Categóricas"
      ],
      "metadata": {
        "id": "AKlrbfylu7Lj"
      }
    },
    {
      "cell_type": "markdown",
      "source": [
        "¿QUÉ REPRESENTAN LOS SIGUIENTES GRÁFICOS?\n",
        "**"
      ],
      "metadata": {
        "id": "S38I7K4Uz-wL"
      }
    },
    {
      "cell_type": "code",
      "source": [
        "def bar_plot(data : pd.DataFrame, variable : str):\n",
        "    \"\"\"\n",
        "        input: variable ex: \"Sex\"\n",
        "        output: bar plot & value count\n",
        "    \"\"\"\n",
        "    # get feature\n",
        "    var = data[variable]\n",
        "    # count number of categorical variable(value/sample)\n",
        "    varValue = var.value_counts()\n",
        "\n",
        "    # visualize\n",
        "    plt.figure(figsize = (9,3))\n",
        "    plt.bar(varValue.index, varValue)\n",
        "    plt.xticks(varValue.index, varValue.index.values)\n",
        "    plt.ylabel(\"Frequency\", fontsize=14, fontweight=\"bold\")\n",
        "    plt.title(variable, fontsize=14, fontweight=\"bold\")\n",
        "    plt.show()\n",
        "    print(\"{}: \\n {}\".format(variable,varValue))"
      ],
      "metadata": {
        "id": "B153I4LcuU1M"
      },
      "execution_count": 21,
      "outputs": []
    },
    {
      "cell_type": "code",
      "source": [
        "category1 = [\"degree_level\",\"gender\",\"residential_status\"]\n",
        "for c in category1:\n",
        "    bar_plot(data, c)"
      ],
      "metadata": {
        "id": "oLZ20wHruYw7",
        "colab": {
          "base_uri": "https://localhost:8080/",
          "height": 1000
        },
        "outputId": "e5c651df-41b1-4d2a-cf44-cb5a62e27f58"
      },
      "execution_count": 24,
      "outputs": [
        {
          "output_type": "display_data",
          "data": {
            "text/plain": [
              "<Figure size 900x300 with 1 Axes>"
            ],
            "image/png": "[encoded data removed]"
          },
          "metadata": {}
        },
        {
          "output_type": "stream",
          "name": "stdout",
          "text": [
            "degree_level: \n",
            " degree_level\n",
            "Undergraduate    85\n",
            "Postgraduate      2\n",
            "Name: count, dtype: int64\n"
          ]
        },
        {
          "output_type": "display_data",
          "data": {
            "text/plain": [
              "<Figure size 900x300 with 1 Axes>"
            ],
            "image/png": "[encoded data removed]"
          },
          "metadata": {}
        },
        {
          "output_type": "stream",
          "name": "stdout",
          "text": [
            "gender: \n",
            " gender\n",
            "Male      63\n",
            "Female    24\n",
            "Name: count, dtype: int64\n"
          ]
        },
        {
          "output_type": "display_data",
          "data": {
            "text/plain": [
              "<Figure size 900x300 with 1 Axes>"
            ],
            "image/png": "[encoded data removed]"
          },
          "metadata": {}
        },
        {
          "output_type": "stream",
          "name": "stdout",
          "text": [
            "residential_status: \n",
            " residential_status\n",
            "Off-Campus    65\n",
            "On-Campus     22\n",
            "Name: count, dtype: int64\n"
          ]
        }
      ]
    },
    {
      "cell_type": "markdown",
      "source": [
        "# Variables Numéricas"
      ],
      "metadata": {
        "id": "AiO9lFWsuyet"
      }
    },
    {
      "cell_type": "markdown",
      "source": [
        "¿QUÉ REPRESENTAN LOS SIGUIENTES GRÁFICOS?\n",
        "**"
      ],
      "metadata": {
        "id": "qfqKDfqZ0G7a"
      }
    },
    {
      "cell_type": "code",
      "source": [
        "def plot_hist(data: pd.DataFrame, variable : str):\n",
        "    plt.figure(figsize = (9,3))\n",
        "    plt.hist(data[variable], bins = 50)\n",
        "    plt.xlabel(variable)\n",
        "    plt.ylabel(\"Frequency\", fontsize=14, fontweight=\"bold\")\n",
        "    plt.title(\"{} distribution with hist\".format(variable),\n",
        "              fontsize=16, fontweight=\"bold\")\n",
        "    plt.show()"
      ],
      "metadata": {
        "id": "2svJK9Q1vB2l"
      },
      "execution_count": 25,
      "outputs": []
    },
    {
      "cell_type": "code",
      "source": [
        "numericVar = [\"financial_concerns\", \"age\"]\n",
        "for n in numericVar:\n",
        "    plot_hist(data, n)"
      ],
      "metadata": {
        "id": "FCaMt6LlvGPl",
        "colab": {
          "base_uri": "https://localhost:8080/",
          "height": 653
        },
        "outputId": "f6faff8f-de87-4452-a24b-2eea0ad37889"
      },
      "execution_count": 26,
      "outputs": [
        {
          "output_type": "display_data",
          "data": {
            "text/plain": [
              "<Figure size 900x300 with 1 Axes>"
            ],
            "image/png": "[encoded data removed]"
          },
          "metadata": {}
        },
        {
          "output_type": "display_data",
          "data": {
            "text/plain": [
              "<Figure size 900x300 with 1 Axes>"
            ],
            "image/png": "[encoded data removed]"
          },
          "metadata": {}
        }
      ]
    },
    {
      "cell_type": "markdown",
      "source": [
        "¿QUÉ REPRESENTAN LOS SIGUIENTES GRÁFICOS?\n",
        "**"
      ],
      "metadata": {
        "id": "fymnuY8O0KdQ"
      }
    },
    {
      "cell_type": "code",
      "source": [
        "data.boxplot(column=\"age\",by = \"gender\")\n",
        "plt.show()"
      ],
      "metadata": {
        "id": "UN2hH8Qmv0_v",
        "colab": {
          "base_uri": "https://localhost:8080/",
          "height": 478
        },
        "outputId": "6a2f8422-d7ac-4a4c-a45f-97c0fd446c9d"
      },
      "execution_count": 28,
      "outputs": [
        {
          "output_type": "display_data",
          "data": {
            "text/plain": [
              "<Figure size 640x480 with 1 Axes>"
            ],
            "image/png": "[encoded data removed]"
          },
          "metadata": {}
        }
      ]
    },
    {
      "cell_type": "markdown",
      "source": [
        "¿QUÉ REPRESENTAN LOS SIGUIENTES GRÁFICOS?\n",
        "**"
      ],
      "metadata": {
        "id": "HaUocLbo0OrP"
      }
    },
    {
      "cell_type": "code",
      "source": [
        "g = sns.catplot(x = \"age\", y = \"degree_level\", data = data, kind = \"bar\")\n",
        "g.set_ylabels(\"Degree level\")\n",
        "plt.title(\"Age by degree level\", fontsize=14, fontweight=\"bold\")\n",
        "plt.show()"
      ],
      "metadata": {
        "id": "n9nyn4AewKbn",
        "colab": {
          "base_uri": "https://localhost:8080/",
          "height": 530
        },
        "outputId": "e4c42a3d-78ea-4ad4-e586-efb2e6b00659"
      },
      "execution_count": 37,
      "outputs": [
        {
          "output_type": "display_data",
          "data": {
            "text/plain": [
              "<Figure size 511.111x500 with 1 Axes>"
            ],
            "image/png": "[encoded data removed]"
          },
          "metadata": {}
        }
      ]
    },
    {
      "cell_type": "code",
      "source": [
        "data.academic_year.unique()"
      ],
      "metadata": {
        "colab": {
          "base_uri": "https://localhost:8080/"
        },
        "id": "M61ji8GMn0Ll",
        "outputId": "dc2e937c-d25f-49de-bca4-a570b5968d52"
      },
      "execution_count": 33,
      "outputs": [
        {
          "output_type": "execute_result",
          "data": {
            "text/plain": [
              "array(['2nd year', '3rd year', '1st year', '4th year'], dtype=object)"
            ]
          },
          "metadata": {},
          "execution_count": 33
        }
      ]
    },
    {
      "cell_type": "code",
      "source": [
        "g = sns.catplot(x = \"age\", y = \"academic_year\", kind = \"bar\", data = data)\n",
        "g.set_ylabels(\"Academic Year\")\n",
        "plt.title(\"Age by academic year\", fontsize=14, fontweight=\"bold\")\n",
        "plt.show()"
      ],
      "metadata": {
        "id": "is9rpJXZwhXQ",
        "colab": {
          "base_uri": "https://localhost:8080/",
          "height": 530
        },
        "outputId": "c0857881-430c-4208-fcb6-00b657273390"
      },
      "execution_count": 38,
      "outputs": [
        {
          "output_type": "display_data",
          "data": {
            "text/plain": [
              "<Figure size 511.111x500 with 1 Axes>"
            ],
            "image/png": "[encoded data removed]"
          },
          "metadata": {}
        }
      ]
    },
    {
      "cell_type": "markdown",
      "source": [
        "¿QUÉ REPRESENTAN LOS SIGUIENTES GRÁFICOS?\n",
        "**"
      ],
      "metadata": {
        "id": "4uKf7JUr0VVc"
      }
    },
    {
      "cell_type": "code",
      "source": [
        "sns.catplot(x = \"gender\", y = \"age\", data = data, kind = \"box\")\n",
        "plt.title(\"Age/Gender\", fontsize=14, fontweight=\"bold\")\n",
        "plt.show()"
      ],
      "metadata": {
        "id": "5Hvm2r9rwobW",
        "colab": {
          "base_uri": "https://localhost:8080/",
          "height": 530
        },
        "outputId": "9dbde2d3-c16f-4666-80e4-3e16f896b02c"
      },
      "execution_count": 39,
      "outputs": [
        {
          "output_type": "display_data",
          "data": {
            "text/plain": [
              "<Figure size 511.111x500 with 1 Axes>"
            ],
            "image/png": "[encoded data removed]"
          },
          "metadata": {}
        }
      ]
    },
    {
      "cell_type": "code",
      "source": [
        "sns.catplot(x = \"gender\", y = \"age\", hue = \"degree_level\",data = data, kind = \"box\")\n",
        "plt.title(\"Age/gender/degree level\", fontsize=14, fontweight=\"bold\")\n",
        "plt.show()"
      ],
      "metadata": {
        "id": "0fDhOXCjwvCL",
        "colab": {
          "base_uri": "https://localhost:8080/",
          "height": 530
        },
        "outputId": "92f7b6ad-feb3-4e49-86b2-3a8af7e9e549"
      },
      "execution_count": 40,
      "outputs": [
        {
          "output_type": "display_data",
          "data": {
            "text/plain": [
              "<Figure size 655.25x500 with 1 Axes>"
            ],
            "image/png": "[encoded data removed]"
          },
          "metadata": {}
        }
      ]
    }
  ]
}