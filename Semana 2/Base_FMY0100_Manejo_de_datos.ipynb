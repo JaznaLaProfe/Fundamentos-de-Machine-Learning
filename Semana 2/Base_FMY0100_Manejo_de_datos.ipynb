{
  "nbformat": 4,
  "nbformat_minor": 0,
  "metadata": {
    "colab": {
      "provenance": []
    },
    "kernelspec": {
      "name": "python3",
      "display_name": "Python 3"
    },
    "language_info": {
      "name": "python"
    }
  },
  "cells": [
    {
      "cell_type": "code",
      "execution_count": null,
      "metadata": {
        "colab": {
          "base_uri": "https://localhost:8080/"
        },
        "id": "CBfe_NLQFfbD",
        "outputId": "de998a64-87d3-48b0-d6b1-1b195e7d1030"
      },
      "outputs": [
        {
          "output_type": "stream",
          "name": "stdout",
          "text": [
            "--2024-08-17 20:57:50--  https://raw.githubusercontent.com/JaznaLaProfe/Fundamentos-de-Machine-Learning/main/data/1990sClassicHits.csv\n",
            "Resolving raw.githubusercontent.com (raw.githubusercontent.com)... 185.199.108.133, 185.199.109.133, 185.199.110.133, ...\n",
            "Connecting to raw.githubusercontent.com (raw.githubusercontent.com)|185.199.108.133|:443... connected.\n",
            "HTTP request sent, awaiting response... 200 OK\n",
            "Length: 100941 (99K) [text/plain]\n",
            "Saving to: ‘1990sClassicHits.csv’\n",
            "\n",
            "1990sClassicHits.cs 100%[===================>]  98.58K  --.-KB/s    in 0.02s   \n",
            "\n",
            "2024-08-17 20:57:50 (4.06 MB/s) - ‘1990sClassicHits.csv’ saved [100941/100941]\n",
            "\n"
          ]
        }
      ],
      "source": [
        "!wget https://raw.githubusercontent.com/JaznaLaProfe/Fundamentos-de-Machine-Learning/main/data/1990sClassicHits.csv"
      ]
    },
    {
      "cell_type": "markdown",
      "source": [
        "# Carga de datos"
      ],
      "metadata": {
        "id": "DPqatEoKIpOq"
      }
    },
    {
      "cell_type": "markdown",
      "source": [
        "# Acceso a observaciones"
      ],
      "metadata": {
        "id": "Wmk2LG8LIrmA"
      }
    },
    {
      "cell_type": "markdown",
      "source": [
        "# Resumen de la data"
      ],
      "metadata": {
        "id": "98Rlc7EUIujU"
      }
    },
    {
      "cell_type": "markdown",
      "source": [
        "# Acceso a características de los datos"
      ],
      "metadata": {
        "id": "5eWD9z0QI40p"
      }
    },
    {
      "cell_type": "markdown",
      "source": [
        "# Obtención de cantidad de valores únicos"
      ],
      "metadata": {
        "id": "3tldNdovIyU1"
      }
    },
    {
      "cell_type": "markdown",
      "source": [
        "# Medidas estadísticas"
      ],
      "metadata": {
        "id": "rjL1_i9DI2Ip"
      }
    },
    {
      "cell_type": "markdown",
      "source": [
        "# Filtros"
      ],
      "metadata": {
        "id": "-vZiYTYhJfpp"
      }
    },
    {
      "cell_type": "markdown",
      "source": [
        "# Agrupamiento"
      ],
      "metadata": {
        "id": "FxbsmZowKuGH"
      }
    },
    {
      "cell_type": "markdown",
      "source": [
        "# Preguntas\n",
        "\n",
        "1. ¿Cuáles son las características del conjunto de datos?\n",
        "2. ¿En qué año se registran más canciones?\n",
        "3. ¿En qué año se registran menos canciones?\n",
        "4. ¿Cuántos valores distintos tiene la variable Time_Signature?\n",
        "5. ¿Cuáles son los valores distintos que tiene la variable Time_Signature?\n",
        "6. ¿Cuál es el promedio de la variable continua Popularity?\n",
        "7. ¿Cuál es el tipo de dato de la variable Energy?\n",
        "8. Obtener el nombre de las canciones que tienen mayor duración.\n",
        "9. Repetir el ejercicio anterior considerando el nombre de la canción y el nombre del artista.\n"
      ],
      "metadata": {
        "id": "w-m7GNRtN35e"
      }
    },
    {
      "cell_type": "markdown",
      "source": [
        "# Respuestas"
      ],
      "metadata": {
        "id": "qwy71D4TN6E6"
      }
    }
  ]
}