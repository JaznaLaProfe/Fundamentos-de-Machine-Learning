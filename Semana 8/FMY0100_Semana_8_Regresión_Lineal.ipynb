{
  "nbformat": 4,
  "nbformat_minor": 0,
  "metadata": {
    "colab": {
      "provenance": []
    },
    "kernelspec": {
      "name": "python3",
      "display_name": "Python 3"
    },
    "language_info": {
      "name": "python"
    }
  },
  "cells": [
    {
      "cell_type": "markdown",
      "source": [
        "# Modelos de regresión\n",
        "\n",
        "**Autor:** Jazna Meza Hidalgo\n",
        "\n",
        "**Correo Electrónico:** ja.meza@profesor.duoc.cl\n",
        "\n",
        "**Fecha de Creación:** Septiembre de 2024  \n",
        "**Versión:** 1.0\n",
        "\n",
        "---\n",
        "\n",
        "## Descripción\n",
        "\n",
        "Este notebook realiza una experimentación para obtener el mejor modelo de regresión para predecir el precio de un vehículo.\n",
        "\n",
        "Para evaluar el modelo de regresión se utilizan 3 métricas:\n",
        "\n",
        "+ MAE\n",
        "+ MSLE\n",
        "+ $R^2$ (coeficiente de determinación)\n",
        "\n",
        "\n",
        "---\n",
        "\n",
        "## Requisitos de Software\n",
        "\n",
        "Este notebook fue desarrollado con Python 3.9. A continuación se listan las bibliotecas necesarias:\n",
        "\n",
        "- numpy (1.26.4)\n",
        "- pandas (2.2.2)\n",
        "- matplotlib (3.7.1)\n",
        "- seaborn (0.13.1)\n",
        "- sklearn-pandas (2.2.0)"
      ],
      "metadata": {
        "id": "6-aW7plZWg8n"
      }
    },
    {
      "cell_type": "markdown",
      "source": [
        "# Contexto de Negocio\n",
        "Una empresa del sector automotriz está interesada en desarrollar un modelo predictivo que permita estimar el precio de los automóviles en función de diversas características técnicas y de diseño. Este modelo será clave para que la empresa pueda:\n",
        "\n",
        "+ Ofrecer recomendaciones de precios competitivos para nuevos modelos de automóviles.\n",
        "+ Ajustar los precios de modelos ya existentes basándose en las características y especificaciones.\n",
        "+ Entender cómo cada factor técnico (como el tamaño del motor, la potencia, y el consumo de combustible) afecta el precio de los automóviles.\n"
      ],
      "metadata": {
        "id": "HYAnbuCCdCor"
      }
    },
    {
      "cell_type": "markdown",
      "source": [
        "# Objetivo del proyecto\n",
        "Construir un modelo de regresión capaz de predecir el precio de un automóvil, basándose en las características disponibles\n",
        "\n"
      ],
      "metadata": {
        "id": "sF3usNKWdOYs"
      }
    },
    {
      "cell_type": "markdown",
      "source": [
        "# Aporte del modelo\n",
        "\n",
        "El modelo podría ser usado por el departamento de ventas y marketing para fijar precios competitivos y también ayudar a los clientes a encontrar el automóvil que mejor se ajuste a sus necesidades en función de su presupuesto.\n",
        "\n",
        "Este tipo de análisis también podría ser útil para evaluar el impacto de características específicas en el precio, como el tipo de combustible, el tamaño del motor o el número de puertas, lo que puede guiar futuras decisiones en el diseño de vehículos."
      ],
      "metadata": {
        "id": "IEZJJ5hdddIM"
      }
    },
    {
      "cell_type": "code",
      "execution_count": 1,
      "metadata": {
        "id": "rSgvzS6FfEUW"
      },
      "outputs": [],
      "source": [
        "# Importa las librerías a nuestro entorno de trabajo\n",
        "import numpy as np\n",
        "import pandas as pd\n",
        "import seaborn as sb\n",
        "import matplotlib.pyplot as plt\n",
        "%matplotlib inline\n",
        "from mpl_toolkits.mplot3d import Axes3D\n",
        "from matplotlib import cm\n",
        "from sklearn.linear_model import LinearRegression\n",
        "from sklearn.tree import DecisionTreeRegressor\n",
        "from sklearn.ensemble import RandomForestRegressor\n",
        "from sklearn.metrics import mean_absolute_error, mean_squared_log_error, r2_score\n",
        "from sklearn.model_selection import train_test_split\n",
        "\n",
        "from sklearn.pipeline import Pipeline"
      ]
    },
    {
      "cell_type": "code",
      "source": [
        "!wget https://raw.githubusercontent.com/JaznaLaProfe/Fundamentos-de-Machine-Learning/main/data/CarPrice_Assignment.csv"
      ],
      "metadata": {
        "colab": {
          "base_uri": "https://localhost:8080/"
        },
        "id": "Yt5QPWyYfOAE",
        "outputId": "6af019dc-043c-4eb5-c6fd-1f216f4fbc6e"
      },
      "execution_count": 14,
      "outputs": [
        {
          "output_type": "stream",
          "name": "stdout",
          "text": [
            "--2024-10-01 23:26:08--  https://raw.githubusercontent.com/JaznaLaProfe/Fundamentos-de-Machine-Learning/main/data/CarPrice_Assignment.csv\n",
            "Resolving raw.githubusercontent.com (raw.githubusercontent.com)... 185.199.108.133, 185.199.109.133, 185.199.110.133, ...\n",
            "Connecting to raw.githubusercontent.com (raw.githubusercontent.com)|185.199.108.133|:443... connected.\n",
            "HTTP request sent, awaiting response... 200 OK\n",
            "Length: 26717 (26K) [text/plain]\n",
            "Saving to: ‘CarPrice_Assignment.csv’\n",
            "\n",
            "\rCarPrice_Assignment   0%[                    ]       0  --.-KB/s               \rCarPrice_Assignment 100%[===================>]  26.09K  --.-KB/s    in 0.002s  \n",
            "\n",
            "2024-10-01 23:26:08 (10.4 MB/s) - ‘CarPrice_Assignment.csv’ saved [26717/26717]\n",
            "\n"
          ]
        }
      ]
    },
    {
      "cell_type": "code",
      "source": [
        "data = pd.read_csv(\"CarPrice_Assignment.csv\", sep=\",\")"
      ],
      "metadata": {
        "id": "M3oZseR_fouT"
      },
      "execution_count": 15,
      "outputs": []
    },
    {
      "cell_type": "code",
      "source": [
        "data.shape"
      ],
      "metadata": {
        "colab": {
          "base_uri": "https://localhost:8080/"
        },
        "id": "hv6cv_mWftv3",
        "outputId": "9c6ac36f-ab97-4588-88a5-d5618767d57f"
      },
      "execution_count": 18,
      "outputs": [
        {
          "output_type": "execute_result",
          "data": {
            "text/plain": [
              "(205, 26)"
            ]
          },
          "metadata": {},
          "execution_count": 18
        }
      ]
    },
    {
      "cell_type": "code",
      "source": [
        "# Información de tipo de datos y nulos\n",
        "data.info()"
      ],
      "metadata": {
        "colab": {
          "base_uri": "https://localhost:8080/"
        },
        "id": "aVFnVY8tfzjd",
        "outputId": "5ab0002f-76bf-4b3d-dbaf-f89f0f458e5f"
      },
      "execution_count": 5,
      "outputs": [
        {
          "output_type": "stream",
          "name": "stdout",
          "text": [
            "<class 'pandas.core.frame.DataFrame'>\n",
            "RangeIndex: 205 entries, 0 to 204\n",
            "Data columns (total 26 columns):\n",
            " #   Column            Non-Null Count  Dtype  \n",
            "---  ------            --------------  -----  \n",
            " 0   car_ID            205 non-null    int64  \n",
            " 1   symboling         205 non-null    int64  \n",
            " 2   CarName           205 non-null    object \n",
            " 3   fueltype          205 non-null    object \n",
            " 4   aspiration        205 non-null    object \n",
            " 5   doornumber        205 non-null    object \n",
            " 6   carbody           205 non-null    object \n",
            " 7   drivewheel        205 non-null    object \n",
            " 8   enginelocation    205 non-null    object \n",
            " 9   wheelbase         205 non-null    float64\n",
            " 10  carlength         205 non-null    float64\n",
            " 11  carwidth          205 non-null    float64\n",
            " 12  carheight         205 non-null    float64\n",
            " 13  curbweight        205 non-null    int64  \n",
            " 14  enginetype        205 non-null    object \n",
            " 15  cylindernumber    205 non-null    object \n",
            " 16  enginesize        205 non-null    int64  \n",
            " 17  fuelsystem        205 non-null    object \n",
            " 18  boreratio         205 non-null    float64\n",
            " 19  stroke            205 non-null    float64\n",
            " 20  compressionratio  205 non-null    float64\n",
            " 21  horsepower        205 non-null    int64  \n",
            " 22  peakrpm           205 non-null    int64  \n",
            " 23  citympg           205 non-null    int64  \n",
            " 24  highwaympg        205 non-null    int64  \n",
            " 25  price             205 non-null    float64\n",
            "dtypes: float64(8), int64(8), object(10)\n",
            "memory usage: 41.8+ KB\n"
          ]
        }
      ]
    },
    {
      "cell_type": "code",
      "source": [
        "# Obtiene la correlación de las variables con el precio del vehículo (la variable que se pretende predecir)\n",
        "corr_matrix = data[data.describe().columns].corr()\n",
        "corr_matrix[\"price\"].sort_values(ascending=False)"
      ],
      "metadata": {
        "colab": {
          "base_uri": "https://localhost:8080/",
          "height": 586
        },
        "id": "GHOEQ7iLgdsP",
        "outputId": "9e68490f-1b14-41f9-c122-65da54a303e2"
      },
      "execution_count": 33,
      "outputs": [
        {
          "output_type": "execute_result",
          "data": {
            "text/plain": [
              "price               1.000000\n",
              "enginesize          0.874145\n",
              "curbweight          0.835305\n",
              "horsepower          0.808139\n",
              "carwidth            0.759325\n",
              "carlength           0.682920\n",
              "wheelbase           0.577816\n",
              "boreratio           0.553173\n",
              "carheight           0.119336\n",
              "stroke              0.079443\n",
              "compressionratio    0.067984\n",
              "symboling          -0.079978\n",
              "peakrpm            -0.085267\n",
              "car_ID             -0.109093\n",
              "citympg            -0.685751\n",
              "highwaympg         -0.697599\n",
              "Name: price, dtype: float64"
            ],
            "text/html": [
              "<div>\n",
              "<style scoped>\n",
              "    .dataframe tbody tr th:only-of-type {\n",
              "        vertical-align: middle;\n",
              "    }\n",
              "\n",
              "    .dataframe tbody tr th {\n",
              "        vertical-align: top;\n",
              "    }\n",
              "\n",
              "    .dataframe thead th {\n",
              "        text-align: right;\n",
              "    }\n",
              "</style>\n",
              "<table border=\"1\" class=\"dataframe\">\n",
              "  <thead>\n",
              "    <tr style=\"text-align: right;\">\n",
              "      <th></th>\n",
              "      <th>price</th>\n",
              "    </tr>\n",
              "  </thead>\n",
              "  <tbody>\n",
              "    <tr>\n",
              "      <th>price</th>\n",
              "      <td>1.000000</td>\n",
              "    </tr>\n",
              "    <tr>\n",
              "      <th>enginesize</th>\n",
              "      <td>0.874145</td>\n",
              "    </tr>\n",
              "    <tr>\n",
              "      <th>curbweight</th>\n",
              "      <td>0.835305</td>\n",
              "    </tr>\n",
              "    <tr>\n",
              "      <th>horsepower</th>\n",
              "      <td>0.808139</td>\n",
              "    </tr>\n",
              "    <tr>\n",
              "      <th>carwidth</th>\n",
              "      <td>0.759325</td>\n",
              "    </tr>\n",
              "    <tr>\n",
              "      <th>carlength</th>\n",
              "      <td>0.682920</td>\n",
              "    </tr>\n",
              "    <tr>\n",
              "      <th>wheelbase</th>\n",
              "      <td>0.577816</td>\n",
              "    </tr>\n",
              "    <tr>\n",
              "      <th>boreratio</th>\n",
              "      <td>0.553173</td>\n",
              "    </tr>\n",
              "    <tr>\n",
              "      <th>carheight</th>\n",
              "      <td>0.119336</td>\n",
              "    </tr>\n",
              "    <tr>\n",
              "      <th>stroke</th>\n",
              "      <td>0.079443</td>\n",
              "    </tr>\n",
              "    <tr>\n",
              "      <th>compressionratio</th>\n",
              "      <td>0.067984</td>\n",
              "    </tr>\n",
              "    <tr>\n",
              "      <th>symboling</th>\n",
              "      <td>-0.079978</td>\n",
              "    </tr>\n",
              "    <tr>\n",
              "      <th>peakrpm</th>\n",
              "      <td>-0.085267</td>\n",
              "    </tr>\n",
              "    <tr>\n",
              "      <th>car_ID</th>\n",
              "      <td>-0.109093</td>\n",
              "    </tr>\n",
              "    <tr>\n",
              "      <th>citympg</th>\n",
              "      <td>-0.685751</td>\n",
              "    </tr>\n",
              "    <tr>\n",
              "      <th>highwaympg</th>\n",
              "      <td>-0.697599</td>\n",
              "    </tr>\n",
              "  </tbody>\n",
              "</table>\n",
              "</div><br><label><b>dtype:</b> float64</label>"
            ]
          },
          "metadata": {},
          "execution_count": 33
        }
      ]
    },
    {
      "cell_type": "code",
      "source": [
        "sb.histplot(data.price)\n",
        "plt.title(\"Distribución de precios de vehículos\", fontsize=16, fontweight=\"bold\")\n",
        "plt.show()"
      ],
      "metadata": {
        "colab": {
          "base_uri": "https://localhost:8080/",
          "height": 475
        },
        "id": "tmpOHQAdahUS",
        "outputId": "3b96f2f1-775f-4318-9959-5f94c440a50b"
      },
      "execution_count": 17,
      "outputs": [
        {
          "output_type": "display_data",
          "data": {
            "text/plain": [
              "<Figure size 640x480 with 1 Axes>"
            ],
            "image/png": "[encoded data removed]"
          },
          "metadata": {}
        }
      ]
    },
    {
      "cell_type": "code",
      "source": [
        "sb.scatterplot(x=data.enginesize , y=data.price)\n",
        "plt.title(\"Relación precio / Enginesize\", fontsize=16, fontweight=\"bold\")\n",
        "plt.xticks(rotation=45)  # Rotar las etiquetas 45 grados\n",
        "plt.xlabel(\"Enginesize\", fontsize=12, fontweight=\"bold\")\n",
        "plt.ylabel(\"Precio\", fontsize=12, fontweight=\"bold\")\n",
        "plt.show()"
      ],
      "metadata": {
        "colab": {
          "base_uri": "https://localhost:8080/",
          "height": 494
        },
        "id": "aksZmYlKd_cD",
        "outputId": "1010cd5e-7ab0-4315-e4ce-169526016ecf"
      },
      "execution_count": 20,
      "outputs": [
        {
          "output_type": "display_data",
          "data": {
            "text/plain": [
              "<Figure size 640x480 with 1 Axes>"
            ],
            "image/png": "[encoded data removed]"
          },
          "metadata": {}
        }
      ]
    },
    {
      "cell_type": "markdown",
      "source": [
        "El engine size (tamaño del motor) de un vehículo se refiere al volumen total de los cilindros del motor, es decir, el espacio donde ocurre la combustión de la mezcla de aire y combustible para generar energía. Este tamaño se mide generalmente en litros (L) o en centímetros cúbicos (cc)."
      ],
      "metadata": {
        "id": "KVYnXPiwtmfq"
      }
    },
    {
      "cell_type": "code",
      "source": [
        "pd.DataFrame(data['enginesize'].describe()).T"
      ],
      "metadata": {
        "colab": {
          "base_uri": "https://localhost:8080/",
          "height": 81
        },
        "id": "VqjFri2NtnZo",
        "outputId": "85c029b5-3472-4ae6-9b8d-a7853ec833d1"
      },
      "execution_count": 110,
      "outputs": [
        {
          "output_type": "execute_result",
          "data": {
            "text/plain": [
              "            count        mean        std   min   25%    50%    75%    max\n",
              "enginesize  205.0  126.907317  41.642693  61.0  97.0  120.0  141.0  326.0"
            ],
            "text/html": [
              "\n",
              "  <div id=\"df-a34cd8c0-cf4c-4b5e-b04d-7680f571b930\" class=\"colab-df-container\">\n",
              "    <div>\n",
              "<style scoped>\n",
              "    .dataframe tbody tr th:only-of-type {\n",
              "        vertical-align: middle;\n",
              "    }\n",
              "\n",
              "    .dataframe tbody tr th {\n",
              "        vertical-align: top;\n",
              "    }\n",
              "\n",
              "    .dataframe thead th {\n",
              "        text-align: right;\n",
              "    }\n",
              "</style>\n",
              "<table border=\"1\" class=\"dataframe\">\n",
              "  <thead>\n",
              "    <tr style=\"text-align: right;\">\n",
              "      <th></th>\n",
              "      <th>count</th>\n",
              "      <th>mean</th>\n",
              "      <th>std</th>\n",
              "      <th>min</th>\n",
              "      <th>25%</th>\n",
              "      <th>50%</th>\n",
              "      <th>75%</th>\n",
              "      <th>max</th>\n",
              "    </tr>\n",
              "  </thead>\n",
              "  <tbody>\n",
              "    <tr>\n",
              "      <th>enginesize</th>\n",
              "      <td>205.0</td>\n",
              "      <td>126.907317</td>\n",
              "      <td>41.642693</td>\n",
              "      <td>61.0</td>\n",
              "      <td>97.0</td>\n",
              "      <td>120.0</td>\n",
              "      <td>141.0</td>\n",
              "      <td>326.0</td>\n",
              "    </tr>\n",
              "  </tbody>\n",
              "</table>\n",
              "</div>\n",
              "    <div class=\"colab-df-buttons\">\n",
              "\n",
              "  <div class=\"colab-df-container\">\n",
              "    <button class=\"colab-df-convert\" onclick=\"convertToInteractive('df-a34cd8c0-cf4c-4b5e-b04d-7680f571b930')\"\n",
              "            title=\"Convert this dataframe to an interactive table.\"\n",
              "            style=\"display:none;\">\n",
              "\n",
              "  <svg xmlns=\"http://www.w3.org/2000/svg\" height=\"24px\" viewBox=\"0 -960 960 960\">\n",
              "    <path d=\"M120-120v-720h720v720H120Zm60-500h600v-160H180v160Zm220 220h160v-160H400v160Zm0 220h160v-160H400v160ZM180-400h160v-160H180v160Zm440 0h160v-160H620v160ZM180-180h160v-160H180v160Zm440 0h160v-160H620v160Z\"/>\n",
              "  </svg>\n",
              "    </button>\n",
              "\n",
              "  <style>\n",
              "    .colab-df-container {\n",
              "      display:flex;\n",
              "      gap: 12px;\n",
              "    }\n",
              "\n",
              "    .colab-df-convert {\n",
              "      background-color: #E8F0FE;\n",
              "      border: none;\n",
              "      border-radius: 50%;\n",
              "      cursor: pointer;\n",
              "      display: none;\n",
              "      fill: #1967D2;\n",
              "      height: 32px;\n",
              "      padding: 0 0 0 0;\n",
              "      width: 32px;\n",
              "    }\n",
              "\n",
              "    .colab-df-convert:hover {\n",
              "      background-color: #E2EBFA;\n",
              "      box-shadow: 0px 1px 2px rgba(60, 64, 67, 0.3), 0px 1px 3px 1px rgba(60, 64, 67, 0.15);\n",
              "      fill: #174EA6;\n",
              "    }\n",
              "\n",
              "    .colab-df-buttons div {\n",
              "      margin-bottom: 4px;\n",
              "    }\n",
              "\n",
              "    [theme=dark] .colab-df-convert {\n",
              "      background-color: #3B4455;\n",
              "      fill: #D2E3FC;\n",
              "    }\n",
              "\n",
              "    [theme=dark] .colab-df-convert:hover {\n",
              "      background-color: #434B5C;\n",
              "      box-shadow: 0px 1px 3px 1px rgba(0, 0, 0, 0.15);\n",
              "      filter: drop-shadow(0px 1px 2px rgba(0, 0, 0, 0.3));\n",
              "      fill: #FFFFFF;\n",
              "    }\n",
              "  </style>\n",
              "\n",
              "    <script>\n",
              "      const buttonEl =\n",
              "        document.querySelector('#df-a34cd8c0-cf4c-4b5e-b04d-7680f571b930 button.colab-df-convert');\n",
              "      buttonEl.style.display =\n",
              "        google.colab.kernel.accessAllowed ? 'block' : 'none';\n",
              "\n",
              "      async function convertToInteractive(key) {\n",
              "        const element = document.querySelector('#df-a34cd8c0-cf4c-4b5e-b04d-7680f571b930');\n",
              "        const dataTable =\n",
              "          await google.colab.kernel.invokeFunction('convertToInteractive',\n",
              "                                                    [key], {});\n",
              "        if (!dataTable) return;\n",
              "\n",
              "        const docLinkHtml = 'Like what you see? Visit the ' +\n",
              "          '<a target=\"_blank\" href=https://colab.research.google.com/notebooks/data_table.ipynb>data table notebook</a>'\n",
              "          + ' to learn more about interactive tables.';\n",
              "        element.innerHTML = '';\n",
              "        dataTable['output_type'] = 'display_data';\n",
              "        await google.colab.output.renderOutput(dataTable, element);\n",
              "        const docLink = document.createElement('div');\n",
              "        docLink.innerHTML = docLinkHtml;\n",
              "        element.appendChild(docLink);\n",
              "      }\n",
              "    </script>\n",
              "  </div>\n",
              "\n",
              "\n",
              "    </div>\n",
              "  </div>\n"
            ],
            "application/vnd.google.colaboratory.intrinsic+json": {
              "type": "dataframe",
              "summary": "{\n  \"name\": \"pd\",\n  \"rows\": 1,\n  \"fields\": [\n    {\n      \"column\": \"count\",\n      \"properties\": {\n        \"dtype\": \"number\",\n        \"std\": null,\n        \"min\": 205.0,\n        \"max\": 205.0,\n        \"num_unique_values\": 1,\n        \"samples\": [\n          205.0\n        ],\n        \"semantic_type\": \"\",\n        \"description\": \"\"\n      }\n    },\n    {\n      \"column\": \"mean\",\n      \"properties\": {\n        \"dtype\": \"number\",\n        \"std\": null,\n        \"min\": 126.90731707317073,\n        \"max\": 126.90731707317073,\n        \"num_unique_values\": 1,\n        \"samples\": [\n          126.90731707317073\n        ],\n        \"semantic_type\": \"\",\n        \"description\": \"\"\n      }\n    },\n    {\n      \"column\": \"std\",\n      \"properties\": {\n        \"dtype\": \"number\",\n        \"std\": null,\n        \"min\": 41.642693438179826,\n        \"max\": 41.642693438179826,\n        \"num_unique_values\": 1,\n        \"samples\": [\n          41.642693438179826\n        ],\n        \"semantic_type\": \"\",\n        \"description\": \"\"\n      }\n    },\n    {\n      \"column\": \"min\",\n      \"properties\": {\n        \"dtype\": \"number\",\n        \"std\": null,\n        \"min\": 61.0,\n        \"max\": 61.0,\n        \"num_unique_values\": 1,\n        \"samples\": [\n          61.0\n        ],\n        \"semantic_type\": \"\",\n        \"description\": \"\"\n      }\n    },\n    {\n      \"column\": \"25%\",\n      \"properties\": {\n        \"dtype\": \"number\",\n        \"std\": null,\n        \"min\": 97.0,\n        \"max\": 97.0,\n        \"num_unique_values\": 1,\n        \"samples\": [\n          97.0\n        ],\n        \"semantic_type\": \"\",\n        \"description\": \"\"\n      }\n    },\n    {\n      \"column\": \"50%\",\n      \"properties\": {\n        \"dtype\": \"number\",\n        \"std\": null,\n        \"min\": 120.0,\n        \"max\": 120.0,\n        \"num_unique_values\": 1,\n        \"samples\": [\n          120.0\n        ],\n        \"semantic_type\": \"\",\n        \"description\": \"\"\n      }\n    },\n    {\n      \"column\": \"75%\",\n      \"properties\": {\n        \"dtype\": \"number\",\n        \"std\": null,\n        \"min\": 141.0,\n        \"max\": 141.0,\n        \"num_unique_values\": 1,\n        \"samples\": [\n          141.0\n        ],\n        \"semantic_type\": \"\",\n        \"description\": \"\"\n      }\n    },\n    {\n      \"column\": \"max\",\n      \"properties\": {\n        \"dtype\": \"number\",\n        \"std\": null,\n        \"min\": 326.0,\n        \"max\": 326.0,\n        \"num_unique_values\": 1,\n        \"samples\": [\n          326.0\n        ],\n        \"semantic_type\": \"\",\n        \"description\": \"\"\n      }\n    }\n  ]\n}"
            }
          },
          "metadata": {},
          "execution_count": 110
        }
      ]
    },
    {
      "cell_type": "markdown",
      "source": [
        "Además de los litros (L), otra unidad común para medir el tamaño de un motor es el centímetro cúbico (cc) o pulgada cúbica (ci).\n",
        "\n",
        "+ Centímetros cúbicos (cc): Es la medida más pequeña y se refiere al volumen total de los cilindros del motor en centímetros cúbicos. Por ejemplo, un motor de 1000 cc es equivalente a 1 litro.\n",
        "+ Pulgadas cúbicas (ci): Esta es una unidad de medida más antigua y se utilizaba comúnmente en vehículos estadounidenses hasta que se adoptó el sistema métrico.\n",
        "En este caso, si el valor máximo de engine size es 326 y la mediana es 120, es muy probable que estos números estén en centímetros cúbicos (cc). Un valor de 326 cc sería un motor pequeño, típico de motocicletas, scooters, o algunos vehículos compactos muy eficientes."
      ],
      "metadata": {
        "id": "LZz9bcJVuc5A"
      }
    },
    {
      "cell_type": "markdown",
      "source": [
        "**Análisis de 'curbweight' y 'horsepower'**\n",
        "\n",
        "En un vehículo, \"curb weight\" y \"horsepower\" son dos métricas importantes que se utilizan para describir su masa y potencia respectivamente:\n",
        "\n",
        "1. Curb Weight (Peso en vacío):\n",
        "\n",
        "Definición: El curb weight o peso en vacío es el peso total del vehículo cuando está vacío de pasajeros y carga, pero con todos los fluidos necesarios (combustible, aceite, refrigerante, entre otros) llenos y todos los accesorios estándar instalados.\n",
        "\n",
        "Unidades de medida:\n",
        "Generalmente, se mide en kilogramos (kg) o libras (lbs).\n",
        "\n",
        "Importancia: Un vehículo con un peso en vacío menor generalmente será más eficiente en términos de consumo de combustible y tendrá mejor aceleración. Sin embargo, un peso mayor puede proporcionar más estabilidad y confort en carretera.\n",
        "\n",
        "2. Horsepower (Caballos de fuerza):\n",
        "\n",
        "Definición: El horsepower (HP) es una medida de la potencia del motor de un vehículo, que indica cuánta fuerza puede generar el motor para mover el vehículo. Representa la tasa a la que se puede hacer trabajo. Un mayor número de caballos de fuerza generalmente se traduce en una mayor velocidad máxima y una mejor aceleración.\n",
        "\n",
        "Unidades de medida:\n",
        "\n",
        "En países que usan el sistema métrico, se utiliza kilovatios (kW) como unidad de medida equivalente, donde 1 HP ≈ 0.7355 kW.\n",
        "Caballos de fuerza (HP) es la medida más común en automóviles.\n",
        "\n",
        "Importancia: El horsepower es crucial para entender el rendimiento del vehículo. Un vehículo con más caballos de fuerza será más rápido y tendrá mejor capacidad para arrastrar o llevar carga pesada.\n",
        "Por lo tanto, el \"curb weight\" afecta el manejo, la eficiencia de combustible y la dinámica del vehículo, mientras que el \"horsepower\" determina su potencia, aceleración y rendimiento en carretera."
      ],
      "metadata": {
        "id": "64rjYcTOwDY5"
      }
    },
    {
      "cell_type": "code",
      "source": [
        "pd.DataFrame(data[['curbweight', 'horsepower']].describe()).T"
      ],
      "metadata": {
        "colab": {
          "base_uri": "https://localhost:8080/",
          "height": 112
        },
        "id": "uRBNX5Ksvsco",
        "outputId": "c8f05142-0c74-4643-d0e4-833fbcfee1b8"
      },
      "execution_count": 117,
      "outputs": [
        {
          "output_type": "execute_result",
          "data": {
            "text/plain": [
              "            count         mean         std     min     25%     50%     75%  \\\n",
              "curbweight  205.0  2555.565854  520.680204  1488.0  2145.0  2414.0  2935.0   \n",
              "horsepower  205.0   104.117073   39.544167    48.0    70.0    95.0   116.0   \n",
              "\n",
              "               max  \n",
              "curbweight  4066.0  \n",
              "horsepower   288.0  "
            ],
            "text/html": [
              "\n",
              "  <div id=\"df-206bce5f-43dc-42fa-bb01-ecd92e751beb\" class=\"colab-df-container\">\n",
              "    <div>\n",
              "<style scoped>\n",
              "    .dataframe tbody tr th:only-of-type {\n",
              "        vertical-align: middle;\n",
              "    }\n",
              "\n",
              "    .dataframe tbody tr th {\n",
              "        vertical-align: top;\n",
              "    }\n",
              "\n",
              "    .dataframe thead th {\n",
              "        text-align: right;\n",
              "    }\n",
              "</style>\n",
              "<table border=\"1\" class=\"dataframe\">\n",
              "  <thead>\n",
              "    <tr style=\"text-align: right;\">\n",
              "      <th></th>\n",
              "      <th>count</th>\n",
              "      <th>mean</th>\n",
              "      <th>std</th>\n",
              "      <th>min</th>\n",
              "      <th>25%</th>\n",
              "      <th>50%</th>\n",
              "      <th>75%</th>\n",
              "      <th>max</th>\n",
              "    </tr>\n",
              "  </thead>\n",
              "  <tbody>\n",
              "    <tr>\n",
              "      <th>curbweight</th>\n",
              "      <td>205.0</td>\n",
              "      <td>2555.565854</td>\n",
              "      <td>520.680204</td>\n",
              "      <td>1488.0</td>\n",
              "      <td>2145.0</td>\n",
              "      <td>2414.0</td>\n",
              "      <td>2935.0</td>\n",
              "      <td>4066.0</td>\n",
              "    </tr>\n",
              "    <tr>\n",
              "      <th>horsepower</th>\n",
              "      <td>205.0</td>\n",
              "      <td>104.117073</td>\n",
              "      <td>39.544167</td>\n",
              "      <td>48.0</td>\n",
              "      <td>70.0</td>\n",
              "      <td>95.0</td>\n",
              "      <td>116.0</td>\n",
              "      <td>288.0</td>\n",
              "    </tr>\n",
              "  </tbody>\n",
              "</table>\n",
              "</div>\n",
              "    <div class=\"colab-df-buttons\">\n",
              "\n",
              "  <div class=\"colab-df-container\">\n",
              "    <button class=\"colab-df-convert\" onclick=\"convertToInteractive('df-206bce5f-43dc-42fa-bb01-ecd92e751beb')\"\n",
              "            title=\"Convert this dataframe to an interactive table.\"\n",
              "            style=\"display:none;\">\n",
              "\n",
              "  <svg xmlns=\"http://www.w3.org/2000/svg\" height=\"24px\" viewBox=\"0 -960 960 960\">\n",
              "    <path d=\"M120-120v-720h720v720H120Zm60-500h600v-160H180v160Zm220 220h160v-160H400v160Zm0 220h160v-160H400v160ZM180-400h160v-160H180v160Zm440 0h160v-160H620v160ZM180-180h160v-160H180v160Zm440 0h160v-160H620v160Z\"/>\n",
              "  </svg>\n",
              "    </button>\n",
              "\n",
              "  <style>\n",
              "    .colab-df-container {\n",
              "      display:flex;\n",
              "      gap: 12px;\n",
              "    }\n",
              "\n",
              "    .colab-df-convert {\n",
              "      background-color: #E8F0FE;\n",
              "      border: none;\n",
              "      border-radius: 50%;\n",
              "      cursor: pointer;\n",
              "      display: none;\n",
              "      fill: #1967D2;\n",
              "      height: 32px;\n",
              "      padding: 0 0 0 0;\n",
              "      width: 32px;\n",
              "    }\n",
              "\n",
              "    .colab-df-convert:hover {\n",
              "      background-color: #E2EBFA;\n",
              "      box-shadow: 0px 1px 2px rgba(60, 64, 67, 0.3), 0px 1px 3px 1px rgba(60, 64, 67, 0.15);\n",
              "      fill: #174EA6;\n",
              "    }\n",
              "\n",
              "    .colab-df-buttons div {\n",
              "      margin-bottom: 4px;\n",
              "    }\n",
              "\n",
              "    [theme=dark] .colab-df-convert {\n",
              "      background-color: #3B4455;\n",
              "      fill: #D2E3FC;\n",
              "    }\n",
              "\n",
              "    [theme=dark] .colab-df-convert:hover {\n",
              "      background-color: #434B5C;\n",
              "      box-shadow: 0px 1px 3px 1px rgba(0, 0, 0, 0.15);\n",
              "      filter: drop-shadow(0px 1px 2px rgba(0, 0, 0, 0.3));\n",
              "      fill: #FFFFFF;\n",
              "    }\n",
              "  </style>\n",
              "\n",
              "    <script>\n",
              "      const buttonEl =\n",
              "        document.querySelector('#df-206bce5f-43dc-42fa-bb01-ecd92e751beb button.colab-df-convert');\n",
              "      buttonEl.style.display =\n",
              "        google.colab.kernel.accessAllowed ? 'block' : 'none';\n",
              "\n",
              "      async function convertToInteractive(key) {\n",
              "        const element = document.querySelector('#df-206bce5f-43dc-42fa-bb01-ecd92e751beb');\n",
              "        const dataTable =\n",
              "          await google.colab.kernel.invokeFunction('convertToInteractive',\n",
              "                                                    [key], {});\n",
              "        if (!dataTable) return;\n",
              "\n",
              "        const docLinkHtml = 'Like what you see? Visit the ' +\n",
              "          '<a target=\"_blank\" href=https://colab.research.google.com/notebooks/data_table.ipynb>data table notebook</a>'\n",
              "          + ' to learn more about interactive tables.';\n",
              "        element.innerHTML = '';\n",
              "        dataTable['output_type'] = 'display_data';\n",
              "        await google.colab.output.renderOutput(dataTable, element);\n",
              "        const docLink = document.createElement('div');\n",
              "        docLink.innerHTML = docLinkHtml;\n",
              "        element.appendChild(docLink);\n",
              "      }\n",
              "    </script>\n",
              "  </div>\n",
              "\n",
              "\n",
              "<div id=\"df-1948a125-6a3a-48ee-827d-9de74d46644b\">\n",
              "  <button class=\"colab-df-quickchart\" onclick=\"quickchart('df-1948a125-6a3a-48ee-827d-9de74d46644b')\"\n",
              "            title=\"Suggest charts\"\n",
              "            style=\"display:none;\">\n",
              "\n",
              "<svg xmlns=\"http://www.w3.org/2000/svg\" height=\"24px\"viewBox=\"0 0 24 24\"\n",
              "     width=\"24px\">\n",
              "    <g>\n",
              "        <path d=\"M19 3H5c-1.1 0-2 .9-2 2v14c0 1.1.9 2 2 2h14c1.1 0 2-.9 2-2V5c0-1.1-.9-2-2-2zM9 17H7v-7h2v7zm4 0h-2V7h2v10zm4 0h-2v-4h2v4z\"/>\n",
              "    </g>\n",
              "</svg>\n",
              "  </button>\n",
              "\n",
              "<style>\n",
              "  .colab-df-quickchart {\n",
              "      --bg-color: #E8F0FE;\n",
              "      --fill-color: #1967D2;\n",
              "      --hover-bg-color: #E2EBFA;\n",
              "      --hover-fill-color: #174EA6;\n",
              "      --disabled-fill-color: #AAA;\n",
              "      --disabled-bg-color: #DDD;\n",
              "  }\n",
              "\n",
              "  [theme=dark] .colab-df-quickchart {\n",
              "      --bg-color: #3B4455;\n",
              "      --fill-color: #D2E3FC;\n",
              "      --hover-bg-color: #434B5C;\n",
              "      --hover-fill-color: #FFFFFF;\n",
              "      --disabled-bg-color: #3B4455;\n",
              "      --disabled-fill-color: #666;\n",
              "  }\n",
              "\n",
              "  .colab-df-quickchart {\n",
              "    background-color: var(--bg-color);\n",
              "    border: none;\n",
              "    border-radius: 50%;\n",
              "    cursor: pointer;\n",
              "    display: none;\n",
              "    fill: var(--fill-color);\n",
              "    height: 32px;\n",
              "    padding: 0;\n",
              "    width: 32px;\n",
              "  }\n",
              "\n",
              "  .colab-df-quickchart:hover {\n",
              "    background-color: var(--hover-bg-color);\n",
              "    box-shadow: 0 1px 2px rgba(60, 64, 67, 0.3), 0 1px 3px 1px rgba(60, 64, 67, 0.15);\n",
              "    fill: var(--button-hover-fill-color);\n",
              "  }\n",
              "\n",
              "  .colab-df-quickchart-complete:disabled,\n",
              "  .colab-df-quickchart-complete:disabled:hover {\n",
              "    background-color: var(--disabled-bg-color);\n",
              "    fill: var(--disabled-fill-color);\n",
              "    box-shadow: none;\n",
              "  }\n",
              "\n",
              "  .colab-df-spinner {\n",
              "    border: 2px solid var(--fill-color);\n",
              "    border-color: transparent;\n",
              "    border-bottom-color: var(--fill-color);\n",
              "    animation:\n",
              "      spin 1s steps(1) infinite;\n",
              "  }\n",
              "\n",
              "  @keyframes spin {\n",
              "    0% {\n",
              "      border-color: transparent;\n",
              "      border-bottom-color: var(--fill-color);\n",
              "      border-left-color: var(--fill-color);\n",
              "    }\n",
              "    20% {\n",
              "      border-color: transparent;\n",
              "      border-left-color: var(--fill-color);\n",
              "      border-top-color: var(--fill-color);\n",
              "    }\n",
              "    30% {\n",
              "      border-color: transparent;\n",
              "      border-left-color: var(--fill-color);\n",
              "      border-top-color: var(--fill-color);\n",
              "      border-right-color: var(--fill-color);\n",
              "    }\n",
              "    40% {\n",
              "      border-color: transparent;\n",
              "      border-right-color: var(--fill-color);\n",
              "      border-top-color: var(--fill-color);\n",
              "    }\n",
              "    60% {\n",
              "      border-color: transparent;\n",
              "      border-right-color: var(--fill-color);\n",
              "    }\n",
              "    80% {\n",
              "      border-color: transparent;\n",
              "      border-right-color: var(--fill-color);\n",
              "      border-bottom-color: var(--fill-color);\n",
              "    }\n",
              "    90% {\n",
              "      border-color: transparent;\n",
              "      border-bottom-color: var(--fill-color);\n",
              "    }\n",
              "  }\n",
              "</style>\n",
              "\n",
              "  <script>\n",
              "    async function quickchart(key) {\n",
              "      const quickchartButtonEl =\n",
              "        document.querySelector('#' + key + ' button');\n",
              "      quickchartButtonEl.disabled = true;  // To prevent multiple clicks.\n",
              "      quickchartButtonEl.classList.add('colab-df-spinner');\n",
              "      try {\n",
              "        const charts = await google.colab.kernel.invokeFunction(\n",
              "            'suggestCharts', [key], {});\n",
              "      } catch (error) {\n",
              "        console.error('Error during call to suggestCharts:', error);\n",
              "      }\n",
              "      quickchartButtonEl.classList.remove('colab-df-spinner');\n",
              "      quickchartButtonEl.classList.add('colab-df-quickchart-complete');\n",
              "    }\n",
              "    (() => {\n",
              "      let quickchartButtonEl =\n",
              "        document.querySelector('#df-1948a125-6a3a-48ee-827d-9de74d46644b button');\n",
              "      quickchartButtonEl.style.display =\n",
              "        google.colab.kernel.accessAllowed ? 'block' : 'none';\n",
              "    })();\n",
              "  </script>\n",
              "</div>\n",
              "\n",
              "    </div>\n",
              "  </div>\n"
            ],
            "application/vnd.google.colaboratory.intrinsic+json": {
              "type": "dataframe",
              "summary": "{\n  \"name\": \"pd\",\n  \"rows\": 2,\n  \"fields\": [\n    {\n      \"column\": \"count\",\n      \"properties\": {\n        \"dtype\": \"number\",\n        \"std\": 0.0,\n        \"min\": 205.0,\n        \"max\": 205.0,\n        \"num_unique_values\": 1,\n        \"samples\": [\n          205.0\n        ],\n        \"semantic_type\": \"\",\n        \"description\": \"\"\n      }\n    },\n    {\n      \"column\": \"mean\",\n      \"properties\": {\n        \"dtype\": \"number\",\n        \"std\": 1733.436056414419,\n        \"min\": 104.1170731707317,\n        \"max\": 2555.5658536585365,\n        \"num_unique_values\": 2,\n        \"samples\": [\n          104.1170731707317\n        ],\n        \"semantic_type\": \"\",\n        \"description\": \"\"\n      }\n    },\n    {\n      \"column\": \"std\",\n      \"properties\": {\n        \"dtype\": \"number\",\n        \"std\": 340.2145542183291,\n        \"min\": 39.544166809361165,\n        \"max\": 520.6802035016389,\n        \"num_unique_values\": 2,\n        \"samples\": [\n          39.544166809361165\n        ],\n        \"semantic_type\": \"\",\n        \"description\": \"\"\n      }\n    },\n    {\n      \"column\": \"min\",\n      \"properties\": {\n        \"dtype\": \"number\",\n        \"std\": 1018.2337649086285,\n        \"min\": 48.0,\n        \"max\": 1488.0,\n        \"num_unique_values\": 2,\n        \"samples\": [\n          48.0\n        ],\n        \"semantic_type\": \"\",\n        \"description\": \"\"\n      }\n    },\n    {\n      \"column\": \"25%\",\n      \"properties\": {\n        \"dtype\": \"number\",\n        \"std\": 1467.246570962086,\n        \"min\": 70.0,\n        \"max\": 2145.0,\n        \"num_unique_values\": 2,\n        \"samples\": [\n          70.0\n        ],\n        \"semantic_type\": \"\",\n        \"description\": \"\"\n      }\n    },\n    {\n      \"column\": \"50%\",\n      \"properties\": {\n        \"dtype\": \"number\",\n        \"std\": 1639.7806255716037,\n        \"min\": 95.0,\n        \"max\": 2414.0,\n        \"num_unique_values\": 2,\n        \"samples\": [\n          95.0\n        ],\n        \"semantic_type\": \"\",\n        \"description\": \"\"\n      }\n    },\n    {\n      \"column\": \"75%\",\n      \"properties\": {\n        \"dtype\": \"number\",\n        \"std\": 1993.3340161648775,\n        \"min\": 116.0,\n        \"max\": 2935.0,\n        \"num_unique_values\": 2,\n        \"samples\": [\n          116.0\n        ],\n        \"semantic_type\": \"\",\n        \"description\": \"\"\n      }\n    },\n    {\n      \"column\": \"max\",\n      \"properties\": {\n        \"dtype\": \"number\",\n        \"std\": 2671.4494193227765,\n        \"min\": 288.0,\n        \"max\": 4066.0,\n        \"num_unique_values\": 2,\n        \"samples\": [\n          288.0\n        ],\n        \"semantic_type\": \"\",\n        \"description\": \"\"\n      }\n    }\n  ]\n}"
            }
          },
          "metadata": {},
          "execution_count": 117
        }
      ]
    },
    {
      "cell_type": "markdown",
      "source": [
        "# Fase 4 - Modelamiento"
      ],
      "metadata": {
        "id": "RKAMwGslkbXC"
      }
    },
    {
      "cell_type": "code",
      "source": [
        "models = {\n",
        "    'Linear Regression': LinearRegression(),\n",
        "    'Decision Tree': DecisionTreeRegressor(random_state=29),\n",
        "    'Random Forest': RandomForestRegressor(random_state=29),\n",
        "    'Random Forest II': RandomForestRegressor(max_depth=5,random_state=29),\n",
        "    'Random Forest III': RandomForestRegressor(min_samples_leaf=4,random_state=29),\n",
        "}"
      ],
      "metadata": {
        "id": "wkUBnVS5pXBZ"
      },
      "execution_count": 75,
      "outputs": []
    },
    {
      "cell_type": "markdown",
      "source": [
        "## Modelo base"
      ],
      "metadata": {
        "id": "jNkityKTkg7N"
      }
    },
    {
      "cell_type": "code",
      "source": [
        "# Divide en conjunto de características (X) y variable objetivo (y)\n",
        "X = pd.DataFrame(data['enginesize'])\n",
        "y = data['price']  # La variable objetivo\n",
        "\n",
        "# Divide en conjunto de entrenamiento y prueba\n",
        "X_train, X_test, y_train, y_test = train_test_split(X, y, test_size=0.2, random_state=29)"
      ],
      "metadata": {
        "id": "aBjzQeJ3iLX3"
      },
      "execution_count": 99,
      "outputs": []
    },
    {
      "cell_type": "code",
      "source": [
        "print(f\"{'Shape del set de entrenamiento':<30}:\", X_train.shape)\n",
        "print(f\"{'Shape del set de prueba':<30}:\", X_test.shape)"
      ],
      "metadata": {
        "colab": {
          "base_uri": "https://localhost:8080/"
        },
        "id": "kqhqv0ayigZn",
        "outputId": "00899e65-9c0f-4156-8a80-ccdcad4ec643"
      },
      "execution_count": 101,
      "outputs": [
        {
          "output_type": "stream",
          "name": "stdout",
          "text": [
            "Shape del set de entrenamiento: (164, 1)\n",
            "Shape del set de prueba       : (41, 1)\n"
          ]
        }
      ]
    },
    {
      "cell_type": "code",
      "source": [
        "# Diccionario para guardar los modelos entrenados\n",
        "trained_models = {}\n",
        "history = {}\n",
        "\n",
        "for name, model in models.items():\n",
        "  pipeline = Pipeline(steps=[('model', model)])\n",
        "  pipeline.fit(X_train, y_train)\n",
        "  # Guardar el modelo entrenado en el diccionario\n",
        "  trained_models[name] = pipeline\n",
        "  y_pred = pipeline.predict(X_test)\n",
        "  mae = mean_absolute_error(y_test, y_pred)\n",
        "  msle = mean_squared_log_error(y_test, y_pred)\n",
        "  r2 = r2_score(y_test, y_pred)\n",
        "  score_train = model.score(X_train, y_train)\n",
        "  print(f'{name:<20} - MAE: {mae:.2f} - MSLE: {msle:.4f} - R² test: {r2:.4f} - R² train: {score_train:.4f}')\n",
        "  # Guarda resultados\n",
        "  history[name] = [model, model.score(X_test, y_test),score_train, mae, msle]"
      ],
      "metadata": {
        "colab": {
          "base_uri": "https://localhost:8080/"
        },
        "id": "HSxfGvZX9_nt",
        "outputId": "b870f37a-c623-45ed-d04f-bab40651414b"
      },
      "execution_count": 102,
      "outputs": [
        {
          "output_type": "stream",
          "name": "stdout",
          "text": [
            "Linear Regression    - MAE: 2685.13 - MSLE: 0.0999 - R² test: 0.6237 - R² train: 0.7800\n",
            "Decision Tree        - MAE: 2512.52 - MSLE: 0.0673 - R² test: 0.6727 - R² train: 0.9519\n",
            "Random Forest        - MAE: 2487.73 - MSLE: 0.0657 - R² test: 0.6849 - R² train: 0.9476\n",
            "Random Forest II     - MAE: 2338.33 - MSLE: 0.0542 - R² test: 0.7350 - R² train: 0.9340\n",
            "Random Forest III    - MAE: 2387.75 - MSLE: 0.0585 - R² test: 0.7365 - R² train: 0.9053\n"
          ]
        }
      ]
    },
    {
      "cell_type": "code",
      "source": [
        "def visualiza_resultados(history : dict):\n",
        "  # Extraer los nombres de los modelos y los resultados almacenados en 'history'\n",
        "  model_names = list(history.keys())\n",
        "  mae_values = [history[name][3] for name in model_names]  # MAE\n",
        "  msle_values = [history[name][4] for name in model_names]  # MSLE\n",
        "  r2_test_values = [history[name][1] for name in model_names]  # R² test\n",
        "  r2_train_values = [history[name][2] for name in model_names]  # R² train\n",
        "\n",
        "  # Crear subplots para los gráficos\n",
        "  fig, axs = plt.subplots(1, 3, figsize=(18, 6))\n",
        "\n",
        "  # Gráfico de MAE\n",
        "  axs[0].barh(model_names, mae_values, color='skyblue')\n",
        "  axs[0].set_title('MAE por Modelo', fontsize=14, fontweight=\"bold\")\n",
        "  axs[0].set_xlabel('MAE', fontsize=12, fontweight=\"bold\")\n",
        "  axs[0].invert_yaxis()\n",
        "\n",
        "  # Gráfico de MSLE\n",
        "  axs[1].barh(model_names, msle_values, color='#87ceeb')\n",
        "  axs[1].set_title('MSLE por Modelo', fontsize=14, fontweight=\"bold\")\n",
        "  axs[1].set_xlabel('MSLE', fontsize=12, fontweight=\"bold\")\n",
        "  axs[1].invert_yaxis()\n",
        "\n",
        "  # Gráfico de R² (test y train)\n",
        "  width = 0.35  # Ancho de las barras\n",
        "  x = np.arange(len(model_names))\n",
        "\n",
        "  axs[2].bar(x - width/2, r2_train_values, width, label='R² Train', color='#4682b4')\n",
        "  axs[2].bar(x + width/2, r2_test_values, width, label='R² Test', color='#5f9ea0')\n",
        "  axs[2].set_xticks(x)\n",
        "  axs[2].set_xticklabels(model_names, rotation=45)\n",
        "  axs[2].set_title('R² por Modelo', fontsize=14, fontweight=\"bold\")\n",
        "  axs[2].set_ylabel('R² Score', fontsize=12, fontweight=\"bold\")\n",
        "  axs[2].legend()\n",
        "\n",
        "  # Agregar el supertítulo\n",
        "  plt.suptitle('Comparación de Modelos de Regresión', fontsize=18, fontweight=\"bold\")\n",
        "\n",
        "  plt.tight_layout(rect=[0, 0, 1, 0.95])\n",
        "  plt.show()\n"
      ],
      "metadata": {
        "id": "hLaxTuq9AQuV"
      },
      "execution_count": 24,
      "outputs": []
    },
    {
      "cell_type": "code",
      "source": [
        "visualiza_resultados(history)"
      ],
      "metadata": {
        "colab": {
          "base_uri": "https://localhost:8080/",
          "height": 337
        },
        "id": "ub81pwfzBZSM",
        "outputId": "e55bec6e-da69-4710-93e5-34e5eeee749f"
      },
      "execution_count": 79,
      "outputs": [
        {
          "output_type": "display_data",
          "data": {
            "text/plain": [
              "<Figure size 1800x600 with 3 Axes>"
            ],
            "image/png": "[encoded data removed]"
          },
          "metadata": {}
        }
      ]
    },
    {
      "cell_type": "markdown",
      "source": [
        "## Variante del modelo"
      ],
      "metadata": {
        "id": "5CvcMufyknin"
      }
    },
    {
      "cell_type": "code",
      "source": [
        "limite = 0.8  # Este valor define el límite correlación\n",
        "\n",
        "# Filtra las variables que tengan una correlación superior al límite absoluto\n",
        "correlaciones_altas = corr_matrix[\"price\"].apply(lambda x: abs(x) > limite)\n",
        "\n",
        "# Muestra las variables que superan el límite de correlación con \"price\"\n",
        "seleccionadas = corr_matrix[\"price\"][correlaciones_altas].sort_values(ascending=False).index.tolist()\n",
        "\n",
        "# Elimina \"price\" de la lista de variables correlacionadas, ya que no es una característica de entrada\n",
        "seleccionadas.remove(\"price\")\n",
        "# Crea un nuevo conjunto de datos solo con las variables correlacionadas y el target \"price\"\n",
        "data_correlacion = data[seleccionadas + ['price']]\n",
        "\n",
        "# Divide en conjunto de características (X) y variable objetivo (y)\n",
        "X_new = data_correlacion[seleccionadas]  # Las columnas correlacionadas\n",
        "y_new = data_correlacion['price']  # La variable objetivo\n",
        "\n",
        "# Divide en conjunto de entrenamiento y prueba\n",
        "X_train_new, X_test_new, y_train_new, y_test_new = train_test_split(X_new, y_new,\n",
        "                                                                    test_size=0.2,\n",
        "                                                                    random_state=29)\n",
        "# Verifica los datos\n",
        "print(f\"{'Variables con mayor correlación':<33}:\", seleccionadas)\n",
        "print(f\"{'Shape del set de entrenamiento':<33}:\", X_train_new.shape)\n",
        "print(f\"{'Shape del set de prueba':<33}:\", X_test_new.shape)"
      ],
      "metadata": {
        "colab": {
          "base_uri": "https://localhost:8080/"
        },
        "id": "EYX5gnuNgn5w",
        "outputId": "b21e91e6-344c-4a5e-a01a-00d2bd32e94b"
      },
      "execution_count": 57,
      "outputs": [
        {
          "output_type": "stream",
          "name": "stdout",
          "text": [
            "Variables con mayor correlación  : ['enginesize', 'curbweight', 'horsepower']\n",
            "Shape del set de entrenamiento   : (164, 3)\n",
            "Shape del set de prueba          : (41, 3)\n"
          ]
        }
      ]
    },
    {
      "cell_type": "code",
      "source": [
        "# Diccionario para guardar los modelos entrenados\n",
        "trained_models_x = {}\n",
        "history_x = {}\n",
        "for name, model in models.items():\n",
        "    pipeline = Pipeline(steps=[('model', model)])\n",
        "    pipeline.fit(X_train_new, y_train_new)\n",
        "    # Guardar el modelo entrenado en el diccionario\n",
        "    trained_models_x[name] = pipeline\n",
        "    y_pred = pipeline.predict(X_test_new)\n",
        "    mae = mean_absolute_error(y_test_new, y_pred)\n",
        "    msle = mean_squared_log_error(y_test_new, y_pred)\n",
        "    r2 = r2_score(y_test_new, y_pred)\n",
        "    score_train = model.score(X_train_new, y_train_new)\n",
        "    print(f'{name:<20} - MAE: {mae:.2f} - MSLE: {msle:.4f} - R² test: {r2:.4f} - R² train: {score_train:.4f}')\n",
        "    # Guarda resultados\n",
        "    history_x[name] = [model, model.score(X_test_new, y_test_new), score_train, mae, msle]"
      ],
      "metadata": {
        "colab": {
          "base_uri": "https://localhost:8080/"
        },
        "id": "FD6Q-ITK_sRV",
        "outputId": "1191616b-050b-4e20-b070-7820c320b37f"
      },
      "execution_count": 66,
      "outputs": [
        {
          "output_type": "stream",
          "name": "stdout",
          "text": [
            "Linear Regression    - MAE: 2178.92 - MSLE: 0.0504 - R² test: 0.7390 - R² train: 0.8211\n",
            "Decision Tree        - MAE: 1588.84 - MSLE: 0.0304 - R² test: 0.8335 - R² train: 0.9991\n",
            "Random Forest        - MAE: 1265.33 - MSLE: 0.0178 - R² test: 0.9115 - R² train: 0.9881\n",
            "Random Forest II     - MAE: 1457.06 - MSLE: 0.0208 - R² test: 0.8870 - R² train: 0.9664\n",
            "Random Forest III    - MAE: 1370.44 - MSLE: 0.0197 - R² test: 0.9026 - R² train: 0.9502\n"
          ]
        }
      ]
    },
    {
      "cell_type": "code",
      "source": [
        "visualiza_resultados(history_x)"
      ],
      "metadata": {
        "colab": {
          "base_uri": "https://localhost:8080/",
          "height": 337
        },
        "id": "ujFpRp8PBeh8",
        "outputId": "78e55bb9-86bc-4c46-b3f8-510dd57d4f86"
      },
      "execution_count": 67,
      "outputs": [
        {
          "output_type": "display_data",
          "data": {
            "text/plain": [
              "<Figure size 1800x600 with 3 Axes>"
            ],
            "image/png": "[encoded data removed]"
          },
          "metadata": {}
        }
      ]
    },
    {
      "cell_type": "markdown",
      "source": [
        "# Fase 5 - Evaluación"
      ],
      "metadata": {
        "id": "gPn8WRFMl6Ic"
      }
    },
    {
      "cell_type": "code",
      "source": [
        "def get_bestModel(history : dict):\n",
        "  # Inicializar una variable para almacenar el mayor valor\n",
        "  mayor_valor = float('-inf')\n",
        "\n",
        "  # Recorrer el diccionario\n",
        "  for modelo, data in history.items():\n",
        "    # Comparar el segundo elemento de la lista (data[1] almacena el score) con el mayor encontrado hasta ahora\n",
        "    if data[1] > mayor_valor:\n",
        "        mayor_valor = data[1]\n",
        "        best = data[0]\n",
        "\n",
        "  return best, mayor_valor, modelo"
      ],
      "metadata": {
        "id": "AFWKYBE_gJwo"
      },
      "execution_count": 80,
      "outputs": []
    },
    {
      "cell_type": "markdown",
      "source": [
        "## Modelo base"
      ],
      "metadata": {
        "id": "2kgJA0eru2hK"
      }
    },
    {
      "cell_type": "code",
      "source": [
        "best_model, best_score, name_model = get_bestModel(history)\n",
        "print(\"El mejor rendimiento es: {0:.2%} y le corresponde a {1}\".format(best_score, name_model))"
      ],
      "metadata": {
        "colab": {
          "base_uri": "https://localhost:8080/"
        },
        "id": "kdwu7a_JgSxl",
        "outputId": "feaafaa1-daee-4f0a-8e9f-330b2bb17792"
      },
      "execution_count": 103,
      "outputs": [
        {
          "output_type": "stream",
          "name": "stdout",
          "text": [
            "El mejor rendimiento es: 73.65% y le corresponde a Random Forest III\n"
          ]
        }
      ]
    },
    {
      "cell_type": "code",
      "source": [
        "# Obtiene la cantidad de variables independientes con las que fue entrenado el modelo\n",
        "best_model.n_features_in_"
      ],
      "metadata": {
        "colab": {
          "base_uri": "https://localhost:8080/"
        },
        "id": "OzAZtNVikL6L",
        "outputId": "67b3c649-6b3f-4a9e-ffb4-8721966ef441"
      },
      "execution_count": 98,
      "outputs": [
        {
          "output_type": "execute_result",
          "data": {
            "text/plain": [
              "1"
            ]
          },
          "metadata": {},
          "execution_count": 98
        }
      ]
    },
    {
      "cell_type": "code",
      "source": [
        "# Obtiene el nombre de las variables independientes\n",
        "best_model.feature_names_in_"
      ],
      "metadata": {
        "colab": {
          "base_uri": "https://localhost:8080/"
        },
        "id": "Ws8k6PWjsg7v",
        "outputId": "fc3d4990-7619-4d67-a28f-7233dce22c0b"
      },
      "execution_count": 104,
      "outputs": [
        {
          "output_type": "execute_result",
          "data": {
            "text/plain": [
              "array(['enginesize'], dtype=object)"
            ]
          },
          "metadata": {},
          "execution_count": 104
        }
      ]
    },
    {
      "cell_type": "code",
      "source": [
        "data_new = [120]\n",
        "data_new"
      ],
      "metadata": {
        "colab": {
          "base_uri": "https://localhost:8080/"
        },
        "id": "_INw8DvYsvLG",
        "outputId": "10976e68-01d0-442b-fd7e-0fbb80b9ec3e"
      },
      "execution_count": 111,
      "outputs": [
        {
          "output_type": "execute_result",
          "data": {
            "text/plain": [
              "[120]"
            ]
          },
          "metadata": {},
          "execution_count": 111
        }
      ]
    },
    {
      "cell_type": "code",
      "source": [
        "X_data = pd.DataFrame(np.array(data_new).reshape(1,-1), columns=X_train.columns)"
      ],
      "metadata": {
        "id": "YsGxCBJ4u0pP"
      },
      "execution_count": 112,
      "outputs": []
    },
    {
      "cell_type": "code",
      "source": [
        "prediction = best_model.predict(X_data)[0]\n",
        "print(\"\\033[1m El precio del vehículo considerando un motor de tamaño {0} es ${1:.2f}\".format(data_new[0],prediction))"
      ],
      "metadata": {
        "colab": {
          "base_uri": "https://localhost:8080/"
        },
        "id": "z-7p81zEvA77",
        "outputId": "88ea5cbd-d16c-44e4-c141-c15f57f1d61f"
      },
      "execution_count": 113,
      "outputs": [
        {
          "output_type": "stream",
          "name": "stdout",
          "text": [
            "\u001b[1m El precio del vehículo considerando un motor de tamaño 120 is $14433.37\n"
          ]
        }
      ]
    },
    {
      "cell_type": "markdown",
      "source": [
        "## Variante del modelo"
      ],
      "metadata": {
        "id": "kdG2S2pqu6Tx"
      }
    },
    {
      "cell_type": "code",
      "source": [
        "best_model_x, best_score_x, name_model_x = get_bestModel(history_x)\n",
        "print(\"El mejor rendimiento es: {0:.2%} y le corresponde a {1}\".format(best_score_x, name_model_x))"
      ],
      "metadata": {
        "colab": {
          "base_uri": "https://localhost:8080/"
        },
        "id": "oPttVBaagXHG",
        "outputId": "a21b00a1-7e9d-4869-f022-c81b9413a308"
      },
      "execution_count": 114,
      "outputs": [
        {
          "output_type": "stream",
          "name": "stdout",
          "text": [
            "El mejor rendimiento es: 91.15% y le corresponde a Random Forest III\n"
          ]
        }
      ]
    },
    {
      "cell_type": "code",
      "source": [
        "# Obtiene el nombre de las variables independientes\n",
        "best_model_x.feature_names_in_"
      ],
      "metadata": {
        "colab": {
          "base_uri": "https://localhost:8080/"
        },
        "id": "dSoT-uI7jd8Y",
        "outputId": "91fdb480-dd3b-4e79-dfe1-cbb9cdeb366a"
      },
      "execution_count": 115,
      "outputs": [
        {
          "output_type": "execute_result",
          "data": {
            "text/plain": [
              "array(['enginesize', 'curbweight', 'horsepower'], dtype=object)"
            ]
          },
          "metadata": {},
          "execution_count": 115
        }
      ]
    },
    {
      "cell_type": "code",
      "source": [
        "data_new = [120, 95, 2414]\n",
        "data_new"
      ],
      "metadata": {
        "colab": {
          "base_uri": "https://localhost:8080/"
        },
        "id": "-NL0usjKjWbj",
        "outputId": "5b903a6d-892f-4d04-b4e3-2ead7642fe42"
      },
      "execution_count": 118,
      "outputs": [
        {
          "output_type": "execute_result",
          "data": {
            "text/plain": [
              "[120, 95, 2414]"
            ]
          },
          "metadata": {},
          "execution_count": 118
        }
      ]
    },
    {
      "cell_type": "code",
      "source": [
        "X_data_new = pd.DataFrame(np.array(data_new).reshape(1,-1), columns=X_train_new.columns)"
      ],
      "metadata": {
        "id": "bC6Vf9H6wuVn"
      },
      "execution_count": 119,
      "outputs": []
    },
    {
      "cell_type": "code",
      "source": [
        "prediction = best_model_x.predict(X_data_new)[0]\n",
        "print(\"\\033[1m El precio del vehículo considerando\\n\\tMotor de tamaño {0}\\n\\tPeso de {1}\\n\\t{2} Caballos fuerza es ${3:.2f}\".format(data_new[0],\n",
        "                                                                                                                                    data_new[1], data_new[2], prediction))"
      ],
      "metadata": {
        "colab": {
          "base_uri": "https://localhost:8080/"
        },
        "id": "gf4nT6Unw0nw",
        "outputId": "1d9706c3-8231-4020-fe95-194cb804a869"
      },
      "execution_count": 123,
      "outputs": [
        {
          "output_type": "stream",
          "name": "stdout",
          "text": [
            "\u001b[1m El precio del vehículo considerando\n",
            "\tMotor de tamaño 120\n",
            "\tPeso de 95\n",
            "\t2414 Caballos fuerza es $8226.24\n"
          ]
        }
      ]
    },
    {
      "cell_type": "markdown",
      "source": [
        "# Desafío\n",
        "\n",
        "+ Genere versiones de los modelos predictivos de forma que incluyan variables categóricas.\n",
        "\n",
        "+ Obtenga conclusiones respecto de sobreentrenamiento de los modelos obtenidos."
      ],
      "metadata": {
        "id": "WusJSCvtDwK1"
      }
    }
  ]
}